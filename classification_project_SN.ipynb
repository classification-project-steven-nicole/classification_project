{
 "cells": [
  {
   "cell_type": "markdown",
   "metadata": {},
   "source": [
    "# Churn Drivers"
   ]
  },
  {
   "cell_type": "code",
   "execution_count": 1,
   "metadata": {},
   "outputs": [],
   "source": [
    "from sklearn.preprocessing import MinMaxScaler\n",
    "from sklearn.model_selection import train_test_split\n",
    "from sklearn.linear_model import LogisticRegression\n",
    "import graphviz\n",
    "import pandas as pd\n",
    "import seaborn as sns\n",
    "import numpy as np\n",
    "import matplotlib.pyplot as plt\n",
    "%matplotlib inline\n",
    "from scipy.stats import ttest_ind, pearsonr\n",
    "\n",
    "\n",
    "from sklearn.linear_model import LogisticRegression\n",
    "from sklearn.tree import DecisionTreeClassifier\n",
    "from sklearn.ensemble import RandomForestClassifier\n",
    "from sklearn.neighbors import KNeighborsClassifier\n",
    "\n",
    "from sklearn.metrics import classification_report\n",
    "from sklearn.metrics import confusion_matrix\n",
    "\n",
    "\n",
    "import warnings\n",
    "warnings.filterwarnings(\"ignore\")\n",
    "import prep\n",
    "import acquire\n",
    "import env"
   ]
  },
  {
   "cell_type": "markdown",
   "metadata": {},
   "source": [
    "# Hypotheses\n",
    "\n",
    "- The month in which a customer signs up will have an impact on the rate of churn.\n",
    "- Features like internet service, type of phone service, online security and backup, senior citizens will affect the rate of churn.\n",
    "- There will be a price point on some of the serves where churn will increse.\n",
    "- The contract plan will affect the rate of churn."
   ]
  },
  {
   "cell_type": "markdown",
   "metadata": {},
   "source": [
    "# Acquisition\n"
   ]
  },
  {
   "cell_type": "code",
   "execution_count": 2,
   "metadata": {},
   "outputs": [],
   "source": [
    "# Get churn data from customers table\n",
    "df = acquire.get_telco_data()\n",
    "\n",
    " # data prep from prep.py file\n",
    "df = prep.prep_telco(df)"
   ]
  },
  {
   "cell_type": "code",
   "execution_count": 3,
   "metadata": {},
   "outputs": [],
   "source": [
    "def peekatdata(dataframe):\n",
    "    head_df = df.head()\n",
    "    tail_df = df.tail()\n",
    "    head_tail = head_df.append(tail_df)\n",
    "    print('Head and Tail\\n\\n', head_tail)\n",
    "    print('--'*55)\n",
    "    shape_tuple = df.shape\n",
    "    print('Shape\\n\\n', shape_tuple)\n",
    "    print('--'*20)\n",
    "    describe_df = df.describe()\n",
    "    print('Describe\\n\\n', describe_df)\n",
    "    print('--'*20)\n",
    "    print('Index\\n\\n', df.index)\n",
    "    print('--'*20)\n",
    "    print('Data Types\\n\\n', df.dtypes)\n",
    "    print('--'*20)\n",
    "    print('Null Value Count\\n\\n', df.isnull().sum())\n",
    "    print('--'*55)\n",
    "    print('Memory\\n\\n', df.memory_usage)"
   ]
  },
  {
   "cell_type": "markdown",
   "metadata": {},
   "source": [
    "# Data Prep\n"
   ]
  },
  {
   "cell_type": "code",
   "execution_count": 4,
   "metadata": {},
   "outputs": [],
   "source": [
    "def df_value_counts(df):\n",
    "    for col in df.columns: \n",
    "        n = df[col].unique().shape[0] \n",
    "        col_bins = min(n,10) \n",
    "        if df[col].dtype in ['int64','float64'] and n > 10:\n",
    "            print('%s:' % col)\n",
    "            print(df[col].value_counts(bins=col_bins, sort=False)) \n",
    "        else: \n",
    "            print(df[col].value_counts()) \n",
    "        print('\\n')\n"
   ]
  },
  {
   "cell_type": "markdown",
   "metadata": {},
   "source": [
    "### Missing Values\n",
    "\n",
    "We only found a few missing values in the total_charges column where tenure was 0. There was an empty string in that field so we replaced it with a 0 since a customer with 0 tenure would have 0 total charges due. Could not find any other nulls or NaNs. \n",
    "\n"
   ]
  },
  {
   "cell_type": "code",
   "execution_count": 5,
   "metadata": {},
   "outputs": [],
   "source": [
    "# Splitting the data into test and train sets\n",
    "\n",
    "X = df.drop(['churn'], axis=1)\n",
    "y = df[['churn']]\n",
    "\n",
    "X_train, X_test, y_train, y_test = train_test_split(X, y, test_size=.30, random_state=123, stratify= y)\n"
   ]
  },
  {
   "cell_type": "code",
   "execution_count": 6,
   "metadata": {},
   "outputs": [],
   "source": [
    "# Scaling the monthly and total charges to make data viz eaiser to work with\n",
    "\n",
    "scaler = MinMaxScaler()\n",
    "scaler.fit(X_train[['monthly_charges', 'total_charges']])\n",
    "\n",
    "X_train[['monthly_charges', 'total_charges']] = scaler.transform(X_train[['monthly_charges', 'total_charges']])\n",
    "X_test[['monthly_charges', 'total_charges']] = scaler.transform(X_test[['monthly_charges', 'total_charges']])"
   ]
  },
  {
   "cell_type": "code",
   "execution_count": 7,
   "metadata": {},
   "outputs": [],
   "source": [
    "train = pd.concat([X_train, y_train], axis=1)\n",
    "test = pd.concat([X_test, y_test], axis=1)"
   ]
  },
  {
   "cell_type": "markdown",
   "metadata": {},
   "source": [
    "# Data Exploration\n"
   ]
  },
  {
   "cell_type": "code",
   "execution_count": 8,
   "metadata": {},
   "outputs": [],
   "source": [
    "train['cumsum_churn'] = train.churn.cumsum()\n",
    "train['rate_churn'] = train.cumsum_churn/train.churn.count()"
   ]
  },
  {
   "cell_type": "code",
   "execution_count": 9,
   "metadata": {},
   "outputs": [
    {
     "data": {
      "image/png": "[encoded data removed]",
      "text/plain": [
       "<Figure size 576x432 with 1 Axes>"
      ]
     },
     "metadata": {
      "needs_background": "light"
     },
     "output_type": "display_data"
    }
   ],
   "source": [
    "# Checking the churn rate for tenure groups \n",
    "\n",
    "bins = [12, 24, 32, 48, 60, 72]\n",
    "train['tenure_months'] = pd.cut(train['tenure'], bins)\n",
    "\n",
    "bins = [0, 12, 24, 32, 48, 60, 72]\n",
    "labels = ['12', '24', '32', '48', '60', '72']\n",
    "train['tenure_months'] = pd.cut(train['tenure'], bins=bins, labels=labels).where(train.churn == 1)\n",
    "\n",
    "df1 = train.groupby('tenure_months')['churn'].count()\n",
    "df1 = pd.DataFrame(df1)\n",
    "df1 = df1.reset_index()\n",
    "df1\n",
    "\n",
    "plt.figure(figsize=(8,6))\n",
    "ax = sns.lineplot(x=\"tenure_months\", y=\"churn\",data=df1)"
   ]
  },
  {
   "cell_type": "code",
   "execution_count": 10,
   "metadata": {},
   "outputs": [
    {
     "data": {
      "text/plain": [
       "<matplotlib.axes._subplots.AxesSubplot at 0x1a1b7e9e48>"
      ]
     },
     "execution_count": 10,
     "metadata": {},
     "output_type": "execute_result"
    },
    {
     "data": {
      "image/png": "[encoded data removed]",
      "text/plain": [
       "<Figure size 1296x864 with 6 Axes>"
      ]
     },
     "metadata": {
      "needs_background": "light"
     },
     "output_type": "display_data"
    }
   ],
   "source": [
    "# The features that have the highest churn rate percent\n",
    "\n",
    "plt.figure(figsize=(18,12))\n",
    "\n",
    "plt.subplot(331)\n",
    "sns.barplot(x=train.internet_service_type_id, y=train.churn)\n",
    "\n",
    "plt.subplot(332)\n",
    "sns.barplot(x=train.contract_type_id, y=train.churn)\n",
    "\n",
    "plt.subplot(333)\n",
    "sns.barplot(x=train.payment_type_id, y=train.churn)\n",
    "\n",
    "plt.subplot(334)\n",
    "sns.barplot(x=train.device_protection, y=train.churn)\n",
    "\n",
    "plt.subplot(335)\n",
    "sns.barplot(x=train.tech_support, y=train.churn)\n",
    "\n",
    "plt.subplot(336)\n",
    "sns.barplot(x=train.senior_citizen, y=train.churn)"
   ]
  },
  {
   "cell_type": "code",
   "execution_count": 11,
   "metadata": {},
   "outputs": [
    {
     "name": "stdout",
     "output_type": "stream",
     "text": [
      "Rate of churn for month-to-month: 33.53%\n",
      "Rate of churn for 1+ years: 11.48%\n"
     ]
    }
   ],
   "source": [
    "# Churn rate of m2m vs 1 year contrat at the 1 year point\n",
    "\n",
    "mtm = train[train.contract_type_id == 1]\n",
    "mtm_after12 = mtm[mtm.tenure_year > 1]\n",
    "\n",
    "mtmc = mtm_after12.churn.value_counts()\n",
    "mtmc\n",
    "\n",
    "print('Rate of churn for month-to-month: {:.2%}'.format(mtmc[1]/(mtmc[0]+mtmc[1])))\n",
    "\n",
    "one_year = train[train.contract_type_id == 2]\n",
    "one_year_after12 = one_year[one_year.tenure_year > 1]\n",
    "\n",
    "one_yearc = one_year_after12.churn.value_counts()\n",
    "one_yearc\n",
    "\n",
    "print('Rate of churn for 1+ years: {:.2%}'.format(one_yearc[1]/(one_yearc[0]+one_yearc[1])))"
   ]
  },
  {
   "cell_type": "markdown",
   "metadata": {},
   "source": [
    "Controlling for services (phone_id, internet_service_type_id, online_security_backup, device_protection, tech_support, and contract_type_id), is the mean monthly_charges of those who have churned significantly different from that of those who have not churned? (Use a t-test to answer this.)\n",
    "\n",
    "- statistic: 13.57\n",
    "- pvalue: 3.18e-41\n",
    "- From the TTest we can conclude there is a significantly difference between the two."
   ]
  },
  {
   "cell_type": "code",
   "execution_count": 12,
   "metadata": {},
   "outputs": [],
   "source": [
    "# Getting customers who have duplicate services.\n",
    "\n",
    "dups = train[train.duplicated(['phone_id', \n",
    "                               'internet_service_type_id', \n",
    "                               'online_security_backup',\n",
    "                               'device_protection', \n",
    "                               'tech_support', \n",
    "                               'contract_type_id'],\n",
    "                                keep=False)]\n"
   ]
  },
  {
   "cell_type": "code",
   "execution_count": 13,
   "metadata": {},
   "outputs": [],
   "source": [
    "# Finding the monthly_charges for the ones who have churned/not\n",
    "\n",
    "churn = dups.loc[dups['churn'] == 1]['monthly_charges']\n",
    "no_churn = dups.loc[dups['churn'] == 0]['monthly_charges']"
   ]
  },
  {
   "cell_type": "code",
   "execution_count": 14,
   "metadata": {},
   "outputs": [
    {
     "data": {
      "text/plain": [
       "Ttest_indResult(statistic=13.780089052045543, pvalue=2.039715011078695e-42)"
      ]
     },
     "execution_count": 14,
     "metadata": {},
     "output_type": "execute_result"
    }
   ],
   "source": [
    "# T test on the mean monthly_charges\n",
    "\n",
    "ttest_ind(churn,no_churn)"
   ]
  },
  {
   "cell_type": "markdown",
   "metadata": {},
   "source": [
    "How much of monthly_charges can be explained by internet_service_type? (hint: correlation test). State your hypotheses and your conclusion clearly.\n",
    "\n",
    "- hypotheses: The internet_service_type will have an impact on the amount of monthly_charges. \n",
    "- conclusion: 31.9% of the varriance in monthly_charges can be explained by the internet_service_type."
   ]
  },
  {
   "cell_type": "code",
   "execution_count": 15,
   "metadata": {},
   "outputs": [
    {
     "data": {
      "text/plain": [
       "(-0.3236727414058814, 1.3145249985768094e-120)"
      ]
     },
     "execution_count": 15,
     "metadata": {},
     "output_type": "execute_result"
    }
   ],
   "source": [
    "pearsonr(train.monthly_charges, train.internet_service_type_id)"
   ]
  },
  {
   "cell_type": "markdown",
   "metadata": {},
   "source": [
    "##### Data Viz"
   ]
  },
  {
   "cell_type": "code",
   "execution_count": 16,
   "metadata": {},
   "outputs": [],
   "source": [
    "# plt.figure(figsize=(20,20))\n",
    "# sns.heatmap(train.corr(), annot=True, cmap='Greens')"
   ]
  },
  {
   "cell_type": "code",
   "execution_count": 17,
   "metadata": {},
   "outputs": [],
   "source": [
    "# pd.crosstab(train.churn, train.contract_type_id, margins=True, normalize=True).style.background_gradient(cmap='YlOrRd')"
   ]
  },
  {
   "cell_type": "code",
   "execution_count": 18,
   "metadata": {},
   "outputs": [],
   "source": [
    "# scatter = pd.scatter_matrix(\n",
    "#      train.drop(columns=['cumsum_churn', 'rate_churn', 'tenure_months']), marker='o', s=40,\n",
    "#      hist_kwds={'bins':15},  figsize=(25,25))"
   ]
  },
  {
   "cell_type": "code",
   "execution_count": 19,
   "metadata": {},
   "outputs": [],
   "source": [
    "# sns.swarmplot(data=train, x='contract_type_id', y='monthly_charges', hue='churn')\n",
    "# plt.legend(bbox_to_anchor=(1.05, 1), loc=2, borderaxespad=0.)"
   ]
  },
  {
   "cell_type": "code",
   "execution_count": 20,
   "metadata": {},
   "outputs": [],
   "source": [
    "# sns.pairplot(data=train.drop(columns=['cumsum_churn', 'rate_churn', 'tenure_months']))"
   ]
  },
  {
   "cell_type": "code",
   "execution_count": 21,
   "metadata": {},
   "outputs": [],
   "source": [
    "# sns.jointplot(x=train.monthly_charges, y=train.rate_churn, data=train)"
   ]
  },
  {
   "cell_type": "code",
   "execution_count": 22,
   "metadata": {},
   "outputs": [],
   "source": [
    "# sns.relplot(data=train, x='tenure', y='total_charges', hue='churn')"
   ]
  },
  {
   "cell_type": "code",
   "execution_count": 23,
   "metadata": {},
   "outputs": [],
   "source": [
    "# sns.distplot(train.tenure)"
   ]
  },
  {
   "cell_type": "code",
   "execution_count": 24,
   "metadata": {},
   "outputs": [],
   "source": [
    "# sns.distplot(train.contract_type_id)"
   ]
  },
  {
   "cell_type": "code",
   "execution_count": 25,
   "metadata": {},
   "outputs": [],
   "source": [
    "# sns.boxplot(data=train[['monthly_charges', 'total_charges']])"
   ]
  },
  {
   "cell_type": "code",
   "execution_count": 26,
   "metadata": {},
   "outputs": [],
   "source": [
    "# with sns.axes_style('white'):\n",
    "#     j = sns.jointplot(\"monthly_charges\", \"churn\", data=train, kind='reg', height=5);\n",
    "#     j.annotate(pearsonr)\n",
    "# plt.show()"
   ]
  },
  {
   "cell_type": "code",
   "execution_count": 27,
   "metadata": {},
   "outputs": [],
   "source": [
    "# g = sns.PairGrid(train.drop(columns=['cumsum_churn', 'rate_churn', 'tenure_months']))\n",
    "# g.map_diag(plt.hist)\n",
    "# g.map_offdiag(plt.scatter);"
   ]
  },
  {
   "cell_type": "markdown",
   "metadata": {},
   "source": [
    "### Exploration Conclusions\n",
    "\n",
    "- According to the above, the variables that do not have a strong enough correlation are gender, steaming services, house type,  and phone_id. We will drop these for our analysis. \n",
    "- The variables that do have a significant effect on churn rate are internet_service_type_id, contract_type_id, payment_type_id, device_protection, tech_support, and senior_citizen. We will focus on these features.  \n",
    "---\n",
    "- internet_service_type_id: Faster plans have higher cost and higher monthly bills drive churn.\n",
    "- contract_type_id: month to month have the freedom to churn whenever so if they have higher monthly bills they are free to leave. \n",
    "- payment_type_id: \n",
    "- device_protection: Broken devices can lead them to leave \n",
    "- tech_support: No support can leadto frustration and cause them to churn\n",
    "- senior_citizen: More likely to stop service for health/moving issues."
   ]
  },
  {
   "cell_type": "markdown",
   "metadata": {},
   "source": [
    "### Feature Engineer\n",
    "\n",
    "- total_charges can be found from combing tenure and monthly_charges so we will drop that one to avoid repeating data\n"
   ]
  },
  {
   "cell_type": "code",
   "execution_count": 28,
   "metadata": {},
   "outputs": [],
   "source": [
    "# Dropping explore columns that won't be used in modeling \n",
    "\n",
    "train = train.drop(columns= ['total_charges',\n",
    "          'tenure_year',\n",
    "          'household_type_id',\n",
    "          'streaming_services',\n",
    "          'phone_id',\n",
    "          'online_security_backup',\n",
    "          'gender',\n",
    "          'cumsum_churn',\n",
    "          'rate_churn',\n",
    "          'tenure_months',\n",
    "          'senior_citizen',\n",
    "          'paperless_billing',\n",
    "          'payment_type_id',\n",
    "           'device_protection',\n",
    "           'tech_support',\n",
    "           'tenure'], axis=1)\n",
    "\n",
    "test = test.drop(columns= ['total_charges',\n",
    "          'tenure_year',\n",
    "          'household_type_id',\n",
    "          'streaming_services',\n",
    "          'phone_id',\n",
    "          'online_security_backup',\n",
    "          'gender',\n",
    "          'senior_citizen',\n",
    "          'paperless_billing',\n",
    "          'payment_type_id',\n",
    "           'device_protection',\n",
    "           'tech_support',\n",
    "           'tenure'], axis=1)"
   ]
  },
  {
   "cell_type": "markdown",
   "metadata": {},
   "source": [
    "# Modeling"
   ]
  },
  {
   "cell_type": "markdown",
   "metadata": {},
   "source": [
    "### Logistic Regression"
   ]
  },
  {
   "cell_type": "code",
   "execution_count": 29,
   "metadata": {},
   "outputs": [
    {
     "name": "stdout",
     "output_type": "stream",
     "text": [
      "Confusion Matrix \n",
      "\n",
      "          Pred -  Pred +\n",
      "Actual -    3622       0\n",
      "Actual +       0    1308\n",
      "\n",
      "Classification Report - Train \n",
      "\n",
      "              precision    recall  f1-score   support\n",
      "\n",
      "           0       1.00      1.00      1.00      3622\n",
      "           1       1.00      1.00      1.00      1308\n",
      "\n",
      "   micro avg       1.00      1.00      1.00      4930\n",
      "   macro avg       1.00      1.00      1.00      4930\n",
      "weighted avg       1.00      1.00      1.00      4930\n",
      "\n",
      "\n",
      "Accuracy of Decision Tree classifier on training set: 1.00\n",
      "False Positive Rate: 0.00\n",
      "False Negatice Rate: 0.00\n",
      "\n",
      "\n",
      "Classification Report - Test \n",
      "\n",
      "              precision    recall  f1-score   support\n",
      "\n",
      "           0       1.00      1.00      1.00      1552\n",
      "           1       1.00      1.00      1.00       561\n",
      "\n",
      "   micro avg       1.00      1.00      1.00      2113\n",
      "   macro avg       1.00      1.00      1.00      2113\n",
      "weighted avg       1.00      1.00      1.00      2113\n",
      "\n",
      "Accuracy of Decision Tree classifier on test set: 1.00\n"
     ]
    }
   ],
   "source": [
    "# All Features and no hyperparameters \n",
    "\n",
    "logis = LogisticRegression(random_state=123)\n",
    "\n",
    "logis.fit(train.drop(columns=['customer_id'], axis=1), y_train)\n",
    "\n",
    "y_pred_logis = logis.predict(train.drop(columns=['customer_id'], axis=1))\n",
    "\n",
    "print('Confusion Matrix \\n')\n",
    "cm_fancy = pd.DataFrame(confusion_matrix(y_train, y_pred_logis),\n",
    "            columns=['Pred -', 'Pred +'], index=['Actual -', 'Actual +'])\n",
    "print(cm_fancy)\n",
    "\n",
    "print('\\nClassification Report - Train \\n')\n",
    "print(classification_report(y_train, y_pred_logis))\n",
    "\n",
    "print('\\nAccuracy of Decision Tree classifier on training set: {:.2f}'\n",
    "     .format(logis.score(train.drop(columns=['customer_id'], axis=1), y_train)))\n",
    "\n",
    "cm = confusion_matrix(y_train, y_pred_logis)\n",
    "tn = cm[0,0]\n",
    "tp = cm[1,1]\n",
    "fn = cm[1,0]\n",
    "fp = cm[0,1]\n",
    "total = cm.sum()\n",
    "print('False Positive Rate: {:.2f}'.format((fp/(fp + tn))*100))\n",
    "print('False Negatice Rate: {:.2f}\\n'.format((fn/(fn + tp))*100))\n",
    "\n",
    "y_pred_logis_test = logis.predict(test.drop(columns=['customer_id'], axis=1))\n",
    "\n",
    "print('\\nClassification Report - Test \\n')\n",
    "print(classification_report(y_test, y_pred_logis_test))\n",
    "\n",
    "print('Accuracy of Decision Tree classifier on test set: {:.2f}'\n",
    "     .format(logis.score(test.drop(columns=['customer_id'], axis=1), y_test)))"
   ]
  },
  {
   "cell_type": "markdown",
   "metadata": {},
   "source": [
    "- Accuracy is ok but False Negative Rate  is bad as well as recall in test"
   ]
  },
  {
   "cell_type": "code",
   "execution_count": 30,
   "metadata": {},
   "outputs": [
    {
     "name": "stdout",
     "output_type": "stream",
     "text": [
      "Confusion Matrix \n",
      "\n",
      "          Pred -  Pred +\n",
      "Actual -    2396    1226\n",
      "Actual +     246    1062\n",
      "\n",
      "Classification Report - Train \n",
      "\n",
      "              precision    recall  f1-score   support\n",
      "\n",
      "           0       0.91      0.66      0.77      3622\n",
      "           1       0.46      0.81      0.59      1308\n",
      "\n",
      "   micro avg       0.70      0.70      0.70      4930\n",
      "   macro avg       0.69      0.74      0.68      4930\n",
      "weighted avg       0.79      0.70      0.72      4930\n",
      "\n",
      "\n",
      "Accuracy of Decision Tree classifier on training set: 0.70\n",
      "False Positive Rate: 33.85\n",
      "False Negatice Rate: 18.81\n",
      "\n",
      "\n",
      "Classification Report - Test \n",
      "\n",
      "              precision    recall  f1-score   support\n",
      "\n",
      "           0       1.00      1.00      1.00      1552\n",
      "           1       1.00      1.00      1.00       561\n",
      "\n",
      "   micro avg       1.00      1.00      1.00      2113\n",
      "   macro avg       1.00      1.00      1.00      2113\n",
      "weighted avg       1.00      1.00      1.00      2113\n",
      "\n",
      "Accuracy of Decision Tree classifier on test set: 0.71\n"
     ]
    }
   ],
   "source": [
    "# Selecting just internet_service_type_id, contract_type_id, monthly_charges and some hyperparameters.\n",
    "\n",
    "logis = LogisticRegression(C=1, class_weight='balanced', random_state = 123, solver='saga')\n",
    "\n",
    "logis.fit(train[['internet_service_type_id',\n",
    "               'contract_type_id',\n",
    "               'monthly_charges']], y_train)\n",
    "\n",
    "y_pred_logis = logis.predict(train[['internet_service_type_id', \n",
    "                                'contract_type_id', \n",
    "                                'monthly_charges']])\n",
    "\n",
    "print('Confusion Matrix \\n')\n",
    "cm_fancy = pd.DataFrame(confusion_matrix(y_train, y_pred_logis),\n",
    "            columns=['Pred -', 'Pred +'], index=['Actual -', 'Actual +'])\n",
    "print(cm_fancy)\n",
    "\n",
    "print('\\nClassification Report - Train \\n')\n",
    "print(classification_report(y_train, y_pred_logis))\n",
    "\n",
    "print('\\nAccuracy of Decision Tree classifier on training set: {:.2f}'\n",
    "     .format(logis.score(train[['internet_service_type_id', \n",
    "                               'contract_type_id', \n",
    "                               'monthly_charges']], y_train)))\n",
    "\n",
    "cm = confusion_matrix(y_train, y_pred_logis)\n",
    "tn = cm[0,0]\n",
    "tp = cm[1,1]\n",
    "fn = cm[1,0]\n",
    "fp = cm[0,1]\n",
    "total = cm.sum()\n",
    "print('False Positive Rate: {:.2f}'.format((fp/(fp + tn))*100))\n",
    "print('False Negatice Rate: {:.2f}\\n'.format((fn/(fn + tp))*100))\n",
    "\n",
    "y_pred_dtc_test = logis.predict(test[['internet_service_type_id', \n",
    "                                    'contract_type_id', \n",
    "                                    'monthly_charges']])\n",
    "\n",
    "print('\\nClassification Report - Test \\n')\n",
    "print(classification_report(y_test, y_pred_logis_test))\n",
    "\n",
    "print('Accuracy of Decision Tree classifier on test set: {:.2f}'\n",
    "     .format(logis.score(test[['internet_service_type_id', \n",
    "                             'contract_type_id', \n",
    "                             'monthly_charges']], y_test)))"
   ]
  },
  {
   "cell_type": "markdown",
   "metadata": {},
   "source": [
    "- Accuracy is meh but False Positive Rate is not too good and recall in test is low"
   ]
  },
  {
   "cell_type": "markdown",
   "metadata": {},
   "source": [
    "### Decision Tree"
   ]
  },
  {
   "cell_type": "code",
   "execution_count": 31,
   "metadata": {},
   "outputs": [
    {
     "name": "stdout",
     "output_type": "stream",
     "text": [
      "Confusion Matrix \n",
      "\n",
      "          Pred -  Pred +\n",
      "Actual -    3622       0\n",
      "Actual +       0    1308\n",
      "\n",
      "Classification Report - Train \n",
      "\n",
      "              precision    recall  f1-score   support\n",
      "\n",
      "           0       1.00      1.00      1.00      3622\n",
      "           1       1.00      1.00      1.00      1308\n",
      "\n",
      "   micro avg       1.00      1.00      1.00      4930\n",
      "   macro avg       1.00      1.00      1.00      4930\n",
      "weighted avg       1.00      1.00      1.00      4930\n",
      "\n",
      "\n",
      "Accuracy of Decision Tree classifier on training set: 1.00\n",
      "False Positive Rate: 0.00\n",
      "False Negatice Rate: 0.00\n",
      "\n",
      "\n",
      "Classification Report - Test \n",
      "\n",
      "              precision    recall  f1-score   support\n",
      "\n",
      "           0       1.00      1.00      1.00      1552\n",
      "           1       1.00      1.00      1.00       561\n",
      "\n",
      "   micro avg       1.00      1.00      1.00      2113\n",
      "   macro avg       1.00      1.00      1.00      2113\n",
      "weighted avg       1.00      1.00      1.00      2113\n",
      "\n",
      "Accuracy of Decision Tree classifier on test set: 1.00\n"
     ]
    }
   ],
   "source": [
    "# All Features and no hyperparameters \n",
    "\n",
    "dtc = DecisionTreeClassifier(random_state=123)\n",
    "\n",
    "dtc.fit(train.drop(columns=['customer_id'], axis=1), y_train)\n",
    "\n",
    "y_pred_dtc = dtc.predict(train.drop(columns=['customer_id'], axis=1))\n",
    "\n",
    "print('Confusion Matrix \\n')\n",
    "cm_fancy = pd.DataFrame(confusion_matrix(y_train, y_pred_dtc),\n",
    "            columns=['Pred -', 'Pred +'], index=['Actual -', 'Actual +'])\n",
    "print(cm_fancy)\n",
    "\n",
    "print('\\nClassification Report - Train \\n')\n",
    "print(classification_report(y_train, y_pred_dtc))\n",
    "\n",
    "print('\\nAccuracy of Decision Tree classifier on training set: {:.2f}'\n",
    "     .format(dtc.score(train.drop(columns=['customer_id'], axis=1), y_train)))\n",
    "\n",
    "cm = confusion_matrix(y_train, y_pred_dtc)\n",
    "tn = cm[0,0]\n",
    "tp = cm[1,1]\n",
    "fn = cm[1,0]\n",
    "fp = cm[0,1]\n",
    "total = cm.sum()\n",
    "print('False Positive Rate: {:.2f}'.format((fp/(fp + tn))*100))\n",
    "print('False Negatice Rate: {:.2f}\\n'.format((fn/(fn + tp))*100))\n",
    "\n",
    "y_pred_dtc_test = dtc.predict(test.drop(columns=['customer_id'], axis=1))\n",
    "\n",
    "print('\\nClassification Report - Test \\n')\n",
    "print(classification_report(y_test, y_pred_dtc_test))\n",
    "\n",
    "print('Accuracy of Decision Tree classifier on test set: {:.2f}'\n",
    "     .format(dtc.score(test.drop(columns=['customer_id'], axis=1), y_test)))"
   ]
  },
  {
   "cell_type": "markdown",
   "metadata": {},
   "source": [
    "- Accuracy drops a lot, False Negative Rate is bad as well as recall in test"
   ]
  },
  {
   "cell_type": "code",
   "execution_count": 32,
   "metadata": {},
   "outputs": [
    {
     "name": "stdout",
     "output_type": "stream",
     "text": [
      "Accuracy of Decision Tree classifier on training set: 0.71\n",
      "[[2420 1202]\n",
      " [ 226 1082]]\n",
      "              precision    recall  f1-score   support\n",
      "\n",
      "           0       0.91      0.67      0.77      3622\n",
      "           1       0.47      0.83      0.60      1308\n",
      "\n",
      "   micro avg       0.71      0.71      0.71      4930\n",
      "   macro avg       0.69      0.75      0.69      4930\n",
      "weighted avg       0.80      0.71      0.73      4930\n",
      "\n",
      "False Positive Rate: 33.19\n",
      "False Negatice Rate: 17.28\n",
      "Accuracy of Decision Tree classifier on test set: 0.71\n",
      "              precision    recall  f1-score   support\n",
      "\n",
      "           0       0.91      0.67      0.77      1552\n",
      "           1       0.47      0.82      0.60       561\n",
      "\n",
      "   micro avg       0.71      0.71      0.71      2113\n",
      "   macro avg       0.69      0.75      0.69      2113\n",
      "weighted avg       0.80      0.71      0.73      2113\n",
      "\n"
     ]
    }
   ],
   "source": [
    "# Selecting just internet_service_type_id, contract_type_id, monthly_charges and some hyperparameters.\n",
    "\n",
    "dtc = DecisionTreeClassifier(criterion='gini', class_weight= 'balanced', max_depth=3, random_state=123)\n",
    "dtc.fit(train[['internet_service_type_id', 'contract_type_id',\n",
    "       'monthly_charges']], y_train)\n",
    "\n",
    "y_pred_dtc = dtc.predict(train[['internet_service_type_id', 'contract_type_id',\n",
    "       'monthly_charges']])\n",
    "y_prob_dtc = dtc.predict_proba(train[['internet_service_type_id', 'contract_type_id',\n",
    "       'monthly_charges']])\n",
    "\n",
    "print('Accuracy of Decision Tree classifier on training set: {:.2f}'\n",
    "     .format(dtc.score(train[['internet_service_type_id', 'contract_type_id',\n",
    "       'monthly_charges']], y_train)))\n",
    "\n",
    "cm = confusion_matrix(y_train, y_pred_dtc)\n",
    "print(cm)\n",
    "print(classification_report(y_train, y_pred_dtc))\n",
    "tn = cm[0,0]\n",
    "tp = cm[1,1]\n",
    "fn = cm[1,0]\n",
    "fp = cm[0,1]\n",
    "total = cm.sum()\n",
    "accuracy = ((tn + tp)/total)*100\n",
    "print('False Positive Rate: {:.2f}'.format((fp/(fp + tn))*100))\n",
    "print('False Negatice Rate: {:.2f}'.format((fn/(fn + tp))*100))\n",
    "\n",
    "y_pred_dtc_test = dtc.predict(test[['internet_service_type_id', 'contract_type_id',\n",
    "       'monthly_charges']])\n",
    "y_prob_dtc_test = dtc.predict_proba(test[['internet_service_type_id', 'contract_type_id',\n",
    "       'monthly_charges']])\n",
    "\n",
    "print('Accuracy of Decision Tree classifier on test set: {:.2f}'\n",
    "     .format(dtc.score(test[['internet_service_type_id', 'contract_type_id',\n",
    "       'monthly_charges']], y_test)))\n",
    "\n",
    "print(classification_report(y_test, y_pred_dtc_test))\n"
   ]
  },
  {
   "cell_type": "markdown",
   "metadata": {},
   "source": [
    "- Accuracy is ok but False Positive Rate is ok and recall in test is great"
   ]
  },
  {
   "cell_type": "code",
   "execution_count": 33,
   "metadata": {},
   "outputs": [],
   "source": [
    "train['prediction'] = y_pred_dtc\n",
    "\n",
    "test['prediction'] = y_pred_dtc_test\n",
    "\n",
    "csv_test_pred = test[['prediction', 'customer_id']]\n",
    "\n",
    "csv_train_pred = train[['prediction', 'customer_id']]\n",
    "\n",
    "csv_predict = pd.concat([csv_test_pred, csv_train_pred])\n",
    "\n",
    "\n",
    "train['probability'] = y_prob_dtc[:, 1]\n",
    "test['probability'] = y_prob_dtc_test[:, 1]\n",
    "\n",
    "csv_test_prob1 = test[['probability', 'customer_id']]\n",
    "\n",
    "csv_train_prob1 = train[['probability', 'customer_id']]\n",
    "\n",
    "csv_prob1 = pd.concat([csv_test_prob1, csv_train_prob1])\n",
    "\n",
    "\n",
    "csv_final = csv_predict.merge(csv_prob1, on='customer_id', how='inner')\n",
    "\n",
    "csv_final.to_csv(r'/Users/stevengaris/Desktop/classification_project/csv_final.csv')"
   ]
  },
  {
   "cell_type": "code",
   "execution_count": 34,
   "metadata": {},
   "outputs": [
    {
     "data": {
      "text/plain": [
       "'telco_decision_tree.png'"
      ]
     },
     "execution_count": 34,
     "metadata": {},
     "output_type": "execute_result"
    }
   ],
   "source": [
    "# A vizulation of the tree.\n",
    "\n",
    "import graphviz\n",
    "from sklearn.tree import export_graphviz\n",
    "\n",
    "feature_names = ['internet_service_type_id',\n",
    "            'contract_type_id',\n",
    "               'monthly_charges']\n",
    "class_names = ['not_churn', 'churn']\n",
    "\n",
    "dot = export_graphviz(\n",
    "    dtc,\n",
    "    out_file=None,\n",
    "    feature_names=feature_names,\n",
    "    class_names=class_names, # target value names\n",
    "    special_characters=True,\n",
    "    filled=True,             # fill nodes w/ informative colors\n",
    "    impurity=False,          # show impurity at each node\n",
    "    leaves_parallel=True,    # all leaves at the bottom\n",
    "    proportion=True,         # show percentages instead of numbers at each leaf\n",
    "    rotate=True,             # left to right instead of top-bottom\n",
    "    rounded=True,            # rounded boxes and sans-serif font\n",
    ")\n",
    "\n",
    "graph = graphviz.Source(dot, filename='telco_decision_tree', format='png')\n",
    "graph.view(cleanup=True)\n"
   ]
  },
  {
   "cell_type": "markdown",
   "metadata": {},
   "source": [
    "### Random Forest\n"
   ]
  },
  {
   "cell_type": "code",
   "execution_count": 35,
   "metadata": {},
   "outputs": [
    {
     "name": "stdout",
     "output_type": "stream",
     "text": [
      "Confusion Matrix \n",
      "\n",
      "          Pred -  Pred +\n",
      "Actual -    3622       0\n",
      "Actual +       0    1308\n",
      "\n",
      "Classification Report - Train \n",
      "\n",
      "              precision    recall  f1-score   support\n",
      "\n",
      "           0       1.00      1.00      1.00      3622\n",
      "           1       1.00      1.00      1.00      1308\n",
      "\n",
      "   micro avg       1.00      1.00      1.00      4930\n",
      "   macro avg       1.00      1.00      1.00      4930\n",
      "weighted avg       1.00      1.00      1.00      4930\n",
      "\n",
      "\n",
      "Accuracy of Decision Tree classifier on training set: 1.00\n",
      "False Positive Rate: 0.00\n",
      "False Negatice Rate: 0.00\n",
      "\n",
      "\n",
      "Classification Report - Test \n",
      "\n",
      "              precision    recall  f1-score   support\n",
      "\n",
      "           0       1.00      1.00      1.00      1552\n",
      "           1       1.00      1.00      1.00       561\n",
      "\n",
      "   micro avg       1.00      1.00      1.00      2113\n",
      "   macro avg       1.00      1.00      1.00      2113\n",
      "weighted avg       1.00      1.00      1.00      2113\n",
      "\n",
      "Accuracy of Decision Tree classifier on test set: 1.00\n"
     ]
    }
   ],
   "source": [
    "# All Features and no hyperparameters \n",
    "\n",
    "rfc = RandomForestClassifier(random_state=123)\n",
    "\n",
    "rfc.fit(train.drop(columns=['customer_id'], axis=1), y_train)\n",
    "\n",
    "y_pred_rfc = rfc.predict(train.drop(columns=['customer_id'], axis=1))\n",
    "\n",
    "print('Confusion Matrix \\n')\n",
    "cm_fancy = pd.DataFrame(confusion_matrix(y_train, y_pred_rfc),\n",
    "            columns=['Pred -', 'Pred +'], index=['Actual -', 'Actual +'])\n",
    "print(cm_fancy)\n",
    "\n",
    "print('\\nClassification Report - Train \\n')\n",
    "print(classification_report(y_train, y_pred_rfc))\n",
    "\n",
    "print('\\nAccuracy of Decision Tree classifier on training set: {:.2f}'\n",
    "     .format(rfc.score(train.drop(columns=['customer_id'], axis=1), y_train)))\n",
    "\n",
    "cm = confusion_matrix(y_train, y_pred_rfc)\n",
    "tn = cm[0,0]\n",
    "tp = cm[1,1]\n",
    "fn = cm[1,0]\n",
    "fp = cm[0,1]\n",
    "total = cm.sum()\n",
    "print('False Positive Rate: {:.2f}'.format((fp/(fp + tn))*100))\n",
    "print('False Negatice Rate: {:.2f}\\n'.format((fn/(fn + tp))*100))\n",
    "\n",
    "y_pred_rfc_test = rfc.predict(test.drop(columns=['customer_id'], axis=1))\n",
    "\n",
    "print('\\nClassification Report - Test \\n')\n",
    "print(classification_report(y_test, y_pred_rfc_test))\n",
    "\n",
    "print('Accuracy of Decision Tree classifier on test set: {:.2f}'\n",
    "     .format(rfc.score(test.drop(columns=['customer_id'], axis=1), y_test)))"
   ]
  },
  {
   "cell_type": "markdown",
   "metadata": {},
   "source": [
    "- Accuracy drops a lot, False Rates are good, recall in test is low"
   ]
  },
  {
   "cell_type": "code",
   "execution_count": 36,
   "metadata": {},
   "outputs": [
    {
     "name": "stdout",
     "output_type": "stream",
     "text": [
      "Confusion Matrix \n",
      "\n",
      "          Pred -  Pred +\n",
      "Actual -    3030     592\n",
      "Actual +     556     752\n",
      "\n",
      "Classification Report - Train \n",
      "\n",
      "              precision    recall  f1-score   support\n",
      "\n",
      "           0       0.84      0.84      0.84      3622\n",
      "           1       0.56      0.57      0.57      1308\n",
      "\n",
      "   micro avg       0.77      0.77      0.77      4930\n",
      "   macro avg       0.70      0.71      0.70      4930\n",
      "weighted avg       0.77      0.77      0.77      4930\n",
      "\n",
      "\n",
      "Accuracy of Decision Tree classifier on training set: 0.77\n",
      "False Positive Rate: 16.34\n",
      "False Negatice Rate: 42.51\n",
      "\n",
      "\n",
      "Classification Report - Test \n",
      "\n",
      "              precision    recall  f1-score   support\n",
      "\n",
      "           0       0.84      0.84      0.84      1552\n",
      "           1       0.55      0.54      0.55       561\n",
      "\n",
      "   micro avg       0.76      0.76      0.76      2113\n",
      "   macro avg       0.69      0.69      0.69      2113\n",
      "weighted avg       0.76      0.76      0.76      2113\n",
      "\n",
      "Accuracy of Decision Tree classifier on test set: 0.76\n"
     ]
    }
   ],
   "source": [
    "# Selecting just internet_service_type_id, contract_type_id, monthly_charges and some hyperparameters.\n",
    "\n",
    "rfc = RandomForestClassifier(bootstrap=True, \n",
    "                              class_weight=None, \n",
    "                              criterion='gini',\n",
    "                              min_samples_leaf=3,\n",
    "                              n_estimators=100,\n",
    "                              max_depth=3, \n",
    "                              random_state=123)\n",
    "\n",
    "rfc.fit(train[['internet_service_type_id',\n",
    "               'contract_type_id',\n",
    "               'monthly_charges']], y_train)\n",
    "\n",
    "y_pred_rfc = rfc.predict(train[['internet_service_type_id',\n",
    "               'contract_type_id',\n",
    "               'monthly_charges']])\n",
    "\n",
    "print('Confusion Matrix \\n')\n",
    "cm_fancy = pd.DataFrame(confusion_matrix(y_train, y_pred_rfc),\n",
    "            columns=['Pred -', 'Pred +'], index=['Actual -', 'Actual +'])\n",
    "print(cm_fancy)\n",
    "\n",
    "print('\\nClassification Report - Train \\n')\n",
    "print(classification_report(y_train, y_pred_rfc))\n",
    "\n",
    "print('\\nAccuracy of Decision Tree classifier on training set: {:.2f}'\n",
    "     .format(rfc.score(train[['internet_service_type_id',\n",
    "               'contract_type_id',\n",
    "               'monthly_charges']], y_train)))\n",
    "\n",
    "cm = confusion_matrix(y_train, y_pred_rfc)\n",
    "tn = cm[0,0]\n",
    "tp = cm[1,1]\n",
    "fn = cm[1,0]\n",
    "fp = cm[0,1]\n",
    "total = cm.sum()\n",
    "print('False Positive Rate: {:.2f}'.format((fp/(fp + tn))*100))\n",
    "print('False Negatice Rate: {:.2f}\\n'.format((fn/(fn + tp))*100))\n",
    "\n",
    "y_pred_rfc_test = rfc.predict(test[['internet_service_type_id',\n",
    "               'contract_type_id',\n",
    "               'monthly_charges']])\n",
    "\n",
    "print('\\nClassification Report - Test \\n')\n",
    "print(classification_report(y_test, y_pred_rfc_test))\n",
    "\n",
    "print('Accuracy of Decision Tree classifier on test set: {:.2f}'\n",
    "     .format(rfc.score(test[['internet_service_type_id',\n",
    "               'contract_type_id',\n",
    "               'monthly_charges']], y_test)))"
   ]
  },
  {
   "cell_type": "markdown",
   "metadata": {},
   "source": [
    "- Accuracy is ok but False Negative Rate is a bit high and recall in test is bad"
   ]
  },
  {
   "cell_type": "markdown",
   "metadata": {},
   "source": [
    "### KNN"
   ]
  },
  {
   "cell_type": "code",
   "execution_count": 38,
   "metadata": {},
   "outputs": [
    {
     "name": "stdout",
     "output_type": "stream",
     "text": [
      "Confusion Matrix \n",
      "\n",
      "          Pred -  Pred +\n",
      "Actual -    3622       0\n",
      "Actual +       0    1308\n",
      "\n",
      "Classification Report - Train \n",
      "\n",
      "              precision    recall  f1-score   support\n",
      "\n",
      "           0       1.00      1.00      1.00      3622\n",
      "           1       1.00      1.00      1.00      1308\n",
      "\n",
      "   micro avg       1.00      1.00      1.00      4930\n",
      "   macro avg       1.00      1.00      1.00      4930\n",
      "weighted avg       1.00      1.00      1.00      4930\n",
      "\n",
      "\n",
      "Accuracy of Decision Tree classifier on training set: 1.00\n",
      "False Positive Rate: 0.00\n",
      "False Negatice Rate: 0.00\n",
      "\n",
      "\n",
      "Classification Report - Test \n",
      "\n",
      "              precision    recall  f1-score   support\n",
      "\n",
      "           0       1.00      1.00      1.00      1552\n",
      "           1       1.00      1.00      1.00       561\n",
      "\n",
      "   micro avg       1.00      1.00      1.00      2113\n",
      "   macro avg       1.00      1.00      1.00      2113\n",
      "weighted avg       1.00      1.00      1.00      2113\n",
      "\n",
      "Accuracy of Decision Tree classifier on test set: 1.00\n"
     ]
    }
   ],
   "source": [
    "# All Features and no hyperparameters \n",
    "\n",
    "knn = KNeighborsClassifier()\n",
    "\n",
    "knn.fit(train.drop(columns=['customer_id'], axis=1), y_train)\n",
    "\n",
    "y_pred_knn = knn.predict(train.drop(columns=['customer_id'], axis=1))\n",
    "\n",
    "print('Confusion Matrix \\n')\n",
    "cm_fancy = pd.DataFrame(confusion_matrix(y_train, y_pred_knn),\n",
    "            columns=['Pred -', 'Pred +'], index=['Actual -', 'Actual +'])\n",
    "print(cm_fancy)\n",
    "\n",
    "print('\\nClassification Report - Train \\n')\n",
    "print(classification_report(y_train, y_pred_knn))\n",
    "\n",
    "print('\\nAccuracy of Decision Tree classifier on training set: {:.2f}'\n",
    "     .format(knn.score(train.drop(columns=['customer_id'], axis=1), y_train)))\n",
    "\n",
    "cm = confusion_matrix(y_train, y_pred_knn)\n",
    "tn = cm[0,0]\n",
    "tp = cm[1,1]\n",
    "fn = cm[1,0]\n",
    "fp = cm[0,1]\n",
    "total = cm.sum()\n",
    "print('False Positive Rate: {:.2f}'.format((fp/(fp + tn))*100))\n",
    "print('False Negatice Rate: {:.2f}\\n'.format((fn/(fn + tp))*100))\n",
    "\n",
    "y_pred_knn_test = knn.predict(test.drop(columns=['customer_id'], axis=1))\n",
    "\n",
    "print('\\nClassification Report - Test \\n')\n",
    "print(classification_report(y_test, y_pred_knn_test))\n",
    "\n",
    "print('Accuracy of Decision Tree classifier on test set: {:.2f}'\n",
    "     .format(knn.score(test.drop(columns=['customer_id'], axis=1), y_test)))"
   ]
  },
  {
   "cell_type": "markdown",
   "metadata": {},
   "source": [
    "- Accuracy is ok but False Negative Rate is a bit high and recall in test is low"
   ]
  },
  {
   "cell_type": "code",
   "execution_count": 39,
   "metadata": {},
   "outputs": [
    {
     "name": "stdout",
     "output_type": "stream",
     "text": [
      "Confusion Matrix \n",
      "\n",
      "          Pred -  Pred +\n",
      "Actual -    3295     327\n",
      "Actual +     500     808\n",
      "\n",
      "Classification Report - Train \n",
      "\n",
      "              precision    recall  f1-score   support\n",
      "\n",
      "           0       0.87      0.91      0.89      3622\n",
      "           1       0.71      0.62      0.66      1308\n",
      "\n",
      "   micro avg       0.83      0.83      0.83      4930\n",
      "   macro avg       0.79      0.76      0.77      4930\n",
      "weighted avg       0.83      0.83      0.83      4930\n",
      "\n",
      "\n",
      "Accuracy of Decision Tree classifier on training set: 0.83\n",
      "False Positive Rate: 9.03\n",
      "False Negatice Rate: 38.23\n",
      "\n",
      "\n",
      "Classification Report - Test \n",
      "\n",
      "              precision    recall  f1-score   support\n",
      "\n",
      "           0       0.79      0.85      0.82      1552\n",
      "           1       0.49      0.39      0.43       561\n",
      "\n",
      "   micro avg       0.73      0.73      0.73      2113\n",
      "   macro avg       0.64      0.62      0.63      2113\n",
      "weighted avg       0.71      0.73      0.72      2113\n",
      "\n",
      "Accuracy of Decision Tree classifier on test set: 0.73\n"
     ]
    }
   ],
   "source": [
    "# Selecting just internet_service_type_id, contract_type_id, monthly_charges and some hyperparameters.\n",
    "\n",
    "knn = KNeighborsClassifier(n_neighbors=3, weights='uniform')\n",
    "\n",
    "knn.fit(train[['internet_service_type_id',\n",
    "               'contract_type_id',\n",
    "               'monthly_charges']], y_train)\n",
    "\n",
    "y_pred_knn = knn.predict(train[['internet_service_type_id',\n",
    "               'contract_type_id',\n",
    "               'monthly_charges']])\n",
    "\n",
    "print('Confusion Matrix \\n')\n",
    "cm_fancy = pd.DataFrame(confusion_matrix(y_train, y_pred_knn),\n",
    "            columns=['Pred -', 'Pred +'], index=['Actual -', 'Actual +'])\n",
    "print(cm_fancy)\n",
    "\n",
    "print('\\nClassification Report - Train \\n')\n",
    "print(classification_report(y_train, y_pred_knn))\n",
    "\n",
    "print('\\nAccuracy of Decision Tree classifier on training set: {:.2f}'\n",
    "     .format(knn.score(train[['internet_service_type_id',\n",
    "               'contract_type_id',\n",
    "               'monthly_charges']], y_train)))\n",
    "\n",
    "cm = confusion_matrix(y_train, y_pred_knn)\n",
    "tn = cm[0,0]\n",
    "tp = cm[1,1]\n",
    "fn = cm[1,0]\n",
    "fp = cm[0,1]\n",
    "total = cm.sum()\n",
    "print('False Positive Rate: {:.2f}'.format((fp/(fp + tn))*100))\n",
    "print('False Negatice Rate: {:.2f}\\n'.format((fn/(fn + tp))*100))\n",
    "\n",
    "y_pred_knn_test = knn.predict(test[['internet_service_type_id',\n",
    "               'contract_type_id',\n",
    "               'monthly_charges']])\n",
    "\n",
    "print('\\nClassification Report - Test \\n')\n",
    "print(classification_report(y_test, y_pred_knn_test))\n",
    "\n",
    "print('Accuracy of Decision Tree classifier on test set: {:.2f}'\n",
    "     .format(knn.score(test[['internet_service_type_id',\n",
    "               'contract_type_id',\n",
    "               'monthly_charges']], y_test)))"
   ]
  },
  {
   "cell_type": "markdown",
   "metadata": {},
   "source": [
    "- Accuracy is ok but False Negative Rate is a bit high and recall in test is low"
   ]
  },
  {
   "cell_type": "code",
   "execution_count": 42,
   "metadata": {},
   "outputs": [
    {
     "data": {
      "text/plain": [
       "([<matplotlib.axis.XTick at 0x1a1b61f4a8>,\n",
       "  <matplotlib.axis.XTick at 0x1a1b652470>,\n",
       "  <matplotlib.axis.XTick at 0x1a1b652828>,\n",
       "  <matplotlib.axis.XTick at 0x1a1bb358d0>,\n",
       "  <matplotlib.axis.XTick at 0x1a1bb35cf8>],\n",
       " <a list of 5 Text xticklabel objects>)"
      ]
     },
     "execution_count": 42,
     "metadata": {},
     "output_type": "execute_result"
    },
    {
     "data": {
      "image/png": "[encoded data removed]",
      "text/plain": [
       "<Figure size 432x288 with 1 Axes>"
      ]
     },
     "metadata": {
      "needs_background": "light"
     },
     "output_type": "display_data"
    }
   ],
   "source": [
    "# Printing a graph of accuracy for each addition k neighbor\n",
    "\n",
    "k_range = range(1, 20)\n",
    "scores = []\n",
    "for k in k_range:\n",
    "    knn = KNeighborsClassifier(n_neighbors = k)\n",
    "    knn.fit(train.drop(columns=['customer_id'], axis=1), y_train)\n",
    "    scores.append(knn.score(train.drop(columns=['customer_id'], axis=1), y_train))\n",
    "plt.figure()\n",
    "plt.xlabel('k')\n",
    "plt.ylabel('accuracy')\n",
    "plt.scatter(k_range, scores)\n",
    "plt.xticks([0,5,10,15,20])\n"
   ]
  },
  {
   "cell_type": "markdown",
   "metadata": {},
   "source": [
    "# Conclusion\n",
    "\n",
    "- The decision tree with a few features and hyperparamaters selected returned the best test results.\n",
    "- Train and Test accuracy is 71% so no overfitting. \n",
    "- A moderatly low False Positive Rate of 33.19%.\n",
    "- A pretty low False Negatice Rate of 17.28%. \n",
    "- Recall on churn was 82% and non-churn was 67%.\n",
    "- We can conclude that internet_service_type_id, contract_type_id, and monthly_charges have large impact on the rate of churn.\n",
    "\n"
   ]
  },
  {
   "cell_type": "code",
   "execution_count": null,
   "metadata": {},
   "outputs": [],
   "source": []
  },
  {
   "cell_type": "code",
   "execution_count": null,
   "metadata": {},
   "outputs": [],
   "source": []
  },
  {
   "cell_type": "code",
   "execution_count": null,
   "metadata": {},
   "outputs": [],
   "source": []
  }
 ],
 "metadata": {
  "kernelspec": {
   "display_name": "Python 3",
   "language": "python",
   "name": "python3"
  },
  "language_info": {
   "codemirror_mode": {
    "name": "ipython",
    "version": 3
   },
   "file_extension": ".py",
   "mimetype": "text/x-python",
   "name": "python",
   "nbconvert_exporter": "python",
   "pygments_lexer": "ipython3",
   "version": "3.7.1"
  }
 },
 "nbformat": 4,
 "nbformat_minor": 2
}
