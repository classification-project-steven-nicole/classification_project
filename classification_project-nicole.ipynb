{
 "cells": [
  {
   "cell_type": "code",
   "execution_count": 1,
   "metadata": {
    "scrolled": true
   },
   "outputs": [],
   "source": [
    "from sklearn.preprocessing import MinMaxScaler\n",
    "from sklearn.model_selection import train_test_split\n",
    "from sklearn.linear_model import LogisticRegression\n",
    "import graphviz\n",
    "import pandas as pd\n",
    "import seaborn as sns\n",
    "import numpy as np\n",
    "import matplotlib.pyplot as plt\n",
    "%matplotlib inline\n",
    "import numpy as np\n",
    "\n",
    "import warnings\n",
    "warnings.filterwarnings(\"ignore\")\n",
    "import prep"
   ]
  },
  {
   "cell_type": "code",
   "execution_count": 2,
   "metadata": {
    "scrolled": true
   },
   "outputs": [],
   "source": [
    "# Get churn data from customers table\n",
    "df = pd.read_csv('telco_churn_customers.csv')\n",
    "df = prep.prep_telco(df)"
   ]
  },
  {
   "cell_type": "code",
   "execution_count": 3,
   "metadata": {
    "scrolled": true
   },
   "outputs": [
    {
     "data": {
      "text/html": [
       "<div>\n",
       "<style scoped>\n",
       "    .dataframe tbody tr th:only-of-type {\n",
       "        vertical-align: middle;\n",
       "    }\n",
       "\n",
       "    .dataframe tbody tr th {\n",
       "        vertical-align: top;\n",
       "    }\n",
       "\n",
       "    .dataframe thead th {\n",
       "        text-align: right;\n",
       "    }\n",
       "</style>\n",
       "<table border=\"1\" class=\"dataframe\">\n",
       "  <thead>\n",
       "    <tr style=\"text-align: right;\">\n",
       "      <th></th>\n",
       "      <th>customer_id</th>\n",
       "      <th>senior_citizen</th>\n",
       "      <th>tenure</th>\n",
       "      <th>internet_service_type_id</th>\n",
       "      <th>contract_type_id</th>\n",
       "      <th>payment_type_id</th>\n",
       "      <th>monthly_charges</th>\n",
       "      <th>total_charges</th>\n",
       "      <th>churn</th>\n",
       "      <th>tenure_year</th>\n",
       "      <th>household_type_id</th>\n",
       "      <th>streaming_services</th>\n",
       "      <th>phone_id</th>\n",
       "      <th>online_security_backup</th>\n",
       "      <th>gender</th>\n",
       "      <th>device_protection</th>\n",
       "      <th>tech_support</th>\n",
       "      <th>paperless_billing</th>\n",
       "    </tr>\n",
       "  </thead>\n",
       "  <tbody>\n",
       "    <tr>\n",
       "      <th>0</th>\n",
       "      <td>0002-ORFBO</td>\n",
       "      <td>0</td>\n",
       "      <td>9</td>\n",
       "      <td>1</td>\n",
       "      <td>2</td>\n",
       "      <td>2</td>\n",
       "      <td>65.6</td>\n",
       "      <td>593.30</td>\n",
       "      <td>0</td>\n",
       "      <td>0.75</td>\n",
       "      <td>3</td>\n",
       "      <td>2</td>\n",
       "      <td>1</td>\n",
       "      <td>2</td>\n",
       "      <td>0</td>\n",
       "      <td>0</td>\n",
       "      <td>2</td>\n",
       "      <td>1</td>\n",
       "    </tr>\n",
       "    <tr>\n",
       "      <th>1</th>\n",
       "      <td>0003-MKNFE</td>\n",
       "      <td>0</td>\n",
       "      <td>9</td>\n",
       "      <td>1</td>\n",
       "      <td>1</td>\n",
       "      <td>2</td>\n",
       "      <td>59.9</td>\n",
       "      <td>542.40</td>\n",
       "      <td>0</td>\n",
       "      <td>0.75</td>\n",
       "      <td>0</td>\n",
       "      <td>1</td>\n",
       "      <td>2</td>\n",
       "      <td>1</td>\n",
       "      <td>1</td>\n",
       "      <td>0</td>\n",
       "      <td>0</td>\n",
       "      <td>0</td>\n",
       "    </tr>\n",
       "    <tr>\n",
       "      <th>2</th>\n",
       "      <td>0004-TLHLJ</td>\n",
       "      <td>0</td>\n",
       "      <td>4</td>\n",
       "      <td>2</td>\n",
       "      <td>1</td>\n",
       "      <td>1</td>\n",
       "      <td>73.9</td>\n",
       "      <td>280.85</td>\n",
       "      <td>1</td>\n",
       "      <td>0.33</td>\n",
       "      <td>0</td>\n",
       "      <td>0</td>\n",
       "      <td>1</td>\n",
       "      <td>1</td>\n",
       "      <td>1</td>\n",
       "      <td>2</td>\n",
       "      <td>0</td>\n",
       "      <td>1</td>\n",
       "    </tr>\n",
       "    <tr>\n",
       "      <th>3</th>\n",
       "      <td>0011-IGKFF</td>\n",
       "      <td>1</td>\n",
       "      <td>13</td>\n",
       "      <td>2</td>\n",
       "      <td>1</td>\n",
       "      <td>1</td>\n",
       "      <td>98.0</td>\n",
       "      <td>1237.85</td>\n",
       "      <td>1</td>\n",
       "      <td>1.08</td>\n",
       "      <td>2</td>\n",
       "      <td>3</td>\n",
       "      <td>1</td>\n",
       "      <td>2</td>\n",
       "      <td>1</td>\n",
       "      <td>2</td>\n",
       "      <td>0</td>\n",
       "      <td>1</td>\n",
       "    </tr>\n",
       "    <tr>\n",
       "      <th>4</th>\n",
       "      <td>0013-EXCHZ</td>\n",
       "      <td>1</td>\n",
       "      <td>3</td>\n",
       "      <td>2</td>\n",
       "      <td>1</td>\n",
       "      <td>2</td>\n",
       "      <td>83.9</td>\n",
       "      <td>267.40</td>\n",
       "      <td>1</td>\n",
       "      <td>0.25</td>\n",
       "      <td>2</td>\n",
       "      <td>2</td>\n",
       "      <td>1</td>\n",
       "      <td>1</td>\n",
       "      <td>0</td>\n",
       "      <td>0</td>\n",
       "      <td>2</td>\n",
       "      <td>1</td>\n",
       "    </tr>\n",
       "  </tbody>\n",
       "</table>\n",
       "</div>"
      ],
      "text/plain": [
       "  customer_id  senior_citizen  tenure  internet_service_type_id  \\\n",
       "0  0002-ORFBO               0       9                         1   \n",
       "1  0003-MKNFE               0       9                         1   \n",
       "2  0004-TLHLJ               0       4                         2   \n",
       "3  0011-IGKFF               1      13                         2   \n",
       "4  0013-EXCHZ               1       3                         2   \n",
       "\n",
       "   contract_type_id  payment_type_id  monthly_charges  total_charges  churn  \\\n",
       "0                 2                2             65.6         593.30      0   \n",
       "1                 1                2             59.9         542.40      0   \n",
       "2                 1                1             73.9         280.85      1   \n",
       "3                 1                1             98.0        1237.85      1   \n",
       "4                 1                2             83.9         267.40      1   \n",
       "\n",
       "   tenure_year  household_type_id  streaming_services  phone_id  \\\n",
       "0         0.75                  3                   2         1   \n",
       "1         0.75                  0                   1         2   \n",
       "2         0.33                  0                   0         1   \n",
       "3         1.08                  2                   3         1   \n",
       "4         0.25                  2                   2         1   \n",
       "\n",
       "   online_security_backup  gender  device_protection  tech_support  \\\n",
       "0                       2       0                  0             2   \n",
       "1                       1       1                  0             0   \n",
       "2                       1       1                  2             0   \n",
       "3                       2       1                  2             0   \n",
       "4                       1       0                  0             2   \n",
       "\n",
       "   paperless_billing  \n",
       "0                  1  \n",
       "1                  0  \n",
       "2                  1  \n",
       "3                  1  \n",
       "4                  1  "
      ]
     },
     "execution_count": 3,
     "metadata": {},
     "output_type": "execute_result"
    }
   ],
   "source": [
    "df.head()"
   ]
  },
  {
   "cell_type": "markdown",
   "metadata": {},
   "source": [
    "Write a function, peekatdata(dataframe), that takes a dataframe as input and computes and returns the following:\n",
    "\n",
    "creates dataframe object head_df (df of the first 5 rows) and prints contents to screen\n",
    "\n",
    "creates dataframe object tail_df (df of the last 5 rows) and prints contents to screen\n",
    "\n",
    "creates tuple object shape_tuple (tuple of (nrows, ncols)) and prints tuple to screen\n",
    "\n",
    "creates dataframe object describe_df (summary statistics of all numeric variables) and prints contents to screen.\n",
    "\n",
    "prints to screen the information about a DataFrame including the index dtype and column dtypes, non-null values and memory usage."
   ]
  },
  {
   "cell_type": "code",
   "execution_count": 4,
   "metadata": {
    "scrolled": true
   },
   "outputs": [],
   "source": [
    "def peekatdata(dataframe):\n",
    "    head_df = df.head()\n",
    "    tail_df = df.tail()\n",
    "    head_tail = head_df.append(tail_df)\n",
    "    print('Head and Tail\\n\\n', head_tail)\n",
    "    print('--'*55)\n",
    "    shape_tuple = df.shape\n",
    "    print('Shape\\n\\n', shape_tuple)\n",
    "    print('--'*20)\n",
    "    describe_df = df.describe()\n",
    "    print('Describe\\n\\n', describe_df)\n",
    "    print('--'*20)\n",
    "    print('Index\\n\\n', df.index)\n",
    "    print('--'*20)\n",
    "    print('Data Types\\n\\n', df.dtypes)\n",
    "    print('--'*20)\n",
    "    print('Null Value Count\\n\\n', df.isnull().sum())\n",
    "    print('--'*55)\n",
    "    print('Memory\\n\\n', df.memory_usage)"
   ]
  },
  {
   "cell_type": "code",
   "execution_count": 5,
   "metadata": {
    "scrolled": true
   },
   "outputs": [],
   "source": [
    "def df_value_counts(df):\n",
    "    for col in df.columns: \n",
    "        n = df[col].unique().shape[0] \n",
    "        col_bins = min(n,10) \n",
    "        if df[col].dtype in ['int64','float64'] and n > 10:\n",
    "            print('%s:' % col)\n",
    "            print(df[col].value_counts(bins=col_bins, sort=False)) \n",
    "        else: \n",
    "            print(df[col].value_counts()) \n",
    "        print('\\n')\n",
    "\n",
    "# df_value_counts(df)"
   ]
  },
  {
   "cell_type": "code",
   "execution_count": 6,
   "metadata": {
    "scrolled": true
   },
   "outputs": [
    {
     "data": {
      "text/html": [
       "<div>\n",
       "<style scoped>\n",
       "    .dataframe tbody tr th:only-of-type {\n",
       "        vertical-align: middle;\n",
       "    }\n",
       "\n",
       "    .dataframe tbody tr th {\n",
       "        vertical-align: top;\n",
       "    }\n",
       "\n",
       "    .dataframe thead th {\n",
       "        text-align: right;\n",
       "    }\n",
       "</style>\n",
       "<table border=\"1\" class=\"dataframe\">\n",
       "  <thead>\n",
       "    <tr style=\"text-align: right;\">\n",
       "      <th></th>\n",
       "      <th>customer_id</th>\n",
       "      <th>senior_citizen</th>\n",
       "      <th>tenure</th>\n",
       "      <th>internet_service_type_id</th>\n",
       "      <th>contract_type_id</th>\n",
       "      <th>payment_type_id</th>\n",
       "      <th>monthly_charges</th>\n",
       "      <th>total_charges</th>\n",
       "      <th>tenure_year</th>\n",
       "      <th>household_type_id</th>\n",
       "      <th>streaming_services</th>\n",
       "      <th>phone_id</th>\n",
       "      <th>online_security_backup</th>\n",
       "      <th>gender</th>\n",
       "      <th>device_protection</th>\n",
       "      <th>tech_support</th>\n",
       "      <th>paperless_billing</th>\n",
       "    </tr>\n",
       "  </thead>\n",
       "  <tbody>\n",
       "    <tr>\n",
       "      <th>1479</th>\n",
       "      <td>2187-PKZAY</td>\n",
       "      <td>0</td>\n",
       "      <td>12</td>\n",
       "      <td>2</td>\n",
       "      <td>1</td>\n",
       "      <td>3</td>\n",
       "      <td>79.95</td>\n",
       "      <td>1043.40</td>\n",
       "      <td>1.00</td>\n",
       "      <td>0</td>\n",
       "      <td>1</td>\n",
       "      <td>1</td>\n",
       "      <td>1</td>\n",
       "      <td>1</td>\n",
       "      <td>0</td>\n",
       "      <td>0</td>\n",
       "      <td>1</td>\n",
       "    </tr>\n",
       "    <tr>\n",
       "      <th>2377</th>\n",
       "      <td>3402-XRIUO</td>\n",
       "      <td>1</td>\n",
       "      <td>22</td>\n",
       "      <td>1</td>\n",
       "      <td>1</td>\n",
       "      <td>2</td>\n",
       "      <td>63.55</td>\n",
       "      <td>1381.80</td>\n",
       "      <td>1.83</td>\n",
       "      <td>2</td>\n",
       "      <td>0</td>\n",
       "      <td>2</td>\n",
       "      <td>4</td>\n",
       "      <td>0</td>\n",
       "      <td>0</td>\n",
       "      <td>2</td>\n",
       "      <td>1</td>\n",
       "    </tr>\n",
       "    <tr>\n",
       "      <th>6613</th>\n",
       "      <td>9397-TZSHA</td>\n",
       "      <td>0</td>\n",
       "      <td>69</td>\n",
       "      <td>3</td>\n",
       "      <td>3</td>\n",
       "      <td>4</td>\n",
       "      <td>24.60</td>\n",
       "      <td>1678.05</td>\n",
       "      <td>5.75</td>\n",
       "      <td>0</td>\n",
       "      <td>0</td>\n",
       "      <td>2</td>\n",
       "      <td>0</td>\n",
       "      <td>0</td>\n",
       "      <td>1</td>\n",
       "      <td>1</td>\n",
       "      <td>0</td>\n",
       "    </tr>\n",
       "    <tr>\n",
       "      <th>6468</th>\n",
       "      <td>9153-BTBVV</td>\n",
       "      <td>0</td>\n",
       "      <td>71</td>\n",
       "      <td>3</td>\n",
       "      <td>3</td>\n",
       "      <td>3</td>\n",
       "      <td>25.00</td>\n",
       "      <td>1753.00</td>\n",
       "      <td>5.92</td>\n",
       "      <td>2</td>\n",
       "      <td>0</td>\n",
       "      <td>2</td>\n",
       "      <td>0</td>\n",
       "      <td>0</td>\n",
       "      <td>1</td>\n",
       "      <td>1</td>\n",
       "      <td>0</td>\n",
       "    </tr>\n",
       "    <tr>\n",
       "      <th>2668</th>\n",
       "      <td>3793-MMFUH</td>\n",
       "      <td>1</td>\n",
       "      <td>13</td>\n",
       "      <td>2</td>\n",
       "      <td>1</td>\n",
       "      <td>1</td>\n",
       "      <td>95.05</td>\n",
       "      <td>1290.00</td>\n",
       "      <td>1.08</td>\n",
       "      <td>0</td>\n",
       "      <td>3</td>\n",
       "      <td>2</td>\n",
       "      <td>1</td>\n",
       "      <td>0</td>\n",
       "      <td>0</td>\n",
       "      <td>0</td>\n",
       "      <td>1</td>\n",
       "    </tr>\n",
       "  </tbody>\n",
       "</table>\n",
       "</div>"
      ],
      "text/plain": [
       "     customer_id  senior_citizen  tenure  internet_service_type_id  \\\n",
       "1479  2187-PKZAY               0      12                         2   \n",
       "2377  3402-XRIUO               1      22                         1   \n",
       "6613  9397-TZSHA               0      69                         3   \n",
       "6468  9153-BTBVV               0      71                         3   \n",
       "2668  3793-MMFUH               1      13                         2   \n",
       "\n",
       "      contract_type_id  payment_type_id  monthly_charges  total_charges  \\\n",
       "1479                 1                3            79.95        1043.40   \n",
       "2377                 1                2            63.55        1381.80   \n",
       "6613                 3                4            24.60        1678.05   \n",
       "6468                 3                3            25.00        1753.00   \n",
       "2668                 1                1            95.05        1290.00   \n",
       "\n",
       "      tenure_year  household_type_id  streaming_services  phone_id  \\\n",
       "1479         1.00                  0                   1         1   \n",
       "2377         1.83                  2                   0         2   \n",
       "6613         5.75                  0                   0         2   \n",
       "6468         5.92                  2                   0         2   \n",
       "2668         1.08                  0                   3         2   \n",
       "\n",
       "      online_security_backup  gender  device_protection  tech_support  \\\n",
       "1479                       1       1                  0             0   \n",
       "2377                       4       0                  0             2   \n",
       "6613                       0       0                  1             1   \n",
       "6468                       0       0                  1             1   \n",
       "2668                       1       0                  0             0   \n",
       "\n",
       "      paperless_billing  \n",
       "1479                  1  \n",
       "2377                  1  \n",
       "6613                  0  \n",
       "6468                  0  \n",
       "2668                  1  "
      ]
     },
     "execution_count": 6,
     "metadata": {},
     "output_type": "execute_result"
    }
   ],
   "source": [
    "# Split the data into train (70%) & test (30%) samples.\n",
    "X = df.drop(['churn'], axis=1)\n",
    "y = df[['churn']]\n",
    "\n",
    "X_train, X_test, y_train, y_test = train_test_split(X, y, test_size=.30, random_state=123)\n",
    "\n",
    "train = pd.concat([X_train, y_train], axis=1)\n",
    "test = pd.concat([X_test, y_test], axis=1)\n",
    "\n",
    "X_train.head()"
   ]
  },
  {
   "cell_type": "code",
   "execution_count": 7,
   "metadata": {
    "scrolled": true
   },
   "outputs": [],
   "source": [
    "# Numeric Scaling: scale the monthly_charges and total_charges data. Make sure that the parameters for scaling \n",
    "# are learned from the training data set.\n",
    "scaler = MinMaxScaler()\n",
    "scaler.fit(X_train[['monthly_charges', 'total_charges']])\n",
    "\n",
    "X_train[['monthly_charges', 'total_charges']] = scaler.transform(X_train[['monthly_charges', 'total_charges']])\n",
    "X_test[['monthly_charges', 'total_charges']] = scaler.transform(X_test[['monthly_charges', 'total_charges']])\n",
    "\n",
    "train[['monthly_charges', 'total_charges']] = scaler.transform(train[['monthly_charges', 'total_charges']])\n",
    "test[['monthly_charges', 'total_charges']] = scaler.transform(test[['monthly_charges', 'total_charges']])"
   ]
  },
  {
   "cell_type": "markdown",
   "metadata": {},
   "source": [
    "# Data Exploration"
   ]
  },
  {
   "cell_type": "code",
   "execution_count": 8,
   "metadata": {
    "scrolled": true
   },
   "outputs": [
    {
     "data": {
      "image/png": "[encoded data removed]",
      "text/plain": [
       "<Figure size 576x432 with 1 Axes>"
      ]
     },
     "metadata": {
      "needs_background": "light"
     },
     "output_type": "display_data"
    }
   ],
   "source": [
    "# Could the month in which they signed up influence churn? i.e. if a cohort is identified by tenure, is there a \n",
    "# cohort or cohorts who have a higher rate of churn than other cohorts? (Plot the rate of churn on a line chart \n",
    "# where x is the tenure and y is the rate of churn (customers churned/total customers)).\n",
    "\n",
    "bins = [12, 24, 32, 48, 60, 72]\n",
    "train['tenure_months'] = pd.cut(train['tenure'], bins)\n",
    "\n",
    "bins = [0, 12, 24, 32, 48, 60, 72]\n",
    "labels = ['12', '24', '32', '48', '60', '72']\n",
    "train['tenure_months'] = pd.cut(train['tenure'], bins=bins, labels=labels).where(train.churn == 1)\n",
    "\n",
    "df1 = train.groupby('tenure_months')['churn'].count()\n",
    "df1 = pd.DataFrame(df1)\n",
    "df1 = df1.reset_index()\n",
    "df1\n",
    "\n",
    "plt.figure(figsize=(8,6))\n",
    "ax = sns.lineplot(x=\"tenure_months\", y=\"churn\",data=df1)"
   ]
  },
  {
   "cell_type": "code",
   "execution_count": 9,
   "metadata": {
    "scrolled": true
   },
   "outputs": [
    {
     "name": "stdout",
     "output_type": "stream",
     "text": [
      "Rate of churn for month-to-month: 32.75%\n",
      "Rate of churn for 1+ years: 11.12%\n"
     ]
    }
   ],
   "source": [
    "# If we looked at churn rate for month-to-month customers after the 12th month and that of 1-year contract customers\n",
    "# after the 12th month, are those rates comparable?\n",
    "\n",
    "mtm = train[train.contract_type_id == 1]\n",
    "mtm_after12 = mtm[mtm.tenure_year > 1]\n",
    "\n",
    "mtmc = mtm_after12.churn.value_counts()\n",
    "mtmc\n",
    "\n",
    "print('Rate of churn for month-to-month: {:.2%}'.format(mtmc[1]/(mtmc[0]+mtmc[1])))\n",
    "\n",
    "one_year = train[train.contract_type_id == 2]\n",
    "one_year_after12 = one_year[one_year.tenure_year > 1]\n",
    "\n",
    "one_yearc = one_year_after12.churn.value_counts()\n",
    "one_yearc\n",
    "\n",
    "print('Rate of churn for 1+ years: {:.2%}'.format(one_yearc[1]/(one_yearc[0]+one_yearc[1])))"
   ]
  },
  {
   "cell_type": "code",
   "execution_count": 10,
   "metadata": {
    "scrolled": true
   },
   "outputs": [],
   "source": [
    "# Crosstab\n",
    "# barplot\n",
    "# joint plot\n",
    "# dist plot or hist\n",
    "# plt.plot"
   ]
  },
  {
   "cell_type": "code",
   "execution_count": 11,
   "metadata": {
    "scrolled": true
   },
   "outputs": [],
   "source": [
    "train['cumsum_churn'] = train.churn.cumsum()"
   ]
  },
  {
   "cell_type": "code",
   "execution_count": 12,
   "metadata": {
    "scrolled": true
   },
   "outputs": [],
   "source": [
    "train['rate_churn'] = train.cumsum_churn/train.churn.count()"
   ]
  },
  {
   "cell_type": "code",
   "execution_count": 13,
   "metadata": {
    "scrolled": true
   },
   "outputs": [
    {
     "data": {
      "text/html": [
       "<style  type=\"text/css\" >\n",
       "    #T_d7041de2_5679_11e9_b89f_c600b09a2f01row0_col0 {\n",
       "            background-color:  #fed36f;\n",
       "        }    #T_d7041de2_5679_11e9_b89f_c600b09a2f01row0_col1 {\n",
       "            background-color:  #bb0026;\n",
       "        }    #T_d7041de2_5679_11e9_b89f_c600b09a2f01row0_col2 {\n",
       "            background-color:  #8f0026;\n",
       "        }    #T_d7041de2_5679_11e9_b89f_c600b09a2f01row0_col3 {\n",
       "            background-color:  #f84628;\n",
       "        }    #T_d7041de2_5679_11e9_b89f_c600b09a2f01row1_col0 {\n",
       "            background-color:  #ffffcc;\n",
       "        }    #T_d7041de2_5679_11e9_b89f_c600b09a2f01row1_col1 {\n",
       "            background-color:  #ffffcc;\n",
       "        }    #T_d7041de2_5679_11e9_b89f_c600b09a2f01row1_col2 {\n",
       "            background-color:  #ffffcc;\n",
       "        }    #T_d7041de2_5679_11e9_b89f_c600b09a2f01row1_col3 {\n",
       "            background-color:  #ffffcc;\n",
       "        }    #T_d7041de2_5679_11e9_b89f_c600b09a2f01row2_col0 {\n",
       "            background-color:  #800026;\n",
       "        }    #T_d7041de2_5679_11e9_b89f_c600b09a2f01row2_col1 {\n",
       "            background-color:  #800026;\n",
       "        }    #T_d7041de2_5679_11e9_b89f_c600b09a2f01row2_col2 {\n",
       "            background-color:  #800026;\n",
       "        }    #T_d7041de2_5679_11e9_b89f_c600b09a2f01row2_col3 {\n",
       "            background-color:  #800026;\n",
       "        }</style>  \n",
       "<table id=\"T_d7041de2_5679_11e9_b89f_c600b09a2f01\" > \n",
       "<thead>    <tr> \n",
       "        <th class=\"index_name level0\" >contract_type_id</th> \n",
       "        <th class=\"col_heading level0 col0\" >1</th> \n",
       "        <th class=\"col_heading level0 col1\" >2</th> \n",
       "        <th class=\"col_heading level0 col2\" >3</th> \n",
       "        <th class=\"col_heading level0 col3\" >All</th> \n",
       "    </tr>    <tr> \n",
       "        <th class=\"index_name level0\" >churn</th> \n",
       "        <th class=\"blank\" ></th> \n",
       "        <th class=\"blank\" ></th> \n",
       "        <th class=\"blank\" ></th> \n",
       "        <th class=\"blank\" ></th> \n",
       "    </tr></thead> \n",
       "<tbody>    <tr> \n",
       "        <th id=\"T_d7041de2_5679_11e9_b89f_c600b09a2f01level0_row0\" class=\"row_heading level0 row0\" >0</th> \n",
       "        <td id=\"T_d7041de2_5679_11e9_b89f_c600b09a2f01row0_col0\" class=\"data row0 col0\" >0.32069</td> \n",
       "        <td id=\"T_d7041de2_5679_11e9_b89f_c600b09a2f01row0_col1\" class=\"data row0 col1\" >0.180122</td> \n",
       "        <td id=\"T_d7041de2_5679_11e9_b89f_c600b09a2f01row0_col2\" class=\"data row0 col2\" >0.235091</td> \n",
       "        <td id=\"T_d7041de2_5679_11e9_b89f_c600b09a2f01row0_col3\" class=\"data row0 col3\" >0.735903</td> \n",
       "    </tr>    <tr> \n",
       "        <th id=\"T_d7041de2_5679_11e9_b89f_c600b09a2f01level0_row1\" class=\"row_heading level0 row1\" >1</th> \n",
       "        <td id=\"T_d7041de2_5679_11e9_b89f_c600b09a2f01row1_col0\" class=\"data row1 col0\" >0.233874</td> \n",
       "        <td id=\"T_d7041de2_5679_11e9_b89f_c600b09a2f01row1_col1\" class=\"data row1 col1\" >0.0225152</td> \n",
       "        <td id=\"T_d7041de2_5679_11e9_b89f_c600b09a2f01row1_col2\" class=\"data row1 col2\" >0.00770791</td> \n",
       "        <td id=\"T_d7041de2_5679_11e9_b89f_c600b09a2f01row1_col3\" class=\"data row1 col3\" >0.264097</td> \n",
       "    </tr>    <tr> \n",
       "        <th id=\"T_d7041de2_5679_11e9_b89f_c600b09a2f01level0_row2\" class=\"row_heading level0 row2\" >All</th> \n",
       "        <td id=\"T_d7041de2_5679_11e9_b89f_c600b09a2f01row2_col0\" class=\"data row2 col0\" >0.554564</td> \n",
       "        <td id=\"T_d7041de2_5679_11e9_b89f_c600b09a2f01row2_col1\" class=\"data row2 col1\" >0.202637</td> \n",
       "        <td id=\"T_d7041de2_5679_11e9_b89f_c600b09a2f01row2_col2\" class=\"data row2 col2\" >0.242799</td> \n",
       "        <td id=\"T_d7041de2_5679_11e9_b89f_c600b09a2f01row2_col3\" class=\"data row2 col3\" >1</td> \n",
       "    </tr></tbody> \n",
       "</table> "
      ],
      "text/plain": [
       "<pandas.io.formats.style.Styler at 0x1a16bc2a90>"
      ]
     },
     "execution_count": 13,
     "metadata": {},
     "output_type": "execute_result"
    }
   ],
   "source": [
    "pd.crosstab(train.churn, train.contract_type_id, margins=True, normalize=True).style.background_gradient(cmap='YlOrRd')\n"
   ]
  },
  {
   "cell_type": "code",
   "execution_count": 14,
   "metadata": {
    "scrolled": true
   },
   "outputs": [
    {
     "data": {
      "text/html": [
       "<style  type=\"text/css\" >\n",
       "    #T_d70ed3a4_5679_11e9_b89f_c600b09a2f01row0_col0 {\n",
       "            background-color:  #df171d;\n",
       "        }    #T_d70ed3a4_5679_11e9_b89f_c600b09a2f01row0_col1 {\n",
       "            background-color:  #fed06c;\n",
       "        }    #T_d70ed3a4_5679_11e9_b89f_c600b09a2f01row0_col2 {\n",
       "            background-color:  #a40026;\n",
       "        }    #T_d70ed3a4_5679_11e9_b89f_c600b09a2f01row0_col3 {\n",
       "            background-color:  #f84628;\n",
       "        }    #T_d70ed3a4_5679_11e9_b89f_c600b09a2f01row1_col0 {\n",
       "            background-color:  #ffffcc;\n",
       "        }    #T_d70ed3a4_5679_11e9_b89f_c600b09a2f01row1_col1 {\n",
       "            background-color:  #ffffcc;\n",
       "        }    #T_d70ed3a4_5679_11e9_b89f_c600b09a2f01row1_col2 {\n",
       "            background-color:  #ffffcc;\n",
       "        }    #T_d70ed3a4_5679_11e9_b89f_c600b09a2f01row1_col3 {\n",
       "            background-color:  #ffffcc;\n",
       "        }    #T_d70ed3a4_5679_11e9_b89f_c600b09a2f01row2_col0 {\n",
       "            background-color:  #800026;\n",
       "        }    #T_d70ed3a4_5679_11e9_b89f_c600b09a2f01row2_col1 {\n",
       "            background-color:  #800026;\n",
       "        }    #T_d70ed3a4_5679_11e9_b89f_c600b09a2f01row2_col2 {\n",
       "            background-color:  #800026;\n",
       "        }    #T_d70ed3a4_5679_11e9_b89f_c600b09a2f01row2_col3 {\n",
       "            background-color:  #800026;\n",
       "        }</style>  \n",
       "<table id=\"T_d70ed3a4_5679_11e9_b89f_c600b09a2f01\" > \n",
       "<thead>    <tr> \n",
       "        <th class=\"index_name level0\" >internet_service_type_id</th> \n",
       "        <th class=\"col_heading level0 col0\" >1</th> \n",
       "        <th class=\"col_heading level0 col1\" >2</th> \n",
       "        <th class=\"col_heading level0 col2\" >3</th> \n",
       "        <th class=\"col_heading level0 col3\" >All</th> \n",
       "    </tr>    <tr> \n",
       "        <th class=\"index_name level0\" >churn</th> \n",
       "        <th class=\"blank\" ></th> \n",
       "        <th class=\"blank\" ></th> \n",
       "        <th class=\"blank\" ></th> \n",
       "        <th class=\"blank\" ></th> \n",
       "    </tr></thead> \n",
       "<tbody>    <tr> \n",
       "        <th id=\"T_d70ed3a4_5679_11e9_b89f_c600b09a2f01level0_row0\" class=\"row_heading level0 row0\" >0</th> \n",
       "        <td id=\"T_d70ed3a4_5679_11e9_b89f_c600b09a2f01row0_col0\" class=\"data row0 col0\" >0.28499</td> \n",
       "        <td id=\"T_d70ed3a4_5679_11e9_b89f_c600b09a2f01row0_col1\" class=\"data row0 col1\" >0.251927</td> \n",
       "        <td id=\"T_d70ed3a4_5679_11e9_b89f_c600b09a2f01row0_col2\" class=\"data row0 col2\" >0.198986</td> \n",
       "        <td id=\"T_d70ed3a4_5679_11e9_b89f_c600b09a2f01row0_col3\" class=\"data row0 col3\" >0.735903</td> \n",
       "    </tr>    <tr> \n",
       "        <th id=\"T_d70ed3a4_5679_11e9_b89f_c600b09a2f01level0_row1\" class=\"row_heading level0 row1\" >1</th> \n",
       "        <td id=\"T_d70ed3a4_5679_11e9_b89f_c600b09a2f01row1_col0\" class=\"data row1 col0\" >0.0675456</td> \n",
       "        <td id=\"T_d70ed3a4_5679_11e9_b89f_c600b09a2f01row1_col1\" class=\"data row1 col1\" >0.181136</td> \n",
       "        <td id=\"T_d70ed3a4_5679_11e9_b89f_c600b09a2f01row1_col2\" class=\"data row1 col2\" >0.0154158</td> \n",
       "        <td id=\"T_d70ed3a4_5679_11e9_b89f_c600b09a2f01row1_col3\" class=\"data row1 col3\" >0.264097</td> \n",
       "    </tr>    <tr> \n",
       "        <th id=\"T_d70ed3a4_5679_11e9_b89f_c600b09a2f01level0_row2\" class=\"row_heading level0 row2\" >All</th> \n",
       "        <td id=\"T_d70ed3a4_5679_11e9_b89f_c600b09a2f01row2_col0\" class=\"data row2 col0\" >0.352535</td> \n",
       "        <td id=\"T_d70ed3a4_5679_11e9_b89f_c600b09a2f01row2_col1\" class=\"data row2 col1\" >0.433063</td> \n",
       "        <td id=\"T_d70ed3a4_5679_11e9_b89f_c600b09a2f01row2_col2\" class=\"data row2 col2\" >0.214402</td> \n",
       "        <td id=\"T_d70ed3a4_5679_11e9_b89f_c600b09a2f01row2_col3\" class=\"data row2 col3\" >1</td> \n",
       "    </tr></tbody> \n",
       "</table> "
      ],
      "text/plain": [
       "<pandas.io.formats.style.Styler at 0x1a16d34dd8>"
      ]
     },
     "execution_count": 14,
     "metadata": {},
     "output_type": "execute_result"
    }
   ],
   "source": [
    "pd.crosstab(train.churn, train.internet_service_type_id, margins=True, normalize=True).style.background_gradient(cmap='YlOrRd')\n"
   ]
  },
  {
   "cell_type": "code",
   "execution_count": 15,
   "metadata": {
    "scrolled": true
   },
   "outputs": [
    {
     "data": {
      "text/html": [
       "<style  type=\"text/css\" >\n",
       "    #T_d71b0ffc_5679_11e9_b89f_c600b09a2f01row0_col0 {\n",
       "            background-color:  #ee3122;\n",
       "        }    #T_d71b0ffc_5679_11e9_b89f_c600b09a2f01row0_col1 {\n",
       "            background-color:  #fed36f;\n",
       "        }    #T_d71b0ffc_5679_11e9_b89f_c600b09a2f01row0_col2 {\n",
       "            background-color:  #f84628;\n",
       "        }    #T_d71b0ffc_5679_11e9_b89f_c600b09a2f01row1_col0 {\n",
       "            background-color:  #ffffcc;\n",
       "        }    #T_d71b0ffc_5679_11e9_b89f_c600b09a2f01row1_col1 {\n",
       "            background-color:  #ffffcc;\n",
       "        }    #T_d71b0ffc_5679_11e9_b89f_c600b09a2f01row1_col2 {\n",
       "            background-color:  #ffffcc;\n",
       "        }    #T_d71b0ffc_5679_11e9_b89f_c600b09a2f01row2_col0 {\n",
       "            background-color:  #800026;\n",
       "        }    #T_d71b0ffc_5679_11e9_b89f_c600b09a2f01row2_col1 {\n",
       "            background-color:  #800026;\n",
       "        }    #T_d71b0ffc_5679_11e9_b89f_c600b09a2f01row2_col2 {\n",
       "            background-color:  #800026;\n",
       "        }</style>  \n",
       "<table id=\"T_d71b0ffc_5679_11e9_b89f_c600b09a2f01\" > \n",
       "<thead>    <tr> \n",
       "        <th class=\"index_name level0\" >senior_citizen</th> \n",
       "        <th class=\"col_heading level0 col0\" >0</th> \n",
       "        <th class=\"col_heading level0 col1\" >1</th> \n",
       "        <th class=\"col_heading level0 col2\" >All</th> \n",
       "    </tr>    <tr> \n",
       "        <th class=\"index_name level0\" >churn</th> \n",
       "        <th class=\"blank\" ></th> \n",
       "        <th class=\"blank\" ></th> \n",
       "        <th class=\"blank\" ></th> \n",
       "    </tr></thead> \n",
       "<tbody>    <tr> \n",
       "        <th id=\"T_d71b0ffc_5679_11e9_b89f_c600b09a2f01level0_row0\" class=\"row_heading level0 row0\" >0</th> \n",
       "        <td id=\"T_d71b0ffc_5679_11e9_b89f_c600b09a2f01row0_col0\" class=\"data row0 col0\" >0.642596</td> \n",
       "        <td id=\"T_d71b0ffc_5679_11e9_b89f_c600b09a2f01row0_col1\" class=\"data row0 col1\" >0.0933063</td> \n",
       "        <td id=\"T_d71b0ffc_5679_11e9_b89f_c600b09a2f01row0_col2\" class=\"data row0 col2\" >0.735903</td> \n",
       "    </tr>    <tr> \n",
       "        <th id=\"T_d71b0ffc_5679_11e9_b89f_c600b09a2f01level0_row1\" class=\"row_heading level0 row1\" >1</th> \n",
       "        <td id=\"T_d71b0ffc_5679_11e9_b89f_c600b09a2f01row1_col0\" class=\"data row1 col0\" >0.195943</td> \n",
       "        <td id=\"T_d71b0ffc_5679_11e9_b89f_c600b09a2f01row1_col1\" class=\"data row1 col1\" >0.0681542</td> \n",
       "        <td id=\"T_d71b0ffc_5679_11e9_b89f_c600b09a2f01row1_col2\" class=\"data row1 col2\" >0.264097</td> \n",
       "    </tr>    <tr> \n",
       "        <th id=\"T_d71b0ffc_5679_11e9_b89f_c600b09a2f01level0_row2\" class=\"row_heading level0 row2\" >All</th> \n",
       "        <td id=\"T_d71b0ffc_5679_11e9_b89f_c600b09a2f01row2_col0\" class=\"data row2 col0\" >0.83854</td> \n",
       "        <td id=\"T_d71b0ffc_5679_11e9_b89f_c600b09a2f01row2_col1\" class=\"data row2 col1\" >0.16146</td> \n",
       "        <td id=\"T_d71b0ffc_5679_11e9_b89f_c600b09a2f01row2_col2\" class=\"data row2 col2\" >1</td> \n",
       "    </tr></tbody> \n",
       "</table> "
      ],
      "text/plain": [
       "<pandas.io.formats.style.Styler at 0x1a16bc2320>"
      ]
     },
     "execution_count": 15,
     "metadata": {},
     "output_type": "execute_result"
    }
   ],
   "source": [
    "pd.crosstab(train.churn, train.senior_citizen, margins=True, normalize=True).style.background_gradient(cmap='YlOrRd')\n"
   ]
  },
  {
   "cell_type": "code",
   "execution_count": 16,
   "metadata": {
    "scrolled": true
   },
   "outputs": [
    {
     "data": {
      "text/html": [
       "<style  type=\"text/css\" >\n",
       "    #T_d7274902_5679_11e9_b89f_c600b09a2f01row0_col0 {\n",
       "            background-color:  #fd8f3d;\n",
       "        }    #T_d7274902_5679_11e9_b89f_c600b09a2f01row0_col1 {\n",
       "            background-color:  #e41c1d;\n",
       "        }    #T_d7274902_5679_11e9_b89f_c600b09a2f01row0_col2 {\n",
       "            background-color:  #f94828;\n",
       "        }    #T_d7274902_5679_11e9_b89f_c600b09a2f01row0_col3 {\n",
       "            background-color:  #c90823;\n",
       "        }    #T_d7274902_5679_11e9_b89f_c600b09a2f01row0_col4 {\n",
       "            background-color:  #f84628;\n",
       "        }    #T_d7274902_5679_11e9_b89f_c600b09a2f01row1_col0 {\n",
       "            background-color:  #ffffcc;\n",
       "        }    #T_d7274902_5679_11e9_b89f_c600b09a2f01row1_col1 {\n",
       "            background-color:  #ffffcc;\n",
       "        }    #T_d7274902_5679_11e9_b89f_c600b09a2f01row1_col2 {\n",
       "            background-color:  #ffffcc;\n",
       "        }    #T_d7274902_5679_11e9_b89f_c600b09a2f01row1_col3 {\n",
       "            background-color:  #ffffcc;\n",
       "        }    #T_d7274902_5679_11e9_b89f_c600b09a2f01row1_col4 {\n",
       "            background-color:  #ffffcc;\n",
       "        }    #T_d7274902_5679_11e9_b89f_c600b09a2f01row2_col0 {\n",
       "            background-color:  #800026;\n",
       "        }    #T_d7274902_5679_11e9_b89f_c600b09a2f01row2_col1 {\n",
       "            background-color:  #800026;\n",
       "        }    #T_d7274902_5679_11e9_b89f_c600b09a2f01row2_col2 {\n",
       "            background-color:  #800026;\n",
       "        }    #T_d7274902_5679_11e9_b89f_c600b09a2f01row2_col3 {\n",
       "            background-color:  #800026;\n",
       "        }    #T_d7274902_5679_11e9_b89f_c600b09a2f01row2_col4 {\n",
       "            background-color:  #800026;\n",
       "        }</style>  \n",
       "<table id=\"T_d7274902_5679_11e9_b89f_c600b09a2f01\" > \n",
       "<thead>    <tr> \n",
       "        <th class=\"index_name level0\" >household_type_id</th> \n",
       "        <th class=\"col_heading level0 col0\" >0</th> \n",
       "        <th class=\"col_heading level0 col1\" >1</th> \n",
       "        <th class=\"col_heading level0 col2\" >2</th> \n",
       "        <th class=\"col_heading level0 col3\" >3</th> \n",
       "        <th class=\"col_heading level0 col4\" >All</th> \n",
       "    </tr>    <tr> \n",
       "        <th class=\"index_name level0\" >churn</th> \n",
       "        <th class=\"blank\" ></th> \n",
       "        <th class=\"blank\" ></th> \n",
       "        <th class=\"blank\" ></th> \n",
       "        <th class=\"blank\" ></th> \n",
       "        <th class=\"blank\" ></th> \n",
       "    </tr></thead> \n",
       "<tbody>    <tr> \n",
       "        <th id=\"T_d7274902_5679_11e9_b89f_c600b09a2f01level0_row0\" class=\"row_heading level0 row0\" >0</th> \n",
       "        <td id=\"T_d7274902_5679_11e9_b89f_c600b09a2f01row0_col0\" class=\"data row0 col0\" >0.308114</td> \n",
       "        <td id=\"T_d7274902_5679_11e9_b89f_c600b09a2f01row0_col1\" class=\"data row0 col1\" >0.0393509</td> \n",
       "        <td id=\"T_d7274902_5679_11e9_b89f_c600b09a2f01row0_col2\" class=\"data row0 col2\" >0.172211</td> \n",
       "        <td id=\"T_d7274902_5679_11e9_b89f_c600b09a2f01row0_col3\" class=\"data row0 col3\" >0.216227</td> \n",
       "        <td id=\"T_d7274902_5679_11e9_b89f_c600b09a2f01row0_col4\" class=\"data row0 col4\" >0.735903</td> \n",
       "    </tr>    <tr> \n",
       "        <th id=\"T_d7274902_5679_11e9_b89f_c600b09a2f01level0_row1\" class=\"row_heading level0 row1\" >1</th> \n",
       "        <td id=\"T_d7274902_5679_11e9_b89f_c600b09a2f01row1_col0\" class=\"data row1 col0\" >0.155781</td> \n",
       "        <td id=\"T_d7274902_5679_11e9_b89f_c600b09a2f01row1_col1\" class=\"data row1 col1\" >0.010142</td> \n",
       "        <td id=\"T_d7274902_5679_11e9_b89f_c600b09a2f01row1_col2\" class=\"data row1 col2\" >0.0622718</td> \n",
       "        <td id=\"T_d7274902_5679_11e9_b89f_c600b09a2f01row1_col3\" class=\"data row1 col3\" >0.0359026</td> \n",
       "        <td id=\"T_d7274902_5679_11e9_b89f_c600b09a2f01row1_col4\" class=\"data row1 col4\" >0.264097</td> \n",
       "    </tr>    <tr> \n",
       "        <th id=\"T_d7274902_5679_11e9_b89f_c600b09a2f01level0_row2\" class=\"row_heading level0 row2\" >All</th> \n",
       "        <td id=\"T_d7274902_5679_11e9_b89f_c600b09a2f01row2_col0\" class=\"data row2 col0\" >0.463895</td> \n",
       "        <td id=\"T_d7274902_5679_11e9_b89f_c600b09a2f01row2_col1\" class=\"data row2 col1\" >0.0494929</td> \n",
       "        <td id=\"T_d7274902_5679_11e9_b89f_c600b09a2f01row2_col2\" class=\"data row2 col2\" >0.234483</td> \n",
       "        <td id=\"T_d7274902_5679_11e9_b89f_c600b09a2f01row2_col3\" class=\"data row2 col3\" >0.25213</td> \n",
       "        <td id=\"T_d7274902_5679_11e9_b89f_c600b09a2f01row2_col4\" class=\"data row2 col4\" >1</td> \n",
       "    </tr></tbody> \n",
       "</table> "
      ],
      "text/plain": [
       "<pandas.io.formats.style.Styler at 0x1a16922c50>"
      ]
     },
     "execution_count": 16,
     "metadata": {},
     "output_type": "execute_result"
    }
   ],
   "source": [
    "pd.crosstab(train.churn, train.household_type_id, margins=True, normalize=True).style.background_gradient(cmap='YlOrRd')\n"
   ]
  },
  {
   "cell_type": "code",
   "execution_count": 17,
   "metadata": {
    "scrolled": true
   },
   "outputs": [
    {
     "data": {
      "text/html": [
       "<style  type=\"text/css\" >\n",
       "    #T_d7320766_5679_11e9_b89f_c600b09a2f01row0_col0 {\n",
       "            background-color:  #f84628;\n",
       "        }    #T_d7320766_5679_11e9_b89f_c600b09a2f01row0_col1 {\n",
       "            background-color:  #f94828;\n",
       "        }    #T_d7320766_5679_11e9_b89f_c600b09a2f01row0_col2 {\n",
       "            background-color:  #f84628;\n",
       "        }    #T_d7320766_5679_11e9_b89f_c600b09a2f01row1_col0 {\n",
       "            background-color:  #ffffcc;\n",
       "        }    #T_d7320766_5679_11e9_b89f_c600b09a2f01row1_col1 {\n",
       "            background-color:  #ffffcc;\n",
       "        }    #T_d7320766_5679_11e9_b89f_c600b09a2f01row1_col2 {\n",
       "            background-color:  #ffffcc;\n",
       "        }    #T_d7320766_5679_11e9_b89f_c600b09a2f01row2_col0 {\n",
       "            background-color:  #800026;\n",
       "        }    #T_d7320766_5679_11e9_b89f_c600b09a2f01row2_col1 {\n",
       "            background-color:  #800026;\n",
       "        }    #T_d7320766_5679_11e9_b89f_c600b09a2f01row2_col2 {\n",
       "            background-color:  #800026;\n",
       "        }</style>  \n",
       "<table id=\"T_d7320766_5679_11e9_b89f_c600b09a2f01\" > \n",
       "<thead>    <tr> \n",
       "        <th class=\"index_name level0\" >gender</th> \n",
       "        <th class=\"col_heading level0 col0\" >0</th> \n",
       "        <th class=\"col_heading level0 col1\" >1</th> \n",
       "        <th class=\"col_heading level0 col2\" >All</th> \n",
       "    </tr>    <tr> \n",
       "        <th class=\"index_name level0\" >churn</th> \n",
       "        <th class=\"blank\" ></th> \n",
       "        <th class=\"blank\" ></th> \n",
       "        <th class=\"blank\" ></th> \n",
       "    </tr></thead> \n",
       "<tbody>    <tr> \n",
       "        <th id=\"T_d7320766_5679_11e9_b89f_c600b09a2f01level0_row0\" class=\"row_heading level0 row0\" >0</th> \n",
       "        <td id=\"T_d7320766_5679_11e9_b89f_c600b09a2f01row0_col0\" class=\"data row0 col0\" >0.366734</td> \n",
       "        <td id=\"T_d7320766_5679_11e9_b89f_c600b09a2f01row0_col1\" class=\"data row0 col1\" >0.369168</td> \n",
       "        <td id=\"T_d7320766_5679_11e9_b89f_c600b09a2f01row0_col2\" class=\"data row0 col2\" >0.735903</td> \n",
       "    </tr>    <tr> \n",
       "        <th id=\"T_d7320766_5679_11e9_b89f_c600b09a2f01level0_row1\" class=\"row_heading level0 row1\" >1</th> \n",
       "        <td id=\"T_d7320766_5679_11e9_b89f_c600b09a2f01row1_col0\" class=\"data row1 col0\" >0.130426</td> \n",
       "        <td id=\"T_d7320766_5679_11e9_b89f_c600b09a2f01row1_col1\" class=\"data row1 col1\" >0.133671</td> \n",
       "        <td id=\"T_d7320766_5679_11e9_b89f_c600b09a2f01row1_col2\" class=\"data row1 col2\" >0.264097</td> \n",
       "    </tr>    <tr> \n",
       "        <th id=\"T_d7320766_5679_11e9_b89f_c600b09a2f01level0_row2\" class=\"row_heading level0 row2\" >All</th> \n",
       "        <td id=\"T_d7320766_5679_11e9_b89f_c600b09a2f01row2_col0\" class=\"data row2 col0\" >0.49716</td> \n",
       "        <td id=\"T_d7320766_5679_11e9_b89f_c600b09a2f01row2_col1\" class=\"data row2 col1\" >0.50284</td> \n",
       "        <td id=\"T_d7320766_5679_11e9_b89f_c600b09a2f01row2_col2\" class=\"data row2 col2\" >1</td> \n",
       "    </tr></tbody> \n",
       "</table> "
      ],
      "text/plain": [
       "<pandas.io.formats.style.Styler at 0x1a16d395c0>"
      ]
     },
     "execution_count": 17,
     "metadata": {},
     "output_type": "execute_result"
    }
   ],
   "source": [
    "pd.crosstab(train.churn, train.gender, margins=True, normalize=True).style.background_gradient(cmap='YlOrRd')\n"
   ]
  },
  {
   "cell_type": "code",
   "execution_count": 18,
   "metadata": {
    "scrolled": true
   },
   "outputs": [
    {
     "data": {
      "text/html": [
       "<style  type=\"text/css\" >\n",
       "    #T_d73ec442_5679_11e9_b89f_c600b09a2f01row0_col0 {\n",
       "            background-color:  #feca66;\n",
       "        }    #T_d73ec442_5679_11e9_b89f_c600b09a2f01row0_col1 {\n",
       "            background-color:  #a40026;\n",
       "        }    #T_d73ec442_5679_11e9_b89f_c600b09a2f01row0_col2 {\n",
       "            background-color:  #d00d21;\n",
       "        }    #T_d73ec442_5679_11e9_b89f_c600b09a2f01row0_col3 {\n",
       "            background-color:  #f84628;\n",
       "        }    #T_d73ec442_5679_11e9_b89f_c600b09a2f01row1_col0 {\n",
       "            background-color:  #ffffcc;\n",
       "        }    #T_d73ec442_5679_11e9_b89f_c600b09a2f01row1_col1 {\n",
       "            background-color:  #ffffcc;\n",
       "        }    #T_d73ec442_5679_11e9_b89f_c600b09a2f01row1_col2 {\n",
       "            background-color:  #ffffcc;\n",
       "        }    #T_d73ec442_5679_11e9_b89f_c600b09a2f01row1_col3 {\n",
       "            background-color:  #ffffcc;\n",
       "        }    #T_d73ec442_5679_11e9_b89f_c600b09a2f01row2_col0 {\n",
       "            background-color:  #800026;\n",
       "        }    #T_d73ec442_5679_11e9_b89f_c600b09a2f01row2_col1 {\n",
       "            background-color:  #800026;\n",
       "        }    #T_d73ec442_5679_11e9_b89f_c600b09a2f01row2_col2 {\n",
       "            background-color:  #800026;\n",
       "        }    #T_d73ec442_5679_11e9_b89f_c600b09a2f01row2_col3 {\n",
       "            background-color:  #800026;\n",
       "        }</style>  \n",
       "<table id=\"T_d73ec442_5679_11e9_b89f_c600b09a2f01\" > \n",
       "<thead>    <tr> \n",
       "        <th class=\"index_name level0\" >tech_support</th> \n",
       "        <th class=\"col_heading level0 col0\" >0</th> \n",
       "        <th class=\"col_heading level0 col1\" >1</th> \n",
       "        <th class=\"col_heading level0 col2\" >2</th> \n",
       "        <th class=\"col_heading level0 col3\" >All</th> \n",
       "    </tr>    <tr> \n",
       "        <th class=\"index_name level0\" >churn</th> \n",
       "        <th class=\"blank\" ></th> \n",
       "        <th class=\"blank\" ></th> \n",
       "        <th class=\"blank\" ></th> \n",
       "        <th class=\"blank\" ></th> \n",
       "    </tr></thead> \n",
       "<tbody>    <tr> \n",
       "        <th id=\"T_d73ec442_5679_11e9_b89f_c600b09a2f01level0_row0\" class=\"row_heading level0 row0\" >0</th> \n",
       "        <td id=\"T_d73ec442_5679_11e9_b89f_c600b09a2f01row0_col0\" class=\"data row0 col0\" >0.288641</td> \n",
       "        <td id=\"T_d73ec442_5679_11e9_b89f_c600b09a2f01row0_col1\" class=\"data row0 col1\" >0.198986</td> \n",
       "        <td id=\"T_d73ec442_5679_11e9_b89f_c600b09a2f01row0_col2\" class=\"data row0 col2\" >0.248276</td> \n",
       "        <td id=\"T_d73ec442_5679_11e9_b89f_c600b09a2f01row0_col3\" class=\"data row0 col3\" >0.735903</td> \n",
       "    </tr>    <tr> \n",
       "        <th id=\"T_d73ec442_5679_11e9_b89f_c600b09a2f01level0_row1\" class=\"row_heading level0 row1\" >1</th> \n",
       "        <td id=\"T_d73ec442_5679_11e9_b89f_c600b09a2f01row1_col0\" class=\"data row1 col0\" >0.202028</td> \n",
       "        <td id=\"T_d73ec442_5679_11e9_b89f_c600b09a2f01row1_col1\" class=\"data row1 col1\" >0.0154158</td> \n",
       "        <td id=\"T_d73ec442_5679_11e9_b89f_c600b09a2f01row1_col2\" class=\"data row1 col2\" >0.0466531</td> \n",
       "        <td id=\"T_d73ec442_5679_11e9_b89f_c600b09a2f01row1_col3\" class=\"data row1 col3\" >0.264097</td> \n",
       "    </tr>    <tr> \n",
       "        <th id=\"T_d73ec442_5679_11e9_b89f_c600b09a2f01level0_row2\" class=\"row_heading level0 row2\" >All</th> \n",
       "        <td id=\"T_d73ec442_5679_11e9_b89f_c600b09a2f01row2_col0\" class=\"data row2 col0\" >0.490669</td> \n",
       "        <td id=\"T_d73ec442_5679_11e9_b89f_c600b09a2f01row2_col1\" class=\"data row2 col1\" >0.214402</td> \n",
       "        <td id=\"T_d73ec442_5679_11e9_b89f_c600b09a2f01row2_col2\" class=\"data row2 col2\" >0.294929</td> \n",
       "        <td id=\"T_d73ec442_5679_11e9_b89f_c600b09a2f01row2_col3\" class=\"data row2 col3\" >1</td> \n",
       "    </tr></tbody> \n",
       "</table> "
      ],
      "text/plain": [
       "<pandas.io.formats.style.Styler at 0x1a14f94b38>"
      ]
     },
     "execution_count": 18,
     "metadata": {},
     "output_type": "execute_result"
    }
   ],
   "source": [
    "pd.crosstab(train.churn, train.tech_support, margins=True, normalize=True).style.background_gradient(cmap='YlOrRd')\n"
   ]
  },
  {
   "cell_type": "code",
   "execution_count": 19,
   "metadata": {
    "scrolled": true
   },
   "outputs": [
    {
     "data": {
      "text/html": [
       "<style  type=\"text/css\" >\n",
       "    #T_d7494c32_5679_11e9_b89f_c600b09a2f01row0_col0 {\n",
       "            background-color:  #feb651;\n",
       "        }    #T_d7494c32_5679_11e9_b89f_c600b09a2f01row0_col1 {\n",
       "            background-color:  #a40026;\n",
       "        }    #T_d7494c32_5679_11e9_b89f_c600b09a2f01row0_col2 {\n",
       "            background-color:  #e92720;\n",
       "        }    #T_d7494c32_5679_11e9_b89f_c600b09a2f01row0_col3 {\n",
       "            background-color:  #f84628;\n",
       "        }    #T_d7494c32_5679_11e9_b89f_c600b09a2f01row1_col0 {\n",
       "            background-color:  #ffffcc;\n",
       "        }    #T_d7494c32_5679_11e9_b89f_c600b09a2f01row1_col1 {\n",
       "            background-color:  #ffffcc;\n",
       "        }    #T_d7494c32_5679_11e9_b89f_c600b09a2f01row1_col2 {\n",
       "            background-color:  #ffffcc;\n",
       "        }    #T_d7494c32_5679_11e9_b89f_c600b09a2f01row1_col3 {\n",
       "            background-color:  #ffffcc;\n",
       "        }    #T_d7494c32_5679_11e9_b89f_c600b09a2f01row2_col0 {\n",
       "            background-color:  #800026;\n",
       "        }    #T_d7494c32_5679_11e9_b89f_c600b09a2f01row2_col1 {\n",
       "            background-color:  #800026;\n",
       "        }    #T_d7494c32_5679_11e9_b89f_c600b09a2f01row2_col2 {\n",
       "            background-color:  #800026;\n",
       "        }    #T_d7494c32_5679_11e9_b89f_c600b09a2f01row2_col3 {\n",
       "            background-color:  #800026;\n",
       "        }</style>  \n",
       "<table id=\"T_d7494c32_5679_11e9_b89f_c600b09a2f01\" > \n",
       "<thead>    <tr> \n",
       "        <th class=\"index_name level0\" >device_protection</th> \n",
       "        <th class=\"col_heading level0 col0\" >0</th> \n",
       "        <th class=\"col_heading level0 col1\" >1</th> \n",
       "        <th class=\"col_heading level0 col2\" >2</th> \n",
       "        <th class=\"col_heading level0 col3\" >All</th> \n",
       "    </tr>    <tr> \n",
       "        <th class=\"index_name level0\" >churn</th> \n",
       "        <th class=\"blank\" ></th> \n",
       "        <th class=\"blank\" ></th> \n",
       "        <th class=\"blank\" ></th> \n",
       "        <th class=\"blank\" ></th> \n",
       "    </tr></thead> \n",
       "<tbody>    <tr> \n",
       "        <th id=\"T_d7494c32_5679_11e9_b89f_c600b09a2f01level0_row0\" class=\"row_heading level0 row0\" >0</th> \n",
       "        <td id=\"T_d7494c32_5679_11e9_b89f_c600b09a2f01row0_col0\" class=\"data row0 col0\" >0.271805</td> \n",
       "        <td id=\"T_d7494c32_5679_11e9_b89f_c600b09a2f01row0_col1\" class=\"data row0 col1\" >0.198986</td> \n",
       "        <td id=\"T_d7494c32_5679_11e9_b89f_c600b09a2f01row0_col2\" class=\"data row0 col2\" >0.265112</td> \n",
       "        <td id=\"T_d7494c32_5679_11e9_b89f_c600b09a2f01row0_col3\" class=\"data row0 col3\" >0.735903</td> \n",
       "    </tr>    <tr> \n",
       "        <th id=\"T_d7494c32_5679_11e9_b89f_c600b09a2f01level0_row1\" class=\"row_heading level0 row1\" >1</th> \n",
       "        <td id=\"T_d7494c32_5679_11e9_b89f_c600b09a2f01row1_col0\" class=\"data row1 col0\" >0.173225</td> \n",
       "        <td id=\"T_d7494c32_5679_11e9_b89f_c600b09a2f01row1_col1\" class=\"data row1 col1\" >0.0154158</td> \n",
       "        <td id=\"T_d7494c32_5679_11e9_b89f_c600b09a2f01row1_col2\" class=\"data row1 col2\" >0.0754564</td> \n",
       "        <td id=\"T_d7494c32_5679_11e9_b89f_c600b09a2f01row1_col3\" class=\"data row1 col3\" >0.264097</td> \n",
       "    </tr>    <tr> \n",
       "        <th id=\"T_d7494c32_5679_11e9_b89f_c600b09a2f01level0_row2\" class=\"row_heading level0 row2\" >All</th> \n",
       "        <td id=\"T_d7494c32_5679_11e9_b89f_c600b09a2f01row2_col0\" class=\"data row2 col0\" >0.44503</td> \n",
       "        <td id=\"T_d7494c32_5679_11e9_b89f_c600b09a2f01row2_col1\" class=\"data row2 col1\" >0.214402</td> \n",
       "        <td id=\"T_d7494c32_5679_11e9_b89f_c600b09a2f01row2_col2\" class=\"data row2 col2\" >0.340568</td> \n",
       "        <td id=\"T_d7494c32_5679_11e9_b89f_c600b09a2f01row2_col3\" class=\"data row2 col3\" >1</td> \n",
       "    </tr></tbody> \n",
       "</table> "
      ],
      "text/plain": [
       "<pandas.io.formats.style.Styler at 0x1a16910940>"
      ]
     },
     "execution_count": 19,
     "metadata": {},
     "output_type": "execute_result"
    }
   ],
   "source": [
    "pd.crosstab(train.churn, train.device_protection, margins=True, normalize=True).style.background_gradient(cmap='YlOrRd')\n"
   ]
  },
  {
   "cell_type": "code",
   "execution_count": 20,
   "metadata": {
    "scrolled": true
   },
   "outputs": [
    {
     "data": {
      "text/html": [
       "<style  type=\"text/css\" >\n",
       "    #T_d754b13a_5679_11e9_b89f_c600b09a2f01row0_col0 {\n",
       "            background-color:  #d51020;\n",
       "        }    #T_d754b13a_5679_11e9_b89f_c600b09a2f01row0_col1 {\n",
       "            background-color:  #fd883b;\n",
       "        }    #T_d754b13a_5679_11e9_b89f_c600b09a2f01row0_col2 {\n",
       "            background-color:  #f84628;\n",
       "        }    #T_d754b13a_5679_11e9_b89f_c600b09a2f01row1_col0 {\n",
       "            background-color:  #ffffcc;\n",
       "        }    #T_d754b13a_5679_11e9_b89f_c600b09a2f01row1_col1 {\n",
       "            background-color:  #ffffcc;\n",
       "        }    #T_d754b13a_5679_11e9_b89f_c600b09a2f01row1_col2 {\n",
       "            background-color:  #ffffcc;\n",
       "        }    #T_d754b13a_5679_11e9_b89f_c600b09a2f01row2_col0 {\n",
       "            background-color:  #800026;\n",
       "        }    #T_d754b13a_5679_11e9_b89f_c600b09a2f01row2_col1 {\n",
       "            background-color:  #800026;\n",
       "        }    #T_d754b13a_5679_11e9_b89f_c600b09a2f01row2_col2 {\n",
       "            background-color:  #800026;\n",
       "        }</style>  \n",
       "<table id=\"T_d754b13a_5679_11e9_b89f_c600b09a2f01\" > \n",
       "<thead>    <tr> \n",
       "        <th class=\"index_name level0\" >paperless_billing</th> \n",
       "        <th class=\"col_heading level0 col0\" >0</th> \n",
       "        <th class=\"col_heading level0 col1\" >1</th> \n",
       "        <th class=\"col_heading level0 col2\" >All</th> \n",
       "    </tr>    <tr> \n",
       "        <th class=\"index_name level0\" >churn</th> \n",
       "        <th class=\"blank\" ></th> \n",
       "        <th class=\"blank\" ></th> \n",
       "        <th class=\"blank\" ></th> \n",
       "    </tr></thead> \n",
       "<tbody>    <tr> \n",
       "        <th id=\"T_d754b13a_5679_11e9_b89f_c600b09a2f01level0_row0\" class=\"row_heading level0 row0\" >0</th> \n",
       "        <td id=\"T_d754b13a_5679_11e9_b89f_c600b09a2f01row0_col0\" class=\"data row0 col0\" >0.340974</td> \n",
       "        <td id=\"T_d754b13a_5679_11e9_b89f_c600b09a2f01row0_col1\" class=\"data row0 col1\" >0.394929</td> \n",
       "        <td id=\"T_d754b13a_5679_11e9_b89f_c600b09a2f01row0_col2\" class=\"data row0 col2\" >0.735903</td> \n",
       "    </tr>    <tr> \n",
       "        <th id=\"T_d754b13a_5679_11e9_b89f_c600b09a2f01level0_row1\" class=\"row_heading level0 row1\" >1</th> \n",
       "        <td id=\"T_d754b13a_5679_11e9_b89f_c600b09a2f01row1_col0\" class=\"data row1 col0\" >0.0703854</td> \n",
       "        <td id=\"T_d754b13a_5679_11e9_b89f_c600b09a2f01row1_col1\" class=\"data row1 col1\" >0.193712</td> \n",
       "        <td id=\"T_d754b13a_5679_11e9_b89f_c600b09a2f01row1_col2\" class=\"data row1 col2\" >0.264097</td> \n",
       "    </tr>    <tr> \n",
       "        <th id=\"T_d754b13a_5679_11e9_b89f_c600b09a2f01level0_row2\" class=\"row_heading level0 row2\" >All</th> \n",
       "        <td id=\"T_d754b13a_5679_11e9_b89f_c600b09a2f01row2_col0\" class=\"data row2 col0\" >0.411359</td> \n",
       "        <td id=\"T_d754b13a_5679_11e9_b89f_c600b09a2f01row2_col1\" class=\"data row2 col1\" >0.588641</td> \n",
       "        <td id=\"T_d754b13a_5679_11e9_b89f_c600b09a2f01row2_col2\" class=\"data row2 col2\" >1</td> \n",
       "    </tr></tbody> \n",
       "</table> "
      ],
      "text/plain": [
       "<pandas.io.formats.style.Styler at 0x1a16922f60>"
      ]
     },
     "execution_count": 20,
     "metadata": {},
     "output_type": "execute_result"
    }
   ],
   "source": [
    "pd.crosstab(train.churn, train.paperless_billing, margins=True, normalize=True).style.background_gradient(cmap='YlOrRd')\n"
   ]
  },
  {
   "cell_type": "code",
   "execution_count": 21,
   "metadata": {
    "scrolled": true
   },
   "outputs": [
    {
     "data": {
      "text/html": [
       "<style  type=\"text/css\" >\n",
       "    #T_d7603bf4_5679_11e9_b89f_c600b09a2f01row0_col0 {\n",
       "            background-color:  #f43d25;\n",
       "        }    #T_d7603bf4_5679_11e9_b89f_c600b09a2f01row0_col1 {\n",
       "            background-color:  #f43d25;\n",
       "        }    #T_d7603bf4_5679_11e9_b89f_c600b09a2f01row0_col2 {\n",
       "            background-color:  #fc592d;\n",
       "        }    #T_d7603bf4_5679_11e9_b89f_c600b09a2f01row0_col3 {\n",
       "            background-color:  #f84628;\n",
       "        }    #T_d7603bf4_5679_11e9_b89f_c600b09a2f01row1_col0 {\n",
       "            background-color:  #ffffcc;\n",
       "        }    #T_d7603bf4_5679_11e9_b89f_c600b09a2f01row1_col1 {\n",
       "            background-color:  #ffffcc;\n",
       "        }    #T_d7603bf4_5679_11e9_b89f_c600b09a2f01row1_col2 {\n",
       "            background-color:  #ffffcc;\n",
       "        }    #T_d7603bf4_5679_11e9_b89f_c600b09a2f01row1_col3 {\n",
       "            background-color:  #ffffcc;\n",
       "        }    #T_d7603bf4_5679_11e9_b89f_c600b09a2f01row2_col0 {\n",
       "            background-color:  #800026;\n",
       "        }    #T_d7603bf4_5679_11e9_b89f_c600b09a2f01row2_col1 {\n",
       "            background-color:  #800026;\n",
       "        }    #T_d7603bf4_5679_11e9_b89f_c600b09a2f01row2_col2 {\n",
       "            background-color:  #800026;\n",
       "        }    #T_d7603bf4_5679_11e9_b89f_c600b09a2f01row2_col3 {\n",
       "            background-color:  #800026;\n",
       "        }</style>  \n",
       "<table id=\"T_d7603bf4_5679_11e9_b89f_c600b09a2f01\" > \n",
       "<thead>    <tr> \n",
       "        <th class=\"index_name level0\" >phone_id</th> \n",
       "        <th class=\"col_heading level0 col0\" >0</th> \n",
       "        <th class=\"col_heading level0 col1\" >1</th> \n",
       "        <th class=\"col_heading level0 col2\" >2</th> \n",
       "        <th class=\"col_heading level0 col3\" >All</th> \n",
       "    </tr>    <tr> \n",
       "        <th class=\"index_name level0\" >churn</th> \n",
       "        <th class=\"blank\" ></th> \n",
       "        <th class=\"blank\" ></th> \n",
       "        <th class=\"blank\" ></th> \n",
       "        <th class=\"blank\" ></th> \n",
       "    </tr></thead> \n",
       "<tbody>    <tr> \n",
       "        <th id=\"T_d7603bf4_5679_11e9_b89f_c600b09a2f01level0_row0\" class=\"row_heading level0 row0\" >0</th> \n",
       "        <td id=\"T_d7603bf4_5679_11e9_b89f_c600b09a2f01row0_col0\" class=\"data row0 col0\" >0.0738337</td> \n",
       "        <td id=\"T_d7603bf4_5679_11e9_b89f_c600b09a2f01row0_col1\" class=\"data row0 col1\" >0.364909</td> \n",
       "        <td id=\"T_d7603bf4_5679_11e9_b89f_c600b09a2f01row0_col2\" class=\"data row0 col2\" >0.29716</td> \n",
       "        <td id=\"T_d7603bf4_5679_11e9_b89f_c600b09a2f01row0_col3\" class=\"data row0 col3\" >0.735903</td> \n",
       "    </tr>    <tr> \n",
       "        <th id=\"T_d7603bf4_5679_11e9_b89f_c600b09a2f01level0_row1\" class=\"row_heading level0 row1\" >1</th> \n",
       "        <td id=\"T_d7603bf4_5679_11e9_b89f_c600b09a2f01row1_col0\" class=\"data row1 col0\" >0.0247465</td> \n",
       "        <td id=\"T_d7603bf4_5679_11e9_b89f_c600b09a2f01row1_col1\" class=\"data row1 col1\" >0.12211</td> \n",
       "        <td id=\"T_d7603bf4_5679_11e9_b89f_c600b09a2f01row1_col2\" class=\"data row1 col2\" >0.117241</td> \n",
       "        <td id=\"T_d7603bf4_5679_11e9_b89f_c600b09a2f01row1_col3\" class=\"data row1 col3\" >0.264097</td> \n",
       "    </tr>    <tr> \n",
       "        <th id=\"T_d7603bf4_5679_11e9_b89f_c600b09a2f01level0_row2\" class=\"row_heading level0 row2\" >All</th> \n",
       "        <td id=\"T_d7603bf4_5679_11e9_b89f_c600b09a2f01row2_col0\" class=\"data row2 col0\" >0.0985801</td> \n",
       "        <td id=\"T_d7603bf4_5679_11e9_b89f_c600b09a2f01row2_col1\" class=\"data row2 col1\" >0.487018</td> \n",
       "        <td id=\"T_d7603bf4_5679_11e9_b89f_c600b09a2f01row2_col2\" class=\"data row2 col2\" >0.414402</td> \n",
       "        <td id=\"T_d7603bf4_5679_11e9_b89f_c600b09a2f01row2_col3\" class=\"data row2 col3\" >1</td> \n",
       "    </tr></tbody> \n",
       "</table> "
      ],
      "text/plain": [
       "<pandas.io.formats.style.Styler at 0x1a16dbc898>"
      ]
     },
     "execution_count": 21,
     "metadata": {},
     "output_type": "execute_result"
    }
   ],
   "source": [
    "pd.crosstab(train.churn, train.phone_id, margins=True, normalize=True).style.background_gradient(cmap='YlOrRd')\n"
   ]
  },
  {
   "cell_type": "code",
   "execution_count": 22,
   "metadata": {
    "scrolled": true
   },
   "outputs": [
    {
     "data": {
      "text/html": [
       "<style  type=\"text/css\" >\n",
       "    #T_d76b837e_5679_11e9_b89f_c600b09a2f01row0_col0 {\n",
       "            background-color:  #ed2e21;\n",
       "        }    #T_d76b837e_5679_11e9_b89f_c600b09a2f01row0_col1 {\n",
       "            background-color:  #fd7034;\n",
       "        }    #T_d76b837e_5679_11e9_b89f_c600b09a2f01row0_col2 {\n",
       "            background-color:  #fd7c37;\n",
       "        }    #T_d76b837e_5679_11e9_b89f_c600b09a2f01row0_col3 {\n",
       "            background-color:  #fc5b2e;\n",
       "        }    #T_d76b837e_5679_11e9_b89f_c600b09a2f01row0_col4 {\n",
       "            background-color:  #f84628;\n",
       "        }    #T_d76b837e_5679_11e9_b89f_c600b09a2f01row1_col0 {\n",
       "            background-color:  #ffffcc;\n",
       "        }    #T_d76b837e_5679_11e9_b89f_c600b09a2f01row1_col1 {\n",
       "            background-color:  #ffffcc;\n",
       "        }    #T_d76b837e_5679_11e9_b89f_c600b09a2f01row1_col2 {\n",
       "            background-color:  #ffffcc;\n",
       "        }    #T_d76b837e_5679_11e9_b89f_c600b09a2f01row1_col3 {\n",
       "            background-color:  #ffffcc;\n",
       "        }    #T_d76b837e_5679_11e9_b89f_c600b09a2f01row1_col4 {\n",
       "            background-color:  #ffffcc;\n",
       "        }    #T_d76b837e_5679_11e9_b89f_c600b09a2f01row2_col0 {\n",
       "            background-color:  #800026;\n",
       "        }    #T_d76b837e_5679_11e9_b89f_c600b09a2f01row2_col1 {\n",
       "            background-color:  #800026;\n",
       "        }    #T_d76b837e_5679_11e9_b89f_c600b09a2f01row2_col2 {\n",
       "            background-color:  #800026;\n",
       "        }    #T_d76b837e_5679_11e9_b89f_c600b09a2f01row2_col3 {\n",
       "            background-color:  #800026;\n",
       "        }    #T_d76b837e_5679_11e9_b89f_c600b09a2f01row2_col4 {\n",
       "            background-color:  #800026;\n",
       "        }</style>  \n",
       "<table id=\"T_d76b837e_5679_11e9_b89f_c600b09a2f01\" > \n",
       "<thead>    <tr> \n",
       "        <th class=\"index_name level0\" >streaming_services</th> \n",
       "        <th class=\"col_heading level0 col0\" >0</th> \n",
       "        <th class=\"col_heading level0 col1\" >1</th> \n",
       "        <th class=\"col_heading level0 col2\" >2</th> \n",
       "        <th class=\"col_heading level0 col3\" >3</th> \n",
       "        <th class=\"col_heading level0 col4\" >All</th> \n",
       "    </tr>    <tr> \n",
       "        <th class=\"index_name level0\" >churn</th> \n",
       "        <th class=\"blank\" ></th> \n",
       "        <th class=\"blank\" ></th> \n",
       "        <th class=\"blank\" ></th> \n",
       "        <th class=\"blank\" ></th> \n",
       "        <th class=\"blank\" ></th> \n",
       "    </tr></thead> \n",
       "<tbody>    <tr> \n",
       "        <th id=\"T_d76b837e_5679_11e9_b89f_c600b09a2f01level0_row0\" class=\"row_heading level0 row0\" >0</th> \n",
       "        <td id=\"T_d76b837e_5679_11e9_b89f_c600b09a2f01row0_col0\" class=\"data row0 col0\" >0.389452</td> \n",
       "        <td id=\"T_d76b837e_5679_11e9_b89f_c600b09a2f01row0_col1\" class=\"data row0 col1\" >0.0778905</td> \n",
       "        <td id=\"T_d76b837e_5679_11e9_b89f_c600b09a2f01row0_col2\" class=\"data row0 col2\" >0.0758621</td> \n",
       "        <td id=\"T_d76b837e_5679_11e9_b89f_c600b09a2f01row0_col3\" class=\"data row0 col3\" >0.192698</td> \n",
       "        <td id=\"T_d76b837e_5679_11e9_b89f_c600b09a2f01row0_col4\" class=\"data row0 col4\" >0.735903</td> \n",
       "    </tr>    <tr> \n",
       "        <th id=\"T_d76b837e_5679_11e9_b89f_c600b09a2f01level0_row1\" class=\"row_heading level0 row1\" >1</th> \n",
       "        <td id=\"T_d76b837e_5679_11e9_b89f_c600b09a2f01row1_col0\" class=\"data row1 col0\" >0.116633</td> \n",
       "        <td id=\"T_d76b837e_5679_11e9_b89f_c600b09a2f01row1_col1\" class=\"data row1 col1\" >0.0346856</td> \n",
       "        <td id=\"T_d76b837e_5679_11e9_b89f_c600b09a2f01row1_col2\" class=\"data row1 col2\" >0.0352941</td> \n",
       "        <td id=\"T_d76b837e_5679_11e9_b89f_c600b09a2f01row1_col3\" class=\"data row1 col3\" >0.0774848</td> \n",
       "        <td id=\"T_d76b837e_5679_11e9_b89f_c600b09a2f01row1_col4\" class=\"data row1 col4\" >0.264097</td> \n",
       "    </tr>    <tr> \n",
       "        <th id=\"T_d76b837e_5679_11e9_b89f_c600b09a2f01level0_row2\" class=\"row_heading level0 row2\" >All</th> \n",
       "        <td id=\"T_d76b837e_5679_11e9_b89f_c600b09a2f01row2_col0\" class=\"data row2 col0\" >0.506085</td> \n",
       "        <td id=\"T_d76b837e_5679_11e9_b89f_c600b09a2f01row2_col1\" class=\"data row2 col1\" >0.112576</td> \n",
       "        <td id=\"T_d76b837e_5679_11e9_b89f_c600b09a2f01row2_col2\" class=\"data row2 col2\" >0.111156</td> \n",
       "        <td id=\"T_d76b837e_5679_11e9_b89f_c600b09a2f01row2_col3\" class=\"data row2 col3\" >0.270183</td> \n",
       "        <td id=\"T_d76b837e_5679_11e9_b89f_c600b09a2f01row2_col4\" class=\"data row2 col4\" >1</td> \n",
       "    </tr></tbody> \n",
       "</table> "
      ],
      "text/plain": [
       "<pandas.io.formats.style.Styler at 0x102099128>"
      ]
     },
     "execution_count": 22,
     "metadata": {},
     "output_type": "execute_result"
    }
   ],
   "source": [
    "pd.crosstab(train.churn, train.streaming_services, margins=True, normalize=True).style.background_gradient(cmap='YlOrRd')\n"
   ]
  },
  {
   "cell_type": "code",
   "execution_count": 23,
   "metadata": {
    "scrolled": true
   },
   "outputs": [
    {
     "data": {
      "image/png": "[encoded data removed]",
      "text/plain": [
       "<Figure size 432x288 with 1 Axes>"
      ]
     },
     "metadata": {
      "needs_background": "light"
     },
     "output_type": "display_data"
    }
   ],
   "source": [
    "# barplot\n",
    "ax = sns.barplot(x=\"contract_type_id\", y=\"churn\", data=train)"
   ]
  },
  {
   "cell_type": "code",
   "execution_count": 24,
   "metadata": {
    "scrolled": true
   },
   "outputs": [
    {
     "data": {
      "image/png": "[encoded data removed]",
      "text/plain": [
       "<Figure size 432x288 with 1 Axes>"
      ]
     },
     "metadata": {
      "needs_background": "light"
     },
     "output_type": "display_data"
    }
   ],
   "source": [
    "# barplot\n",
    "ax = sns.barplot(x=\"senior_citizen\", y=\"churn\", data=train)"
   ]
  },
  {
   "cell_type": "code",
   "execution_count": 25,
   "metadata": {
    "scrolled": true
   },
   "outputs": [
    {
     "data": {
      "image/png": "[encoded data removed]",
      "text/plain": [
       "<Figure size 432x288 with 1 Axes>"
      ]
     },
     "metadata": {
      "needs_background": "light"
     },
     "output_type": "display_data"
    }
   ],
   "source": [
    "# barplot\n",
    "ax = sns.barplot(x=\"household_type_id\", y=\"churn\", data=train)"
   ]
  },
  {
   "cell_type": "code",
   "execution_count": 26,
   "metadata": {
    "scrolled": true
   },
   "outputs": [
    {
     "data": {
      "image/png": "[encoded data removed]",
      "text/plain": [
       "<Figure size 432x288 with 1 Axes>"
      ]
     },
     "metadata": {
      "needs_background": "light"
     },
     "output_type": "display_data"
    }
   ],
   "source": [
    "# barplot\n",
    "ax = sns.barplot(x=\"streaming_services\", y=\"churn\", data=train)"
   ]
  },
  {
   "cell_type": "code",
   "execution_count": 27,
   "metadata": {
    "scrolled": true
   },
   "outputs": [
    {
     "data": {
      "image/png": "[encoded data removed]",
      "text/plain": [
       "<Figure size 432x288 with 1 Axes>"
      ]
     },
     "metadata": {
      "needs_background": "light"
     },
     "output_type": "display_data"
    }
   ],
   "source": [
    "# barplot\n",
    "ax = sns.barplot(x=\"gender\", y=\"churn\", data=train)"
   ]
  },
  {
   "cell_type": "code",
   "execution_count": 28,
   "metadata": {
    "scrolled": true
   },
   "outputs": [
    {
     "data": {
      "image/png": "[encoded data removed]",
      "text/plain": [
       "<Figure size 432x288 with 1 Axes>"
      ]
     },
     "metadata": {
      "needs_background": "light"
     },
     "output_type": "display_data"
    }
   ],
   "source": [
    "# barplot\n",
    "ax = sns.barplot(x=\"device_protection\", y=\"churn\", data=train)"
   ]
  },
  {
   "cell_type": "code",
   "execution_count": 29,
   "metadata": {
    "scrolled": true
   },
   "outputs": [
    {
     "data": {
      "image/png": "[encoded data removed]",
      "text/plain": [
       "<Figure size 432x288 with 1 Axes>"
      ]
     },
     "metadata": {
      "needs_background": "light"
     },
     "output_type": "display_data"
    }
   ],
   "source": [
    "# barplot\n",
    "ax = sns.barplot(x=\"tech_support\", y=\"churn\", data=train)"
   ]
  },
  {
   "cell_type": "code",
   "execution_count": 30,
   "metadata": {
    "scrolled": true
   },
   "outputs": [
    {
     "data": {
      "image/png": "[encoded data removed]",
      "text/plain": [
       "<Figure size 432x288 with 1 Axes>"
      ]
     },
     "metadata": {
      "needs_background": "light"
     },
     "output_type": "display_data"
    }
   ],
   "source": [
    "# barplot\n",
    "ax = sns.barplot(x=\"paperless_billing\", y=\"churn\", data=train)"
   ]
  },
  {
   "cell_type": "code",
   "execution_count": 45,
   "metadata": {},
   "outputs": [
    {
     "data": {
      "image/png": "[encoded data removed]",
      "text/plain": [
       "<Figure size 432x288 with 1 Axes>"
      ]
     },
     "metadata": {
      "needs_background": "light"
     },
     "output_type": "display_data"
    }
   ],
   "source": [
    "# barplot\n",
    "ax = sns.barplot(x=\"phone_id\", y=\"churn\", data=train)"
   ]
  },
  {
   "cell_type": "code",
   "execution_count": 31,
   "metadata": {
    "scrolled": true
   },
   "outputs": [
    {
     "data": {
      "text/plain": [
       "<matplotlib.axes._subplots.AxesSubplot at 0x1a17401ac8>"
      ]
     },
     "execution_count": 31,
     "metadata": {},
     "output_type": "execute_result"
    },
    {
     "data": {
      "image/png": "[encoded data removed]",
      "text/plain": [
       "<Figure size 432x288 with 1 Axes>"
      ]
     },
     "metadata": {
      "needs_background": "light"
     },
     "output_type": "display_data"
    }
   ],
   "source": [
    "train.rate_churn.plot()"
   ]
  },
  {
   "cell_type": "code",
   "execution_count": 32,
   "metadata": {
    "scrolled": true
   },
   "outputs": [
    {
     "data": {
      "text/plain": [
       "<seaborn.axisgrid.JointGrid at 0x1a174f8c50>"
      ]
     },
     "execution_count": 32,
     "metadata": {},
     "output_type": "execute_result"
    },
    {
     "data": {
      "image/png": "[encoded data removed]",
      "text/plain": [
       "<Figure size 432x432 with 3 Axes>"
      ]
     },
     "metadata": {
      "needs_background": "light"
     },
     "output_type": "display_data"
    }
   ],
   "source": [
    "# joint plot\n",
    "sns.jointplot(x=train.tenure, y=train.rate_churn, data=train)"
   ]
  },
  {
   "cell_type": "code",
   "execution_count": 44,
   "metadata": {},
   "outputs": [
    {
     "data": {
      "text/plain": [
       "<seaborn.axisgrid.JointGrid at 0x1a19dc48d0>"
      ]
     },
     "execution_count": 44,
     "metadata": {},
     "output_type": "execute_result"
    },
    {
     "data": {
      "image/png": "[encoded data removed]",
      "text/plain": [
       "<Figure size 432x432 with 3 Axes>"
      ]
     },
     "metadata": {
      "needs_background": "light"
     },
     "output_type": "display_data"
    }
   ],
   "source": [
    "# joint plot\n",
    "sns.jointplot(x=train.monthly_charges, y=train.rate_churn, data=train)"
   ]
  },
  {
   "cell_type": "code",
   "execution_count": 33,
   "metadata": {
    "scrolled": true
   },
   "outputs": [
    {
     "data": {
      "text/plain": [
       "<matplotlib.axes._subplots.AxesSubplot at 0x1a173882b0>"
      ]
     },
     "execution_count": 33,
     "metadata": {},
     "output_type": "execute_result"
    },
    {
     "data": {
      "image/png": "[encoded data removed]",
      "text/plain": [
       "<Figure size 432x288 with 1 Axes>"
      ]
     },
     "metadata": {
      "needs_background": "light"
     },
     "output_type": "display_data"
    }
   ],
   "source": [
    "sns.distplot(train.tenure)"
   ]
  },
  {
   "cell_type": "code",
   "execution_count": 34,
   "metadata": {
    "scrolled": true
   },
   "outputs": [
    {
     "data": {
      "text/plain": [
       "<matplotlib.axes._subplots.AxesSubplot at 0x1a177ec630>"
      ]
     },
     "execution_count": 34,
     "metadata": {},
     "output_type": "execute_result"
    },
    {
     "data": {
      "image/png": "[encoded data removed]",
      "text/plain": [
       "<Figure size 432x288 with 1 Axes>"
      ]
     },
     "metadata": {
      "needs_background": "light"
     },
     "output_type": "display_data"
    }
   ],
   "source": [
    "sns.distplot(train.streaming_services)"
   ]
  },
  {
   "cell_type": "code",
   "execution_count": 35,
   "metadata": {
    "scrolled": true
   },
   "outputs": [
    {
     "data": {
      "text/plain": [
       "<matplotlib.axes._subplots.AxesSubplot at 0x1a16e68748>"
      ]
     },
     "execution_count": 35,
     "metadata": {},
     "output_type": "execute_result"
    },
    {
     "data": {
      "image/png": "[encoded data removed]",
      "text/plain": [
       "<Figure size 432x288 with 1 Axes>"
      ]
     },
     "metadata": {
      "needs_background": "light"
     },
     "output_type": "display_data"
    }
   ],
   "source": [
    "sns.distplot(train.paperless_billing)"
   ]
  },
  {
   "cell_type": "code",
   "execution_count": 36,
   "metadata": {
    "scrolled": true
   },
   "outputs": [
    {
     "data": {
      "text/plain": [
       "<matplotlib.axes._subplots.AxesSubplot at 0x1a16ff1358>"
      ]
     },
     "execution_count": 36,
     "metadata": {},
     "output_type": "execute_result"
    },
    {
     "data": {
      "image/png": "[encoded data removed]",
      "text/plain": [
       "<Figure size 432x288 with 1 Axes>"
      ]
     },
     "metadata": {
      "needs_background": "light"
     },
     "output_type": "display_data"
    }
   ],
   "source": [
    "sns.distplot(train.gender)"
   ]
  },
  {
   "cell_type": "code",
   "execution_count": 37,
   "metadata": {
    "scrolled": true
   },
   "outputs": [
    {
     "data": {
      "text/plain": [
       "<matplotlib.axes._subplots.AxesSubplot at 0x1a16f3f048>"
      ]
     },
     "execution_count": 37,
     "metadata": {},
     "output_type": "execute_result"
    },
    {
     "data": {
      "image/png": "[encoded data removed]",
      "text/plain": [
       "<Figure size 432x288 with 1 Axes>"
      ]
     },
     "metadata": {
      "needs_background": "light"
     },
     "output_type": "display_data"
    }
   ],
   "source": [
    "sns.distplot(train.contract_type_id)"
   ]
  },
  {
   "cell_type": "code",
   "execution_count": 38,
   "metadata": {
    "scrolled": true
   },
   "outputs": [
    {
     "data": {
      "text/plain": [
       "[<matplotlib.lines.Line2D at 0x1a16e96470>]"
      ]
     },
     "execution_count": 38,
     "metadata": {},
     "output_type": "execute_result"
    },
    {
     "data": {
      "image/png": "[encoded data removed]",
      "text/plain": [
       "<Figure size 432x288 with 1 Axes>"
      ]
     },
     "metadata": {
      "needs_background": "light"
     },
     "output_type": "display_data"
    }
   ],
   "source": [
    "# plt.plot\n",
    "plt.plot('gender', 'churn', data=train)"
   ]
  },
  {
   "cell_type": "code",
   "execution_count": 39,
   "metadata": {
    "scrolled": true
   },
   "outputs": [
    {
     "data": {
      "text/plain": [
       "[<matplotlib.lines.Line2D at 0x1a170bd470>]"
      ]
     },
     "execution_count": 39,
     "metadata": {},
     "output_type": "execute_result"
    },
    {
     "data": {
      "image/png": "[encoded data removed]",
      "text/plain": [
       "<Figure size 432x288 with 1 Axes>"
      ]
     },
     "metadata": {
      "needs_background": "light"
     },
     "output_type": "display_data"
    }
   ],
   "source": [
    "# plt.plot\n",
    "plt.plot('monthly_charges', 'churn', data=train)"
   ]
  },
  {
   "cell_type": "code",
   "execution_count": 40,
   "metadata": {
    "scrolled": true
   },
   "outputs": [
    {
     "data": {
      "text/plain": [
       "[<matplotlib.lines.Line2D at 0x1a18ae9630>]"
      ]
     },
     "execution_count": 40,
     "metadata": {},
     "output_type": "execute_result"
    },
    {
     "data": {
      "image/png": "[encoded data removed]",
      "text/plain": [
       "<Figure size 432x288 with 1 Axes>"
      ]
     },
     "metadata": {
      "needs_background": "light"
     },
     "output_type": "display_data"
    }
   ],
   "source": [
    "# plt.plot\n",
    "plt.plot('contract_type_id', 'churn', data=train)"
   ]
  },
  {
   "cell_type": "code",
   "execution_count": 41,
   "metadata": {},
   "outputs": [
    {
     "data": {
      "text/plain": [
       "[<matplotlib.lines.Line2D at 0x1a1789f400>]"
      ]
     },
     "execution_count": 41,
     "metadata": {},
     "output_type": "execute_result"
    },
    {
     "data": {
      "image/png": "[encoded data removed]",
      "text/plain": [
       "<Figure size 432x288 with 1 Axes>"
      ]
     },
     "metadata": {
      "needs_background": "light"
     },
     "output_type": "display_data"
    }
   ],
   "source": [
    "# plt.plot\n",
    "plt.plot('paperless_billing', 'churn', data=train)"
   ]
  },
  {
   "cell_type": "code",
   "execution_count": 42,
   "metadata": {},
   "outputs": [
    {
     "data": {
      "text/plain": [
       "[<matplotlib.lines.Line2D at 0x1a19de6438>]"
      ]
     },
     "execution_count": 42,
     "metadata": {},
     "output_type": "execute_result"
    },
    {
     "data": {
      "image/png": "[encoded data removed]",
      "text/plain": [
       "<Figure size 432x288 with 1 Axes>"
      ]
     },
     "metadata": {
      "needs_background": "light"
     },
     "output_type": "display_data"
    }
   ],
   "source": [
    "# plt.plot\n",
    "plt.plot('total_charges', 'churn', data=train)"
   ]
  },
  {
   "cell_type": "code",
   "execution_count": null,
   "metadata": {},
   "outputs": [],
   "source": [
    "# What can you say about each variable's relationship to churn, based on your initial exploration? If there appears\n",
    "# to be some sort of interaction or correlation, assume there is no causal relationship and brainstorm (and document)\n",
    "# ideas on reasons there could be correlation.\n",
    "# According to the above, the variables that do not have a strong enough correlation(AKA the ones we can drop) are gender and phone_id.\n",
    "# The variables that do have a significant effect on churn rate are contract_type_id, senior_citizen, household_type_id, \n",
    "# device_protection, tech_support, and paperless_billing\n"
   ]
  }
 ],
 "metadata": {
  "kernelspec": {
   "display_name": "Python 3",
   "language": "python",
   "name": "python3"
  },
  "language_info": {
   "codemirror_mode": {
    "name": "ipython",
    "version": 3
   },
   "file_extension": ".py",
   "mimetype": "text/x-python",
   "name": "python",
   "nbconvert_exporter": "python",
   "pygments_lexer": "ipython3",
   "version": "3.7.1"
  }
 },
 "nbformat": 4,
 "nbformat_minor": 2
}
