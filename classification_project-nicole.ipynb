{
 "cells": [
  {
   "cell_type": "code",
   "execution_count": 1,
   "metadata": {
    "scrolled": true
   },
   "outputs": [],
   "source": [
    "from sklearn.preprocessing import MinMaxScaler\n",
    "from sklearn.model_selection import train_test_split\n",
    "from sklearn.linear_model import LogisticRegression\n",
    "import graphviz\n",
    "import pandas as pd\n",
    "import seaborn as sns\n",
    "import numpy as np\n",
    "import matplotlib.pyplot as plt\n",
    "%matplotlib inline\n",
    "import numpy as np\n",
    "\n",
    "import warnings\n",
    "warnings.filterwarnings(\"ignore\")\n",
    "import prep"
   ]
  },
  {
   "cell_type": "markdown",
   "metadata": {},
   "source": [
    "# Hypothesis"
   ]
  },
  {
   "cell_type": "markdown",
   "metadata": {},
   "source": [
    "-The month in which a customer signs up will have an impact on the rate of churn.\n",
    "\n",
    "-Features like internet service, type of phone service, online security and backup, senior citizens will affect the rate of churn.\n",
    "\n",
    "-There will be a price point on some of the serves where churn will increse.\n",
    "\n",
    "-The contract plan will affect the rate of churn."
   ]
  },
  {
   "cell_type": "markdown",
   "metadata": {},
   "source": [
    "# Acquisition"
   ]
  },
  {
   "cell_type": "code",
   "execution_count": 2,
   "metadata": {
    "scrolled": true
   },
   "outputs": [],
   "source": [
    "# Get churn data from customers table\n",
    "df = pd.read_csv('telco_churn_customers.csv')\n",
    "df = prep.prep_telco(df) # data prep from prep.py file"
   ]
  },
  {
   "cell_type": "code",
   "execution_count": 3,
   "metadata": {},
   "outputs": [],
   "source": [
    "df.drop(columns='customer_id', axis=1, inplace=True)"
   ]
  },
  {
   "cell_type": "code",
   "execution_count": 4,
   "metadata": {
    "scrolled": true
   },
   "outputs": [
    {
     "data": {
      "text/html": [
       "<div>\n",
       "<style scoped>\n",
       "    .dataframe tbody tr th:only-of-type {\n",
       "        vertical-align: middle;\n",
       "    }\n",
       "\n",
       "    .dataframe tbody tr th {\n",
       "        vertical-align: top;\n",
       "    }\n",
       "\n",
       "    .dataframe thead th {\n",
       "        text-align: right;\n",
       "    }\n",
       "</style>\n",
       "<table border=\"1\" class=\"dataframe\">\n",
       "  <thead>\n",
       "    <tr style=\"text-align: right;\">\n",
       "      <th></th>\n",
       "      <th>senior_citizen</th>\n",
       "      <th>tenure</th>\n",
       "      <th>internet_service_type_id</th>\n",
       "      <th>contract_type_id</th>\n",
       "      <th>payment_type_id</th>\n",
       "      <th>monthly_charges</th>\n",
       "      <th>total_charges</th>\n",
       "      <th>churn</th>\n",
       "      <th>tenure_year</th>\n",
       "      <th>household_type_id</th>\n",
       "      <th>streaming_services</th>\n",
       "      <th>phone_id</th>\n",
       "      <th>online_security_backup</th>\n",
       "      <th>gender</th>\n",
       "      <th>device_protection</th>\n",
       "      <th>tech_support</th>\n",
       "      <th>paperless_billing</th>\n",
       "    </tr>\n",
       "  </thead>\n",
       "  <tbody>\n",
       "    <tr>\n",
       "      <th>0</th>\n",
       "      <td>0</td>\n",
       "      <td>9</td>\n",
       "      <td>1</td>\n",
       "      <td>2</td>\n",
       "      <td>2</td>\n",
       "      <td>65.6</td>\n",
       "      <td>593.30</td>\n",
       "      <td>0</td>\n",
       "      <td>0.75</td>\n",
       "      <td>3</td>\n",
       "      <td>2</td>\n",
       "      <td>1</td>\n",
       "      <td>2</td>\n",
       "      <td>0</td>\n",
       "      <td>0</td>\n",
       "      <td>2</td>\n",
       "      <td>1</td>\n",
       "    </tr>\n",
       "    <tr>\n",
       "      <th>1</th>\n",
       "      <td>0</td>\n",
       "      <td>9</td>\n",
       "      <td>1</td>\n",
       "      <td>1</td>\n",
       "      <td>2</td>\n",
       "      <td>59.9</td>\n",
       "      <td>542.40</td>\n",
       "      <td>0</td>\n",
       "      <td>0.75</td>\n",
       "      <td>0</td>\n",
       "      <td>1</td>\n",
       "      <td>2</td>\n",
       "      <td>1</td>\n",
       "      <td>1</td>\n",
       "      <td>0</td>\n",
       "      <td>0</td>\n",
       "      <td>0</td>\n",
       "    </tr>\n",
       "    <tr>\n",
       "      <th>2</th>\n",
       "      <td>0</td>\n",
       "      <td>4</td>\n",
       "      <td>2</td>\n",
       "      <td>1</td>\n",
       "      <td>1</td>\n",
       "      <td>73.9</td>\n",
       "      <td>280.85</td>\n",
       "      <td>1</td>\n",
       "      <td>0.33</td>\n",
       "      <td>0</td>\n",
       "      <td>0</td>\n",
       "      <td>1</td>\n",
       "      <td>1</td>\n",
       "      <td>1</td>\n",
       "      <td>2</td>\n",
       "      <td>0</td>\n",
       "      <td>1</td>\n",
       "    </tr>\n",
       "    <tr>\n",
       "      <th>3</th>\n",
       "      <td>1</td>\n",
       "      <td>13</td>\n",
       "      <td>2</td>\n",
       "      <td>1</td>\n",
       "      <td>1</td>\n",
       "      <td>98.0</td>\n",
       "      <td>1237.85</td>\n",
       "      <td>1</td>\n",
       "      <td>1.08</td>\n",
       "      <td>2</td>\n",
       "      <td>3</td>\n",
       "      <td>1</td>\n",
       "      <td>2</td>\n",
       "      <td>1</td>\n",
       "      <td>2</td>\n",
       "      <td>0</td>\n",
       "      <td>1</td>\n",
       "    </tr>\n",
       "    <tr>\n",
       "      <th>4</th>\n",
       "      <td>1</td>\n",
       "      <td>3</td>\n",
       "      <td>2</td>\n",
       "      <td>1</td>\n",
       "      <td>2</td>\n",
       "      <td>83.9</td>\n",
       "      <td>267.40</td>\n",
       "      <td>1</td>\n",
       "      <td>0.25</td>\n",
       "      <td>2</td>\n",
       "      <td>2</td>\n",
       "      <td>1</td>\n",
       "      <td>1</td>\n",
       "      <td>0</td>\n",
       "      <td>0</td>\n",
       "      <td>2</td>\n",
       "      <td>1</td>\n",
       "    </tr>\n",
       "  </tbody>\n",
       "</table>\n",
       "</div>"
      ],
      "text/plain": [
       "   senior_citizen  tenure  internet_service_type_id  contract_type_id  \\\n",
       "0               0       9                         1                 2   \n",
       "1               0       9                         1                 1   \n",
       "2               0       4                         2                 1   \n",
       "3               1      13                         2                 1   \n",
       "4               1       3                         2                 1   \n",
       "\n",
       "   payment_type_id  monthly_charges  total_charges  churn  tenure_year  \\\n",
       "0                2             65.6         593.30      0         0.75   \n",
       "1                2             59.9         542.40      0         0.75   \n",
       "2                1             73.9         280.85      1         0.33   \n",
       "3                1             98.0        1237.85      1         1.08   \n",
       "4                2             83.9         267.40      1         0.25   \n",
       "\n",
       "   household_type_id  streaming_services  phone_id  online_security_backup  \\\n",
       "0                  3                   2         1                       2   \n",
       "1                  0                   1         2                       1   \n",
       "2                  0                   0         1                       1   \n",
       "3                  2                   3         1                       2   \n",
       "4                  2                   2         1                       1   \n",
       "\n",
       "   gender  device_protection  tech_support  paperless_billing  \n",
       "0       0                  0             2                  1  \n",
       "1       1                  0             0                  0  \n",
       "2       1                  2             0                  1  \n",
       "3       1                  2             0                  1  \n",
       "4       0                  0             2                  1  "
      ]
     },
     "execution_count": 4,
     "metadata": {},
     "output_type": "execute_result"
    }
   ],
   "source": [
    "df.head()"
   ]
  },
  {
   "cell_type": "markdown",
   "metadata": {},
   "source": [
    "Write a function, peekatdata(dataframe), that takes a dataframe as input and computes and returns the following:\n",
    "\n",
    "creates dataframe object head_df (df of the first 5 rows) and prints contents to screen\n",
    "\n",
    "creates dataframe object tail_df (df of the last 5 rows) and prints contents to screen\n",
    "\n",
    "creates tuple object shape_tuple (tuple of (nrows, ncols)) and prints tuple to screen\n",
    "\n",
    "creates dataframe object describe_df (summary statistics of all numeric variables) and prints contents to screen.\n",
    "\n",
    "prints to screen the information about a DataFrame including the index dtype and column dtypes, non-null values and memory usage."
   ]
  },
  {
   "cell_type": "code",
   "execution_count": 5,
   "metadata": {
    "scrolled": true
   },
   "outputs": [],
   "source": [
    "def peekatdata(dataframe):\n",
    "    head_df = df.head()\n",
    "    tail_df = df.tail()\n",
    "    head_tail = head_df.append(tail_df)\n",
    "    print('Head and Tail\\n\\n', head_tail)\n",
    "    print('--'*55)\n",
    "    shape_tuple = df.shape\n",
    "    print('Shape\\n\\n', shape_tuple)\n",
    "    print('--'*20)\n",
    "    describe_df = df.describe()\n",
    "    print('Describe\\n\\n', describe_df)\n",
    "    print('--'*20)\n",
    "    print('Index\\n\\n', df.index)\n",
    "    print('--'*20)\n",
    "    print('Data Types\\n\\n', df.dtypes)\n",
    "    print('--'*20)\n",
    "    print('Null Value Count\\n\\n', df.isnull().sum())\n",
    "    print('--'*55)\n",
    "    print('Memory\\n\\n', df.memory_usage)"
   ]
  },
  {
   "cell_type": "markdown",
   "metadata": {},
   "source": [
    "# Data Preparation"
   ]
  },
  {
   "cell_type": "code",
   "execution_count": 6,
   "metadata": {
    "scrolled": true
   },
   "outputs": [],
   "source": [
    "def df_value_counts(df):\n",
    "    for col in df.columns: \n",
    "        n = df[col].unique().shape[0] \n",
    "        col_bins = min(n,10) \n",
    "        if df[col].dtype in ['int64','float64'] and n > 10:\n",
    "            print('%s:' % col)\n",
    "            print(df[col].value_counts(bins=col_bins, sort=False)) \n",
    "        else: \n",
    "            print(df[col].value_counts()) \n",
    "        print('\\n')\n",
    "\n",
    "# df_value_counts(df)"
   ]
  },
  {
   "cell_type": "markdown",
   "metadata": {},
   "source": [
    "## Missing Values\n",
    "\n",
    "#### We only found a few missing values in the total_charges column where tenure was 0. There was an empty string in that field so we replaced it with a 0 since a customer with 0 tenure would have 0 total charges due. Could not find any other nulls or NaNs.\n",
    "\n"
   ]
  },
  {
   "cell_type": "code",
   "execution_count": 7,
   "metadata": {
    "scrolled": true
   },
   "outputs": [
    {
     "data": {
      "text/html": [
       "<div>\n",
       "<style scoped>\n",
       "    .dataframe tbody tr th:only-of-type {\n",
       "        vertical-align: middle;\n",
       "    }\n",
       "\n",
       "    .dataframe tbody tr th {\n",
       "        vertical-align: top;\n",
       "    }\n",
       "\n",
       "    .dataframe thead th {\n",
       "        text-align: right;\n",
       "    }\n",
       "</style>\n",
       "<table border=\"1\" class=\"dataframe\">\n",
       "  <thead>\n",
       "    <tr style=\"text-align: right;\">\n",
       "      <th></th>\n",
       "      <th>senior_citizen</th>\n",
       "      <th>tenure</th>\n",
       "      <th>internet_service_type_id</th>\n",
       "      <th>contract_type_id</th>\n",
       "      <th>payment_type_id</th>\n",
       "      <th>monthly_charges</th>\n",
       "      <th>total_charges</th>\n",
       "      <th>tenure_year</th>\n",
       "      <th>household_type_id</th>\n",
       "      <th>streaming_services</th>\n",
       "      <th>phone_id</th>\n",
       "      <th>online_security_backup</th>\n",
       "      <th>gender</th>\n",
       "      <th>device_protection</th>\n",
       "      <th>tech_support</th>\n",
       "      <th>paperless_billing</th>\n",
       "    </tr>\n",
       "  </thead>\n",
       "  <tbody>\n",
       "    <tr>\n",
       "      <th>4953</th>\n",
       "      <td>0</td>\n",
       "      <td>55</td>\n",
       "      <td>3</td>\n",
       "      <td>2</td>\n",
       "      <td>1</td>\n",
       "      <td>19.70</td>\n",
       "      <td>1140.05</td>\n",
       "      <td>4.58</td>\n",
       "      <td>2</td>\n",
       "      <td>0</td>\n",
       "      <td>1</td>\n",
       "      <td>0</td>\n",
       "      <td>0</td>\n",
       "      <td>1</td>\n",
       "      <td>1</td>\n",
       "      <td>0</td>\n",
       "    </tr>\n",
       "    <tr>\n",
       "      <th>534</th>\n",
       "      <td>1</td>\n",
       "      <td>66</td>\n",
       "      <td>2</td>\n",
       "      <td>2</td>\n",
       "      <td>3</td>\n",
       "      <td>108.10</td>\n",
       "      <td>7238.60</td>\n",
       "      <td>5.50</td>\n",
       "      <td>0</td>\n",
       "      <td>3</td>\n",
       "      <td>2</td>\n",
       "      <td>2</td>\n",
       "      <td>0</td>\n",
       "      <td>2</td>\n",
       "      <td>0</td>\n",
       "      <td>0</td>\n",
       "    </tr>\n",
       "    <tr>\n",
       "      <th>172</th>\n",
       "      <td>0</td>\n",
       "      <td>66</td>\n",
       "      <td>1</td>\n",
       "      <td>3</td>\n",
       "      <td>3</td>\n",
       "      <td>50.55</td>\n",
       "      <td>3364.55</td>\n",
       "      <td>5.50</td>\n",
       "      <td>3</td>\n",
       "      <td>3</td>\n",
       "      <td>0</td>\n",
       "      <td>1</td>\n",
       "      <td>1</td>\n",
       "      <td>0</td>\n",
       "      <td>2</td>\n",
       "      <td>0</td>\n",
       "    </tr>\n",
       "    <tr>\n",
       "      <th>3710</th>\n",
       "      <td>0</td>\n",
       "      <td>68</td>\n",
       "      <td>3</td>\n",
       "      <td>3</td>\n",
       "      <td>3</td>\n",
       "      <td>24.00</td>\n",
       "      <td>1664.30</td>\n",
       "      <td>5.67</td>\n",
       "      <td>3</td>\n",
       "      <td>0</td>\n",
       "      <td>2</td>\n",
       "      <td>0</td>\n",
       "      <td>1</td>\n",
       "      <td>1</td>\n",
       "      <td>1</td>\n",
       "      <td>1</td>\n",
       "    </tr>\n",
       "    <tr>\n",
       "      <th>1574</th>\n",
       "      <td>0</td>\n",
       "      <td>57</td>\n",
       "      <td>2</td>\n",
       "      <td>2</td>\n",
       "      <td>4</td>\n",
       "      <td>100.75</td>\n",
       "      <td>5985.00</td>\n",
       "      <td>4.75</td>\n",
       "      <td>2</td>\n",
       "      <td>3</td>\n",
       "      <td>2</td>\n",
       "      <td>1</td>\n",
       "      <td>0</td>\n",
       "      <td>2</td>\n",
       "      <td>0</td>\n",
       "      <td>1</td>\n",
       "    </tr>\n",
       "  </tbody>\n",
       "</table>\n",
       "</div>"
      ],
      "text/plain": [
       "      senior_citizen  tenure  internet_service_type_id  contract_type_id  \\\n",
       "4953               0      55                         3                 2   \n",
       "534                1      66                         2                 2   \n",
       "172                0      66                         1                 3   \n",
       "3710               0      68                         3                 3   \n",
       "1574               0      57                         2                 2   \n",
       "\n",
       "      payment_type_id  monthly_charges  total_charges  tenure_year  \\\n",
       "4953                1            19.70        1140.05         4.58   \n",
       "534                 3           108.10        7238.60         5.50   \n",
       "172                 3            50.55        3364.55         5.50   \n",
       "3710                3            24.00        1664.30         5.67   \n",
       "1574                4           100.75        5985.00         4.75   \n",
       "\n",
       "      household_type_id  streaming_services  phone_id  online_security_backup  \\\n",
       "4953                  2                   0         1                       0   \n",
       "534                   0                   3         2                       2   \n",
       "172                   3                   3         0                       1   \n",
       "3710                  3                   0         2                       0   \n",
       "1574                  2                   3         2                       1   \n",
       "\n",
       "      gender  device_protection  tech_support  paperless_billing  \n",
       "4953       0                  1             1                  0  \n",
       "534        0                  2             0                  0  \n",
       "172        1                  0             2                  0  \n",
       "3710       1                  1             1                  1  \n",
       "1574       0                  2             0                  1  "
      ]
     },
     "execution_count": 7,
     "metadata": {},
     "output_type": "execute_result"
    }
   ],
   "source": [
    "# Split the data into train (70%) & test (30%) samples.\n",
    "X = df.drop(['churn'], axis=1)\n",
    "y = df[['churn']]\n",
    "\n",
    "X_train, X_test, y_train, y_test = train_test_split(X, y, test_size=.30, random_state=123, stratify=y)\n",
    "\n",
    "train = pd.concat([X_train, y_train], axis=1)\n",
    "test = pd.concat([X_test, y_test], axis=1)\n",
    "\n",
    "X_train.head()"
   ]
  },
  {
   "cell_type": "code",
   "execution_count": 8,
   "metadata": {
    "scrolled": true
   },
   "outputs": [],
   "source": [
    "# Numeric Scaling: scale the monthly_charges and total_charges data. Make sure that the parameters for scaling \n",
    "# are learned from the training data set.\n",
    "scaler = MinMaxScaler()\n",
    "scaler.fit(X_train[['monthly_charges', 'total_charges']])\n",
    "\n",
    "X_train[['monthly_charges', 'total_charges']] = scaler.transform(X_train[['monthly_charges', 'total_charges']])\n",
    "X_test[['monthly_charges', 'total_charges']] = scaler.transform(X_test[['monthly_charges', 'total_charges']])\n",
    "\n",
    "train[['monthly_charges', 'total_charges']] = scaler.transform(train[['monthly_charges', 'total_charges']])\n",
    "test[['monthly_charges', 'total_charges']] = scaler.transform(test[['monthly_charges', 'total_charges']])"
   ]
  },
  {
   "cell_type": "markdown",
   "metadata": {},
   "source": [
    "# Data Exploration"
   ]
  },
  {
   "cell_type": "code",
   "execution_count": 9,
   "metadata": {
    "scrolled": true
   },
   "outputs": [
    {
     "data": {
      "image/png": "[encoded data removed]",
      "text/plain": [
       "<Figure size 576x432 with 1 Axes>"
      ]
     },
     "metadata": {
      "needs_background": "light"
     },
     "output_type": "display_data"
    }
   ],
   "source": [
    "# Could the month in which they signed up influence churn? i.e. if a cohort is identified by tenure, is there a \n",
    "# cohort or cohorts who have a higher rate of churn than other cohorts? (Plot the rate of churn on a line chart \n",
    "# where x is the tenure and y is the rate of churn (customers churned/total customers)).\n",
    "\n",
    "bins = [12, 24, 32, 48, 60, 72]\n",
    "train['tenure_months'] = pd.cut(train['tenure'], bins)\n",
    "\n",
    "bins = [0, 12, 24, 32, 48, 60, 72]\n",
    "labels = ['12', '24', '32', '48', '60', '72']\n",
    "train['tenure_months'] = pd.cut(train['tenure'], bins=bins, labels=labels).where(train.churn == 1)\n",
    "\n",
    "df1 = train.groupby('tenure_months')['churn'].count()\n",
    "df1 = pd.DataFrame(df1)\n",
    "df1 = df1.reset_index()\n",
    "df1\n",
    "\n",
    "plt.figure(figsize=(8,6))\n",
    "ax = sns.lineplot(x=\"tenure_months\", y=\"churn\",data=df1)"
   ]
  },
  {
   "cell_type": "code",
   "execution_count": 10,
   "metadata": {},
   "outputs": [
    {
     "data": {
      "text/plain": [
       "<matplotlib.axes._subplots.AxesSubplot at 0x1a23c4d6a0>"
      ]
     },
     "execution_count": 10,
     "metadata": {},
     "output_type": "execute_result"
    },
    {
     "data": {
      "image/png": "[encoded data removed]",
      "text/plain": [
       "<Figure size 1296x864 with 6 Axes>"
      ]
     },
     "metadata": {
      "needs_background": "light"
     },
     "output_type": "display_data"
    }
   ],
   "source": [
    "plt.figure(figsize=(18,12))\n",
    "\n",
    "plt.subplot(331)\n",
    "sns.barplot(x=train.internet_service_type_id, y=train.churn)\n",
    "\n",
    "plt.subplot(332)\n",
    "sns.barplot(x=train.contract_type_id, y=train.churn)\n",
    "\n",
    "plt.subplot(333)\n",
    "sns.barplot(x=train.payment_type_id, y=train.churn)\n",
    "\n",
    "plt.subplot(334)\n",
    "sns.barplot(x=train.device_protection, y=train.churn)\n",
    "\n",
    "plt.subplot(335)\n",
    "sns.barplot(x=train.tech_support, y=train.churn)\n",
    "\n",
    "plt.subplot(336)\n",
    "sns.barplot(x=train.senior_citizen, y=train.churn)"
   ]
  },
  {
   "cell_type": "code",
   "execution_count": 11,
   "metadata": {
    "scrolled": true
   },
   "outputs": [
    {
     "name": "stdout",
     "output_type": "stream",
     "text": [
      "Rate of churn for month-to-month: 33.53%\n",
      "Rate of churn for 1+ years: 11.48%\n"
     ]
    }
   ],
   "source": [
    "# If we looked at churn rate for month-to-month customers after the 12th month and that of 1-year contract customers\n",
    "# after the 12th month, are those rates comparable?\n",
    "\n",
    "mtm = train[train.contract_type_id == 1]\n",
    "mtm_after12 = mtm[mtm.tenure_year > 1]\n",
    "\n",
    "mtmc = mtm_after12.churn.value_counts()\n",
    "mtmc\n",
    "\n",
    "print('Rate of churn for month-to-month: {:.2%}'.format(mtmc[1]/(mtmc[0]+mtmc[1])))\n",
    "\n",
    "one_year = train[train.contract_type_id == 2]\n",
    "one_year_after12 = one_year[one_year.tenure_year > 1]\n",
    "\n",
    "one_yearc = one_year_after12.churn.value_counts()\n",
    "one_yearc\n",
    "\n",
    "print('Rate of churn for 1+ years: {:.2%}'.format(one_yearc[1]/(one_yearc[0]+one_yearc[1])))"
   ]
  },
  {
   "cell_type": "markdown",
   "metadata": {},
   "source": [
    "Controlling for services (phone_id, internet_service_type_id, online_security_backup, device_protection, tech_support, and contract_type_id), is the mean monthly_charges of those who have churned significantly different from that of those who have not churned? (Use a t-test to answer this.)\n",
    "\n",
    "statistic: 13.57\n",
    "pvalue: 3.18e-41\n",
    "From the TTest we can conclude there is a significantly difference between the two."
   ]
  },
  {
   "cell_type": "code",
   "execution_count": 12,
   "metadata": {},
   "outputs": [],
   "source": [
    "# Getting customers who have duplicate services.\n",
    "\n",
    "dups = train[train.duplicated(['phone_id', \n",
    "                               'internet_service_type_id', \n",
    "                               'online_security_backup',\n",
    "                               'device_protection', \n",
    "                               'tech_support', \n",
    "                               'contract_type_id'],\n",
    "                                keep=False)]"
   ]
  },
  {
   "cell_type": "code",
   "execution_count": 13,
   "metadata": {},
   "outputs": [],
   "source": [
    "# Finding the monthly_charges for the ones who have churned/not\n",
    "\n",
    "churn = dups.loc[dups['churn'] == 1]['monthly_charges']\n",
    "no_churn = dups.loc[dups['churn'] == 0]['monthly_charges']"
   ]
  },
  {
   "cell_type": "code",
   "execution_count": 14,
   "metadata": {},
   "outputs": [
    {
     "data": {
      "text/plain": [
       "Ttest_indResult(statistic=13.780089052045543, pvalue=2.039715011078695e-42)"
      ]
     },
     "execution_count": 14,
     "metadata": {},
     "output_type": "execute_result"
    }
   ],
   "source": [
    "# T test on the mean monthly_charges\n",
    "from scipy.stats import ttest_ind, pearsonr\n",
    "ttest_ind(churn,no_churn)"
   ]
  },
  {
   "cell_type": "code",
   "execution_count": 15,
   "metadata": {},
   "outputs": [
    {
     "data": {
      "text/plain": [
       "(-0.3236727414058814, 1.3145249985768094e-120)"
      ]
     },
     "execution_count": 15,
     "metadata": {},
     "output_type": "execute_result"
    }
   ],
   "source": [
    "pearsonr(train.monthly_charges, train.internet_service_type_id)"
   ]
  },
  {
   "cell_type": "code",
   "execution_count": 16,
   "metadata": {},
   "outputs": [],
   "source": [
    "# plt.figure(figsize=(20,20))\n",
    "# sns.heatmap(train.corr(), annot=True, cmap='Greens')"
   ]
  },
  {
   "cell_type": "code",
   "execution_count": 17,
   "metadata": {},
   "outputs": [],
   "source": [
    "# scatter = pd.scatter_matrix(\n",
    "#     train.drop(['customer_id'], axis=1), marker='o', s=40,\n",
    "#     hist_kwds={'bins':15},  figsize=(25,25))"
   ]
  },
  {
   "cell_type": "code",
   "execution_count": 18,
   "metadata": {},
   "outputs": [],
   "source": [
    "# sns.swarmplot(data=train, x='contract_type_id', y='monthly_charges', hue='churn')\n",
    "# plt.legend(bbox_to_anchor=(1.05, 1), loc=2, borderaxespad=0.)"
   ]
  },
  {
   "cell_type": "code",
   "execution_count": 19,
   "metadata": {},
   "outputs": [],
   "source": [
    "# sns.pairplot(data=train)"
   ]
  },
  {
   "cell_type": "code",
   "execution_count": 20,
   "metadata": {},
   "outputs": [],
   "source": [
    "# sns.relplot(data=train, x='tenure', y='total_charges', hue='churn')"
   ]
  },
  {
   "cell_type": "code",
   "execution_count": 21,
   "metadata": {},
   "outputs": [],
   "source": [
    "# sns.boxplot(data=train[['monthly_charges', 'total_charges']])"
   ]
  },
  {
   "cell_type": "code",
   "execution_count": 22,
   "metadata": {},
   "outputs": [],
   "source": [
    "# with sns.axes_style('white'):\n",
    "#     j = sns.jointplot(\"monthly_charges\", \"churn\", data=train, kind='reg', height=5);\n",
    "#     j.annotate(pearsonr)\n",
    "# plt.show()"
   ]
  },
  {
   "cell_type": "code",
   "execution_count": 23,
   "metadata": {},
   "outputs": [],
   "source": [
    "# g = sns.PairGrid(train)\n",
    "# g.map_diag(plt.hist)\n",
    "# g.map_offdiag(plt.scatter);"
   ]
  },
  {
   "cell_type": "code",
   "execution_count": 24,
   "metadata": {
    "scrolled": true
   },
   "outputs": [],
   "source": [
    "train['cumsum_churn'] = train.churn.cumsum()"
   ]
  },
  {
   "cell_type": "code",
   "execution_count": 25,
   "metadata": {
    "scrolled": true
   },
   "outputs": [],
   "source": [
    "train['rate_churn'] = train.cumsum_churn/train.churn.count()"
   ]
  },
  {
   "cell_type": "code",
   "execution_count": 26,
   "metadata": {
    "scrolled": true
   },
   "outputs": [
    {
     "data": {
      "text/html": [
       "<style  type=\"text/css\" >\n",
       "    #T_c442da14_5713_11e9_a81f_c600b09a2f01row0_col0 {\n",
       "            background-color:  #fed774;\n",
       "        }    #T_c442da14_5713_11e9_a81f_c600b09a2f01row0_col1 {\n",
       "            background-color:  #bd0026;\n",
       "        }    #T_c442da14_5713_11e9_a81f_c600b09a2f01row0_col2 {\n",
       "            background-color:  #8d0026;\n",
       "        }    #T_c442da14_5713_11e9_a81f_c600b09a2f01row0_col3 {\n",
       "            background-color:  #f94828;\n",
       "        }    #T_c442da14_5713_11e9_a81f_c600b09a2f01row1_col0 {\n",
       "            background-color:  #ffffcc;\n",
       "        }    #T_c442da14_5713_11e9_a81f_c600b09a2f01row1_col1 {\n",
       "            background-color:  #ffffcc;\n",
       "        }    #T_c442da14_5713_11e9_a81f_c600b09a2f01row1_col2 {\n",
       "            background-color:  #ffffcc;\n",
       "        }    #T_c442da14_5713_11e9_a81f_c600b09a2f01row1_col3 {\n",
       "            background-color:  #ffffcc;\n",
       "        }    #T_c442da14_5713_11e9_a81f_c600b09a2f01row2_col0 {\n",
       "            background-color:  #800026;\n",
       "        }    #T_c442da14_5713_11e9_a81f_c600b09a2f01row2_col1 {\n",
       "            background-color:  #800026;\n",
       "        }    #T_c442da14_5713_11e9_a81f_c600b09a2f01row2_col2 {\n",
       "            background-color:  #800026;\n",
       "        }    #T_c442da14_5713_11e9_a81f_c600b09a2f01row2_col3 {\n",
       "            background-color:  #800026;\n",
       "        }</style>  \n",
       "<table id=\"T_c442da14_5713_11e9_a81f_c600b09a2f01\" > \n",
       "<thead>    <tr> \n",
       "        <th class=\"index_name level0\" >contract_type_id</th> \n",
       "        <th class=\"col_heading level0 col0\" >1</th> \n",
       "        <th class=\"col_heading level0 col1\" >2</th> \n",
       "        <th class=\"col_heading level0 col2\" >3</th> \n",
       "        <th class=\"col_heading level0 col3\" >All</th> \n",
       "    </tr>    <tr> \n",
       "        <th class=\"index_name level0\" >churn</th> \n",
       "        <th class=\"blank\" ></th> \n",
       "        <th class=\"blank\" ></th> \n",
       "        <th class=\"blank\" ></th> \n",
       "        <th class=\"blank\" ></th> \n",
       "    </tr></thead> \n",
       "<tbody>    <tr> \n",
       "        <th id=\"T_c442da14_5713_11e9_a81f_c600b09a2f01level0_row0\" class=\"row_heading level0 row0\" >0</th> \n",
       "        <td id=\"T_c442da14_5713_11e9_a81f_c600b09a2f01row0_col0\" class=\"data row0 col0\" >0.315822</td> \n",
       "        <td id=\"T_c442da14_5713_11e9_a81f_c600b09a2f01row0_col1\" class=\"data row0 col1\" >0.187627</td> \n",
       "        <td id=\"T_c442da14_5713_11e9_a81f_c600b09a2f01row0_col2\" class=\"data row0 col2\" >0.231237</td> \n",
       "        <td id=\"T_c442da14_5713_11e9_a81f_c600b09a2f01row0_col3\" class=\"data row0 col3\" >0.734686</td> \n",
       "    </tr>    <tr> \n",
       "        <th id=\"T_c442da14_5713_11e9_a81f_c600b09a2f01level0_row1\" class=\"row_heading level0 row1\" >1</th> \n",
       "        <td id=\"T_c442da14_5713_11e9_a81f_c600b09a2f01row1_col0\" class=\"data row1 col0\" >0.235091</td> \n",
       "        <td id=\"T_c442da14_5713_11e9_a81f_c600b09a2f01row1_col1\" class=\"data row1 col1\" >0.0235294</td> \n",
       "        <td id=\"T_c442da14_5713_11e9_a81f_c600b09a2f01row1_col2\" class=\"data row1 col2\" >0.00669371</td> \n",
       "        <td id=\"T_c442da14_5713_11e9_a81f_c600b09a2f01row1_col3\" class=\"data row1 col3\" >0.265314</td> \n",
       "    </tr>    <tr> \n",
       "        <th id=\"T_c442da14_5713_11e9_a81f_c600b09a2f01level0_row2\" class=\"row_heading level0 row2\" >All</th> \n",
       "        <td id=\"T_c442da14_5713_11e9_a81f_c600b09a2f01row2_col0\" class=\"data row2 col0\" >0.550913</td> \n",
       "        <td id=\"T_c442da14_5713_11e9_a81f_c600b09a2f01row2_col1\" class=\"data row2 col1\" >0.211156</td> \n",
       "        <td id=\"T_c442da14_5713_11e9_a81f_c600b09a2f01row2_col2\" class=\"data row2 col2\" >0.237931</td> \n",
       "        <td id=\"T_c442da14_5713_11e9_a81f_c600b09a2f01row2_col3\" class=\"data row2 col3\" >1</td> \n",
       "    </tr></tbody> \n",
       "</table> "
      ],
      "text/plain": [
       "<pandas.io.formats.style.Styler at 0x10f0999e8>"
      ]
     },
     "execution_count": 26,
     "metadata": {},
     "output_type": "execute_result"
    }
   ],
   "source": [
    "pd.crosstab(train.churn, train.contract_type_id, margins=True, normalize=True).style.background_gradient(cmap='YlOrRd')\n"
   ]
  },
  {
   "cell_type": "code",
   "execution_count": 27,
   "metadata": {
    "scrolled": true
   },
   "outputs": [
    {
     "data": {
      "text/html": [
       "<style  type=\"text/css\" >\n",
       "    #T_c44d283e_5713_11e9_a81f_c600b09a2f01row0_col0 {\n",
       "            background-color:  #dc151e;\n",
       "        }    #T_c44d283e_5713_11e9_a81f_c600b09a2f01row0_col1 {\n",
       "            background-color:  #fece6a;\n",
       "        }    #T_c44d283e_5713_11e9_a81f_c600b09a2f01row0_col2 {\n",
       "            background-color:  #a40026;\n",
       "        }    #T_c44d283e_5713_11e9_a81f_c600b09a2f01row0_col3 {\n",
       "            background-color:  #f94828;\n",
       "        }    #T_c44d283e_5713_11e9_a81f_c600b09a2f01row1_col0 {\n",
       "            background-color:  #ffffcc;\n",
       "        }    #T_c44d283e_5713_11e9_a81f_c600b09a2f01row1_col1 {\n",
       "            background-color:  #ffffcc;\n",
       "        }    #T_c44d283e_5713_11e9_a81f_c600b09a2f01row1_col2 {\n",
       "            background-color:  #ffffcc;\n",
       "        }    #T_c44d283e_5713_11e9_a81f_c600b09a2f01row1_col3 {\n",
       "            background-color:  #ffffcc;\n",
       "        }    #T_c44d283e_5713_11e9_a81f_c600b09a2f01row2_col0 {\n",
       "            background-color:  #800026;\n",
       "        }    #T_c44d283e_5713_11e9_a81f_c600b09a2f01row2_col1 {\n",
       "            background-color:  #800026;\n",
       "        }    #T_c44d283e_5713_11e9_a81f_c600b09a2f01row2_col2 {\n",
       "            background-color:  #800026;\n",
       "        }    #T_c44d283e_5713_11e9_a81f_c600b09a2f01row2_col3 {\n",
       "            background-color:  #800026;\n",
       "        }</style>  \n",
       "<table id=\"T_c44d283e_5713_11e9_a81f_c600b09a2f01\" > \n",
       "<thead>    <tr> \n",
       "        <th class=\"index_name level0\" >internet_service_type_id</th> \n",
       "        <th class=\"col_heading level0 col0\" >1</th> \n",
       "        <th class=\"col_heading level0 col1\" >2</th> \n",
       "        <th class=\"col_heading level0 col2\" >3</th> \n",
       "        <th class=\"col_heading level0 col3\" >All</th> \n",
       "    </tr>    <tr> \n",
       "        <th class=\"index_name level0\" >churn</th> \n",
       "        <th class=\"blank\" ></th> \n",
       "        <th class=\"blank\" ></th> \n",
       "        <th class=\"blank\" ></th> \n",
       "        <th class=\"blank\" ></th> \n",
       "    </tr></thead> \n",
       "<tbody>    <tr> \n",
       "        <th id=\"T_c44d283e_5713_11e9_a81f_c600b09a2f01level0_row0\" class=\"row_heading level0 row0\" >0</th> \n",
       "        <td id=\"T_c44d283e_5713_11e9_a81f_c600b09a2f01row0_col0\" class=\"data row0 col0\" >0.2714</td> \n",
       "        <td id=\"T_c44d283e_5713_11e9_a81f_c600b09a2f01row0_col1\" class=\"data row0 col1\" >0.263286</td> \n",
       "        <td id=\"T_c44d283e_5713_11e9_a81f_c600b09a2f01row0_col2\" class=\"data row0 col2\" >0.2</td> \n",
       "        <td id=\"T_c44d283e_5713_11e9_a81f_c600b09a2f01row0_col3\" class=\"data row0 col3\" >0.734686</td> \n",
       "    </tr>    <tr> \n",
       "        <th id=\"T_c44d283e_5713_11e9_a81f_c600b09a2f01level0_row1\" class=\"row_heading level0 row1\" >1</th> \n",
       "        <td id=\"T_c44d283e_5713_11e9_a81f_c600b09a2f01row1_col0\" class=\"data row1 col0\" >0.0624746</td> \n",
       "        <td id=\"T_c44d283e_5713_11e9_a81f_c600b09a2f01row1_col1\" class=\"data row1 col1\" >0.187221</td> \n",
       "        <td id=\"T_c44d283e_5713_11e9_a81f_c600b09a2f01row1_col2\" class=\"data row1 col2\" >0.0156187</td> \n",
       "        <td id=\"T_c44d283e_5713_11e9_a81f_c600b09a2f01row1_col3\" class=\"data row1 col3\" >0.265314</td> \n",
       "    </tr>    <tr> \n",
       "        <th id=\"T_c44d283e_5713_11e9_a81f_c600b09a2f01level0_row2\" class=\"row_heading level0 row2\" >All</th> \n",
       "        <td id=\"T_c44d283e_5713_11e9_a81f_c600b09a2f01row2_col0\" class=\"data row2 col0\" >0.333874</td> \n",
       "        <td id=\"T_c44d283e_5713_11e9_a81f_c600b09a2f01row2_col1\" class=\"data row2 col1\" >0.450507</td> \n",
       "        <td id=\"T_c44d283e_5713_11e9_a81f_c600b09a2f01row2_col2\" class=\"data row2 col2\" >0.215619</td> \n",
       "        <td id=\"T_c44d283e_5713_11e9_a81f_c600b09a2f01row2_col3\" class=\"data row2 col3\" >1</td> \n",
       "    </tr></tbody> \n",
       "</table> "
      ],
      "text/plain": [
       "<pandas.io.formats.style.Styler at 0x1a24341a90>"
      ]
     },
     "execution_count": 27,
     "metadata": {},
     "output_type": "execute_result"
    }
   ],
   "source": [
    "pd.crosstab(train.churn, train.internet_service_type_id, margins=True, normalize=True).style.background_gradient(cmap='YlOrRd')\n"
   ]
  },
  {
   "cell_type": "code",
   "execution_count": 28,
   "metadata": {
    "scrolled": true
   },
   "outputs": [
    {
     "data": {
      "text/html": [
       "<style  type=\"text/css\" >\n",
       "    #T_c45851e6_5713_11e9_a81f_c600b09a2f01row0_col0 {\n",
       "            background-color:  #ef3323;\n",
       "        }    #T_c45851e6_5713_11e9_a81f_c600b09a2f01row0_col1 {\n",
       "            background-color:  #fecc68;\n",
       "        }    #T_c45851e6_5713_11e9_a81f_c600b09a2f01row0_col2 {\n",
       "            background-color:  #f94828;\n",
       "        }    #T_c45851e6_5713_11e9_a81f_c600b09a2f01row1_col0 {\n",
       "            background-color:  #ffffcc;\n",
       "        }    #T_c45851e6_5713_11e9_a81f_c600b09a2f01row1_col1 {\n",
       "            background-color:  #ffffcc;\n",
       "        }    #T_c45851e6_5713_11e9_a81f_c600b09a2f01row1_col2 {\n",
       "            background-color:  #ffffcc;\n",
       "        }    #T_c45851e6_5713_11e9_a81f_c600b09a2f01row2_col0 {\n",
       "            background-color:  #800026;\n",
       "        }    #T_c45851e6_5713_11e9_a81f_c600b09a2f01row2_col1 {\n",
       "            background-color:  #800026;\n",
       "        }    #T_c45851e6_5713_11e9_a81f_c600b09a2f01row2_col2 {\n",
       "            background-color:  #800026;\n",
       "        }</style>  \n",
       "<table id=\"T_c45851e6_5713_11e9_a81f_c600b09a2f01\" > \n",
       "<thead>    <tr> \n",
       "        <th class=\"index_name level0\" >senior_citizen</th> \n",
       "        <th class=\"col_heading level0 col0\" >0</th> \n",
       "        <th class=\"col_heading level0 col1\" >1</th> \n",
       "        <th class=\"col_heading level0 col2\" >All</th> \n",
       "    </tr>    <tr> \n",
       "        <th class=\"index_name level0\" >churn</th> \n",
       "        <th class=\"blank\" ></th> \n",
       "        <th class=\"blank\" ></th> \n",
       "        <th class=\"blank\" ></th> \n",
       "    </tr></thead> \n",
       "<tbody>    <tr> \n",
       "        <th id=\"T_c45851e6_5713_11e9_a81f_c600b09a2f01level0_row0\" class=\"row_heading level0 row0\" >0</th> \n",
       "        <td id=\"T_c45851e6_5713_11e9_a81f_c600b09a2f01row0_col0\" class=\"data row0 col0\" >0.639554</td> \n",
       "        <td id=\"T_c45851e6_5713_11e9_a81f_c600b09a2f01row0_col1\" class=\"data row0 col1\" >0.0951318</td> \n",
       "        <td id=\"T_c45851e6_5713_11e9_a81f_c600b09a2f01row0_col2\" class=\"data row0 col2\" >0.734686</td> \n",
       "    </tr>    <tr> \n",
       "        <th id=\"T_c45851e6_5713_11e9_a81f_c600b09a2f01level0_row1\" class=\"row_heading level0 row1\" >1</th> \n",
       "        <td id=\"T_c45851e6_5713_11e9_a81f_c600b09a2f01row1_col0\" class=\"data row1 col0\" >0.197972</td> \n",
       "        <td id=\"T_c45851e6_5713_11e9_a81f_c600b09a2f01row1_col1\" class=\"data row1 col1\" >0.0673428</td> \n",
       "        <td id=\"T_c45851e6_5713_11e9_a81f_c600b09a2f01row1_col2\" class=\"data row1 col2\" >0.265314</td> \n",
       "    </tr>    <tr> \n",
       "        <th id=\"T_c45851e6_5713_11e9_a81f_c600b09a2f01level0_row2\" class=\"row_heading level0 row2\" >All</th> \n",
       "        <td id=\"T_c45851e6_5713_11e9_a81f_c600b09a2f01row2_col0\" class=\"data row2 col0\" >0.837525</td> \n",
       "        <td id=\"T_c45851e6_5713_11e9_a81f_c600b09a2f01row2_col1\" class=\"data row2 col1\" >0.162475</td> \n",
       "        <td id=\"T_c45851e6_5713_11e9_a81f_c600b09a2f01row2_col2\" class=\"data row2 col2\" >1</td> \n",
       "    </tr></tbody> \n",
       "</table> "
      ],
      "text/plain": [
       "<pandas.io.formats.style.Styler at 0x1a2412eb38>"
      ]
     },
     "execution_count": 28,
     "metadata": {},
     "output_type": "execute_result"
    }
   ],
   "source": [
    "pd.crosstab(train.churn, train.senior_citizen, margins=True, normalize=True).style.background_gradient(cmap='YlOrRd')\n"
   ]
  },
  {
   "cell_type": "code",
   "execution_count": 29,
   "metadata": {
    "scrolled": true
   },
   "outputs": [
    {
     "data": {
      "text/html": [
       "<style  type=\"text/css\" >\n",
       "    #T_c46458b0_5713_11e9_a81f_c600b09a2f01row0_col0 {\n",
       "            background-color:  #fd933f;\n",
       "        }    #T_c46458b0_5713_11e9_a81f_c600b09a2f01row0_col1 {\n",
       "            background-color:  #f03523;\n",
       "        }    #T_c46458b0_5713_11e9_a81f_c600b09a2f01row0_col2 {\n",
       "            background-color:  #f43e26;\n",
       "        }    #T_c46458b0_5713_11e9_a81f_c600b09a2f01row0_col3 {\n",
       "            background-color:  #c90823;\n",
       "        }    #T_c46458b0_5713_11e9_a81f_c600b09a2f01row0_col4 {\n",
       "            background-color:  #f94828;\n",
       "        }    #T_c46458b0_5713_11e9_a81f_c600b09a2f01row1_col0 {\n",
       "            background-color:  #ffffcc;\n",
       "        }    #T_c46458b0_5713_11e9_a81f_c600b09a2f01row1_col1 {\n",
       "            background-color:  #ffffcc;\n",
       "        }    #T_c46458b0_5713_11e9_a81f_c600b09a2f01row1_col2 {\n",
       "            background-color:  #ffffcc;\n",
       "        }    #T_c46458b0_5713_11e9_a81f_c600b09a2f01row1_col3 {\n",
       "            background-color:  #ffffcc;\n",
       "        }    #T_c46458b0_5713_11e9_a81f_c600b09a2f01row1_col4 {\n",
       "            background-color:  #ffffcc;\n",
       "        }    #T_c46458b0_5713_11e9_a81f_c600b09a2f01row2_col0 {\n",
       "            background-color:  #800026;\n",
       "        }    #T_c46458b0_5713_11e9_a81f_c600b09a2f01row2_col1 {\n",
       "            background-color:  #800026;\n",
       "        }    #T_c46458b0_5713_11e9_a81f_c600b09a2f01row2_col2 {\n",
       "            background-color:  #800026;\n",
       "        }    #T_c46458b0_5713_11e9_a81f_c600b09a2f01row2_col3 {\n",
       "            background-color:  #800026;\n",
       "        }    #T_c46458b0_5713_11e9_a81f_c600b09a2f01row2_col4 {\n",
       "            background-color:  #800026;\n",
       "        }</style>  \n",
       "<table id=\"T_c46458b0_5713_11e9_a81f_c600b09a2f01\" > \n",
       "<thead>    <tr> \n",
       "        <th class=\"index_name level0\" >household_type_id</th> \n",
       "        <th class=\"col_heading level0 col0\" >0</th> \n",
       "        <th class=\"col_heading level0 col1\" >1</th> \n",
       "        <th class=\"col_heading level0 col2\" >2</th> \n",
       "        <th class=\"col_heading level0 col3\" >3</th> \n",
       "        <th class=\"col_heading level0 col4\" >All</th> \n",
       "    </tr>    <tr> \n",
       "        <th class=\"index_name level0\" >churn</th> \n",
       "        <th class=\"blank\" ></th> \n",
       "        <th class=\"blank\" ></th> \n",
       "        <th class=\"blank\" ></th> \n",
       "        <th class=\"blank\" ></th> \n",
       "        <th class=\"blank\" ></th> \n",
       "    </tr></thead> \n",
       "<tbody>    <tr> \n",
       "        <th id=\"T_c46458b0_5713_11e9_a81f_c600b09a2f01level0_row0\" class=\"row_heading level0 row0\" >0</th> \n",
       "        <td id=\"T_c46458b0_5713_11e9_a81f_c600b09a2f01row0_col0\" class=\"data row0 col0\" >0.30142</td> \n",
       "        <td id=\"T_c46458b0_5713_11e9_a81f_c600b09a2f01row0_col1\" class=\"data row0 col1\" >0.0381339</td> \n",
       "        <td id=\"T_c46458b0_5713_11e9_a81f_c600b09a2f01row0_col2\" class=\"data row0 col2\" >0.17931</td> \n",
       "        <td id=\"T_c46458b0_5713_11e9_a81f_c600b09a2f01row0_col3\" class=\"data row0 col3\" >0.215822</td> \n",
       "        <td id=\"T_c46458b0_5713_11e9_a81f_c600b09a2f01row0_col4\" class=\"data row0 col4\" >0.734686</td> \n",
       "    </tr>    <tr> \n",
       "        <th id=\"T_c46458b0_5713_11e9_a81f_c600b09a2f01level0_row1\" class=\"row_heading level0 row1\" >1</th> \n",
       "        <td id=\"T_c46458b0_5713_11e9_a81f_c600b09a2f01row1_col0\" class=\"data row1 col0\" >0.157404</td> \n",
       "        <td id=\"T_c46458b0_5713_11e9_a81f_c600b09a2f01row1_col1\" class=\"data row1 col1\" >0.0119675</td> \n",
       "        <td id=\"T_c46458b0_5713_11e9_a81f_c600b09a2f01row1_col2\" class=\"data row1 col2\" >0.0604462</td> \n",
       "        <td id=\"T_c46458b0_5713_11e9_a81f_c600b09a2f01row1_col3\" class=\"data row1 col3\" >0.035497</td> \n",
       "        <td id=\"T_c46458b0_5713_11e9_a81f_c600b09a2f01row1_col4\" class=\"data row1 col4\" >0.265314</td> \n",
       "    </tr>    <tr> \n",
       "        <th id=\"T_c46458b0_5713_11e9_a81f_c600b09a2f01level0_row2\" class=\"row_heading level0 row2\" >All</th> \n",
       "        <td id=\"T_c46458b0_5713_11e9_a81f_c600b09a2f01row2_col0\" class=\"data row2 col0\" >0.458824</td> \n",
       "        <td id=\"T_c46458b0_5713_11e9_a81f_c600b09a2f01row2_col1\" class=\"data row2 col1\" >0.0501014</td> \n",
       "        <td id=\"T_c46458b0_5713_11e9_a81f_c600b09a2f01row2_col2\" class=\"data row2 col2\" >0.239757</td> \n",
       "        <td id=\"T_c46458b0_5713_11e9_a81f_c600b09a2f01row2_col3\" class=\"data row2 col3\" >0.251318</td> \n",
       "        <td id=\"T_c46458b0_5713_11e9_a81f_c600b09a2f01row2_col4\" class=\"data row2 col4\" >1</td> \n",
       "    </tr></tbody> \n",
       "</table> "
      ],
      "text/plain": [
       "<pandas.io.formats.style.Styler at 0x1a23c631d0>"
      ]
     },
     "execution_count": 29,
     "metadata": {},
     "output_type": "execute_result"
    }
   ],
   "source": [
    "pd.crosstab(train.churn, train.household_type_id, margins=True, normalize=True).style.background_gradient(cmap='YlOrRd')\n"
   ]
  },
  {
   "cell_type": "code",
   "execution_count": 30,
   "metadata": {
    "scrolled": true
   },
   "outputs": [
    {
     "data": {
      "text/html": [
       "<style  type=\"text/css\" >\n",
       "    #T_c46ef2f2_5713_11e9_a81f_c600b09a2f01row0_col0 {\n",
       "            background-color:  #f94828;\n",
       "        }    #T_c46ef2f2_5713_11e9_a81f_c600b09a2f01row0_col1 {\n",
       "            background-color:  #f94828;\n",
       "        }    #T_c46ef2f2_5713_11e9_a81f_c600b09a2f01row0_col2 {\n",
       "            background-color:  #f94828;\n",
       "        }    #T_c46ef2f2_5713_11e9_a81f_c600b09a2f01row1_col0 {\n",
       "            background-color:  #ffffcc;\n",
       "        }    #T_c46ef2f2_5713_11e9_a81f_c600b09a2f01row1_col1 {\n",
       "            background-color:  #ffffcc;\n",
       "        }    #T_c46ef2f2_5713_11e9_a81f_c600b09a2f01row1_col2 {\n",
       "            background-color:  #ffffcc;\n",
       "        }    #T_c46ef2f2_5713_11e9_a81f_c600b09a2f01row2_col0 {\n",
       "            background-color:  #800026;\n",
       "        }    #T_c46ef2f2_5713_11e9_a81f_c600b09a2f01row2_col1 {\n",
       "            background-color:  #800026;\n",
       "        }    #T_c46ef2f2_5713_11e9_a81f_c600b09a2f01row2_col2 {\n",
       "            background-color:  #800026;\n",
       "        }</style>  \n",
       "<table id=\"T_c46ef2f2_5713_11e9_a81f_c600b09a2f01\" > \n",
       "<thead>    <tr> \n",
       "        <th class=\"index_name level0\" >gender</th> \n",
       "        <th class=\"col_heading level0 col0\" >0</th> \n",
       "        <th class=\"col_heading level0 col1\" >1</th> \n",
       "        <th class=\"col_heading level0 col2\" >All</th> \n",
       "    </tr>    <tr> \n",
       "        <th class=\"index_name level0\" >churn</th> \n",
       "        <th class=\"blank\" ></th> \n",
       "        <th class=\"blank\" ></th> \n",
       "        <th class=\"blank\" ></th> \n",
       "    </tr></thead> \n",
       "<tbody>    <tr> \n",
       "        <th id=\"T_c46ef2f2_5713_11e9_a81f_c600b09a2f01level0_row0\" class=\"row_heading level0 row0\" >0</th> \n",
       "        <td id=\"T_c46ef2f2_5713_11e9_a81f_c600b09a2f01row0_col0\" class=\"data row0 col0\" >0.366734</td> \n",
       "        <td id=\"T_c46ef2f2_5713_11e9_a81f_c600b09a2f01row0_col1\" class=\"data row0 col1\" >0.367951</td> \n",
       "        <td id=\"T_c46ef2f2_5713_11e9_a81f_c600b09a2f01row0_col2\" class=\"data row0 col2\" >0.734686</td> \n",
       "    </tr>    <tr> \n",
       "        <th id=\"T_c46ef2f2_5713_11e9_a81f_c600b09a2f01level0_row1\" class=\"row_heading level0 row1\" >1</th> \n",
       "        <td id=\"T_c46ef2f2_5713_11e9_a81f_c600b09a2f01row1_col0\" class=\"data row1 col0\" >0.132049</td> \n",
       "        <td id=\"T_c46ef2f2_5713_11e9_a81f_c600b09a2f01row1_col1\" class=\"data row1 col1\" >0.133266</td> \n",
       "        <td id=\"T_c46ef2f2_5713_11e9_a81f_c600b09a2f01row1_col2\" class=\"data row1 col2\" >0.265314</td> \n",
       "    </tr>    <tr> \n",
       "        <th id=\"T_c46ef2f2_5713_11e9_a81f_c600b09a2f01level0_row2\" class=\"row_heading level0 row2\" >All</th> \n",
       "        <td id=\"T_c46ef2f2_5713_11e9_a81f_c600b09a2f01row2_col0\" class=\"data row2 col0\" >0.498783</td> \n",
       "        <td id=\"T_c46ef2f2_5713_11e9_a81f_c600b09a2f01row2_col1\" class=\"data row2 col1\" >0.501217</td> \n",
       "        <td id=\"T_c46ef2f2_5713_11e9_a81f_c600b09a2f01row2_col2\" class=\"data row2 col2\" >1</td> \n",
       "    </tr></tbody> \n",
       "</table> "
      ],
      "text/plain": [
       "<pandas.io.formats.style.Styler at 0x1a2435cb00>"
      ]
     },
     "execution_count": 30,
     "metadata": {},
     "output_type": "execute_result"
    }
   ],
   "source": [
    "pd.crosstab(train.churn, train.gender, margins=True, normalize=True).style.background_gradient(cmap='YlOrRd')\n"
   ]
  },
  {
   "cell_type": "code",
   "execution_count": 31,
   "metadata": {
    "scrolled": true
   },
   "outputs": [
    {
     "data": {
      "text/html": [
       "<style  type=\"text/css\" >\n",
       "    #T_c47ab09c_5713_11e9_a81f_c600b09a2f01row0_col0 {\n",
       "            background-color:  #fecf6b;\n",
       "        }    #T_c47ab09c_5713_11e9_a81f_c600b09a2f01row0_col1 {\n",
       "            background-color:  #a40026;\n",
       "        }    #T_c47ab09c_5713_11e9_a81f_c600b09a2f01row0_col2 {\n",
       "            background-color:  #cb0a22;\n",
       "        }    #T_c47ab09c_5713_11e9_a81f_c600b09a2f01row0_col3 {\n",
       "            background-color:  #f94828;\n",
       "        }    #T_c47ab09c_5713_11e9_a81f_c600b09a2f01row1_col0 {\n",
       "            background-color:  #ffffcc;\n",
       "        }    #T_c47ab09c_5713_11e9_a81f_c600b09a2f01row1_col1 {\n",
       "            background-color:  #ffffcc;\n",
       "        }    #T_c47ab09c_5713_11e9_a81f_c600b09a2f01row1_col2 {\n",
       "            background-color:  #ffffcc;\n",
       "        }    #T_c47ab09c_5713_11e9_a81f_c600b09a2f01row1_col3 {\n",
       "            background-color:  #ffffcc;\n",
       "        }    #T_c47ab09c_5713_11e9_a81f_c600b09a2f01row2_col0 {\n",
       "            background-color:  #800026;\n",
       "        }    #T_c47ab09c_5713_11e9_a81f_c600b09a2f01row2_col1 {\n",
       "            background-color:  #800026;\n",
       "        }    #T_c47ab09c_5713_11e9_a81f_c600b09a2f01row2_col2 {\n",
       "            background-color:  #800026;\n",
       "        }    #T_c47ab09c_5713_11e9_a81f_c600b09a2f01row2_col3 {\n",
       "            background-color:  #800026;\n",
       "        }</style>  \n",
       "<table id=\"T_c47ab09c_5713_11e9_a81f_c600b09a2f01\" > \n",
       "<thead>    <tr> \n",
       "        <th class=\"index_name level0\" >tech_support</th> \n",
       "        <th class=\"col_heading level0 col0\" >0</th> \n",
       "        <th class=\"col_heading level0 col1\" >1</th> \n",
       "        <th class=\"col_heading level0 col2\" >2</th> \n",
       "        <th class=\"col_heading level0 col3\" >All</th> \n",
       "    </tr>    <tr> \n",
       "        <th class=\"index_name level0\" >churn</th> \n",
       "        <th class=\"blank\" ></th> \n",
       "        <th class=\"blank\" ></th> \n",
       "        <th class=\"blank\" ></th> \n",
       "        <th class=\"blank\" ></th> \n",
       "    </tr></thead> \n",
       "<tbody>    <tr> \n",
       "        <th id=\"T_c47ab09c_5713_11e9_a81f_c600b09a2f01level0_row0\" class=\"row_heading level0 row0\" >0</th> \n",
       "        <td id=\"T_c47ab09c_5713_11e9_a81f_c600b09a2f01row0_col0\" class=\"data row0 col0\" >0.290467</td> \n",
       "        <td id=\"T_c47ab09c_5713_11e9_a81f_c600b09a2f01row0_col1\" class=\"data row0 col1\" >0.2</td> \n",
       "        <td id=\"T_c47ab09c_5713_11e9_a81f_c600b09a2f01row0_col2\" class=\"data row0 col2\" >0.244219</td> \n",
       "        <td id=\"T_c47ab09c_5713_11e9_a81f_c600b09a2f01row0_col3\" class=\"data row0 col3\" >0.734686</td> \n",
       "    </tr>    <tr> \n",
       "        <th id=\"T_c47ab09c_5713_11e9_a81f_c600b09a2f01level0_row1\" class=\"row_heading level0 row1\" >1</th> \n",
       "        <td id=\"T_c47ab09c_5713_11e9_a81f_c600b09a2f01row1_col0\" class=\"data row1 col0\" >0.207708</td> \n",
       "        <td id=\"T_c47ab09c_5713_11e9_a81f_c600b09a2f01row1_col1\" class=\"data row1 col1\" >0.0156187</td> \n",
       "        <td id=\"T_c47ab09c_5713_11e9_a81f_c600b09a2f01row1_col2\" class=\"data row1 col2\" >0.0419878</td> \n",
       "        <td id=\"T_c47ab09c_5713_11e9_a81f_c600b09a2f01row1_col3\" class=\"data row1 col3\" >0.265314</td> \n",
       "    </tr>    <tr> \n",
       "        <th id=\"T_c47ab09c_5713_11e9_a81f_c600b09a2f01level0_row2\" class=\"row_heading level0 row2\" >All</th> \n",
       "        <td id=\"T_c47ab09c_5713_11e9_a81f_c600b09a2f01row2_col0\" class=\"data row2 col0\" >0.498174</td> \n",
       "        <td id=\"T_c47ab09c_5713_11e9_a81f_c600b09a2f01row2_col1\" class=\"data row2 col1\" >0.215619</td> \n",
       "        <td id=\"T_c47ab09c_5713_11e9_a81f_c600b09a2f01row2_col2\" class=\"data row2 col2\" >0.286207</td> \n",
       "        <td id=\"T_c47ab09c_5713_11e9_a81f_c600b09a2f01row2_col3\" class=\"data row2 col3\" >1</td> \n",
       "    </tr></tbody> \n",
       "</table> "
      ],
      "text/plain": [
       "<pandas.io.formats.style.Styler at 0x1a2435c860>"
      ]
     },
     "execution_count": 31,
     "metadata": {},
     "output_type": "execute_result"
    }
   ],
   "source": [
    "pd.crosstab(train.churn, train.tech_support, margins=True, normalize=True).style.background_gradient(cmap='YlOrRd')\n"
   ]
  },
  {
   "cell_type": "code",
   "execution_count": 32,
   "metadata": {
    "scrolled": true
   },
   "outputs": [
    {
     "data": {
      "text/html": [
       "<style  type=\"text/css\" >\n",
       "    #T_c486b89c_5713_11e9_a81f_c600b09a2f01row0_col0 {\n",
       "            background-color:  #feb54f;\n",
       "        }    #T_c486b89c_5713_11e9_a81f_c600b09a2f01row0_col1 {\n",
       "            background-color:  #a40026;\n",
       "        }    #T_c486b89c_5713_11e9_a81f_c600b09a2f01row0_col2 {\n",
       "            background-color:  #ed3022;\n",
       "        }    #T_c486b89c_5713_11e9_a81f_c600b09a2f01row0_col3 {\n",
       "            background-color:  #f94828;\n",
       "        }    #T_c486b89c_5713_11e9_a81f_c600b09a2f01row1_col0 {\n",
       "            background-color:  #ffffcc;\n",
       "        }    #T_c486b89c_5713_11e9_a81f_c600b09a2f01row1_col1 {\n",
       "            background-color:  #ffffcc;\n",
       "        }    #T_c486b89c_5713_11e9_a81f_c600b09a2f01row1_col2 {\n",
       "            background-color:  #ffffcc;\n",
       "        }    #T_c486b89c_5713_11e9_a81f_c600b09a2f01row1_col3 {\n",
       "            background-color:  #ffffcc;\n",
       "        }    #T_c486b89c_5713_11e9_a81f_c600b09a2f01row2_col0 {\n",
       "            background-color:  #800026;\n",
       "        }    #T_c486b89c_5713_11e9_a81f_c600b09a2f01row2_col1 {\n",
       "            background-color:  #800026;\n",
       "        }    #T_c486b89c_5713_11e9_a81f_c600b09a2f01row2_col2 {\n",
       "            background-color:  #800026;\n",
       "        }    #T_c486b89c_5713_11e9_a81f_c600b09a2f01row2_col3 {\n",
       "            background-color:  #800026;\n",
       "        }</style>  \n",
       "<table id=\"T_c486b89c_5713_11e9_a81f_c600b09a2f01\" > \n",
       "<thead>    <tr> \n",
       "        <th class=\"index_name level0\" >device_protection</th> \n",
       "        <th class=\"col_heading level0 col0\" >0</th> \n",
       "        <th class=\"col_heading level0 col1\" >1</th> \n",
       "        <th class=\"col_heading level0 col2\" >2</th> \n",
       "        <th class=\"col_heading level0 col3\" >All</th> \n",
       "    </tr>    <tr> \n",
       "        <th class=\"index_name level0\" >churn</th> \n",
       "        <th class=\"blank\" ></th> \n",
       "        <th class=\"blank\" ></th> \n",
       "        <th class=\"blank\" ></th> \n",
       "        <th class=\"blank\" ></th> \n",
       "    </tr></thead> \n",
       "<tbody>    <tr> \n",
       "        <th id=\"T_c486b89c_5713_11e9_a81f_c600b09a2f01level0_row0\" class=\"row_heading level0 row0\" >0</th> \n",
       "        <td id=\"T_c486b89c_5713_11e9_a81f_c600b09a2f01row0_col0\" class=\"data row0 col0\" >0.264706</td> \n",
       "        <td id=\"T_c486b89c_5713_11e9_a81f_c600b09a2f01row0_col1\" class=\"data row0 col1\" >0.2</td> \n",
       "        <td id=\"T_c486b89c_5713_11e9_a81f_c600b09a2f01row0_col2\" class=\"data row0 col2\" >0.26998</td> \n",
       "        <td id=\"T_c486b89c_5713_11e9_a81f_c600b09a2f01row0_col3\" class=\"data row0 col3\" >0.734686</td> \n",
       "    </tr>    <tr> \n",
       "        <th id=\"T_c486b89c_5713_11e9_a81f_c600b09a2f01level0_row1\" class=\"row_heading level0 row1\" >1</th> \n",
       "        <td id=\"T_c486b89c_5713_11e9_a81f_c600b09a2f01row1_col0\" class=\"data row1 col0\" >0.168357</td> \n",
       "        <td id=\"T_c486b89c_5713_11e9_a81f_c600b09a2f01row1_col1\" class=\"data row1 col1\" >0.0156187</td> \n",
       "        <td id=\"T_c486b89c_5713_11e9_a81f_c600b09a2f01row1_col2\" class=\"data row1 col2\" >0.0813387</td> \n",
       "        <td id=\"T_c486b89c_5713_11e9_a81f_c600b09a2f01row1_col3\" class=\"data row1 col3\" >0.265314</td> \n",
       "    </tr>    <tr> \n",
       "        <th id=\"T_c486b89c_5713_11e9_a81f_c600b09a2f01level0_row2\" class=\"row_heading level0 row2\" >All</th> \n",
       "        <td id=\"T_c486b89c_5713_11e9_a81f_c600b09a2f01row2_col0\" class=\"data row2 col0\" >0.433063</td> \n",
       "        <td id=\"T_c486b89c_5713_11e9_a81f_c600b09a2f01row2_col1\" class=\"data row2 col1\" >0.215619</td> \n",
       "        <td id=\"T_c486b89c_5713_11e9_a81f_c600b09a2f01row2_col2\" class=\"data row2 col2\" >0.351318</td> \n",
       "        <td id=\"T_c486b89c_5713_11e9_a81f_c600b09a2f01row2_col3\" class=\"data row2 col3\" >1</td> \n",
       "    </tr></tbody> \n",
       "</table> "
      ],
      "text/plain": [
       "<pandas.io.formats.style.Styler at 0x1a2435c5c0>"
      ]
     },
     "execution_count": 32,
     "metadata": {},
     "output_type": "execute_result"
    }
   ],
   "source": [
    "pd.crosstab(train.churn, train.device_protection, margins=True, normalize=True).style.background_gradient(cmap='YlOrRd')\n"
   ]
  },
  {
   "cell_type": "code",
   "execution_count": 33,
   "metadata": {
    "scrolled": true
   },
   "outputs": [
    {
     "data": {
      "text/html": [
       "<style  type=\"text/css\" >\n",
       "    #T_c4911ab2_5713_11e9_a81f_c600b09a2f01row0_col0 {\n",
       "            background-color:  #d00d21;\n",
       "        }    #T_c4911ab2_5713_11e9_a81f_c600b09a2f01row0_col1 {\n",
       "            background-color:  #fd8f3d;\n",
       "        }    #T_c4911ab2_5713_11e9_a81f_c600b09a2f01row0_col2 {\n",
       "            background-color:  #f94828;\n",
       "        }    #T_c4911ab2_5713_11e9_a81f_c600b09a2f01row1_col0 {\n",
       "            background-color:  #ffffcc;\n",
       "        }    #T_c4911ab2_5713_11e9_a81f_c600b09a2f01row1_col1 {\n",
       "            background-color:  #ffffcc;\n",
       "        }    #T_c4911ab2_5713_11e9_a81f_c600b09a2f01row1_col2 {\n",
       "            background-color:  #ffffcc;\n",
       "        }    #T_c4911ab2_5713_11e9_a81f_c600b09a2f01row2_col0 {\n",
       "            background-color:  #800026;\n",
       "        }    #T_c4911ab2_5713_11e9_a81f_c600b09a2f01row2_col1 {\n",
       "            background-color:  #800026;\n",
       "        }    #T_c4911ab2_5713_11e9_a81f_c600b09a2f01row2_col2 {\n",
       "            background-color:  #800026;\n",
       "        }</style>  \n",
       "<table id=\"T_c4911ab2_5713_11e9_a81f_c600b09a2f01\" > \n",
       "<thead>    <tr> \n",
       "        <th class=\"index_name level0\" >paperless_billing</th> \n",
       "        <th class=\"col_heading level0 col0\" >0</th> \n",
       "        <th class=\"col_heading level0 col1\" >1</th> \n",
       "        <th class=\"col_heading level0 col2\" >All</th> \n",
       "    </tr>    <tr> \n",
       "        <th class=\"index_name level0\" >churn</th> \n",
       "        <th class=\"blank\" ></th> \n",
       "        <th class=\"blank\" ></th> \n",
       "        <th class=\"blank\" ></th> \n",
       "    </tr></thead> \n",
       "<tbody>    <tr> \n",
       "        <th id=\"T_c4911ab2_5713_11e9_a81f_c600b09a2f01level0_row0\" class=\"row_heading level0 row0\" >0</th> \n",
       "        <td id=\"T_c4911ab2_5713_11e9_a81f_c600b09a2f01row0_col0\" class=\"data row0 col0\" >0.339757</td> \n",
       "        <td id=\"T_c4911ab2_5713_11e9_a81f_c600b09a2f01row0_col1\" class=\"data row0 col1\" >0.394929</td> \n",
       "        <td id=\"T_c4911ab2_5713_11e9_a81f_c600b09a2f01row0_col2\" class=\"data row0 col2\" >0.734686</td> \n",
       "    </tr>    <tr> \n",
       "        <th id=\"T_c4911ab2_5713_11e9_a81f_c600b09a2f01level0_row1\" class=\"row_heading level0 row1\" >1</th> \n",
       "        <td id=\"T_c4911ab2_5713_11e9_a81f_c600b09a2f01row1_col0\" class=\"data row1 col0\" >0.0649087</td> \n",
       "        <td id=\"T_c4911ab2_5713_11e9_a81f_c600b09a2f01row1_col1\" class=\"data row1 col1\" >0.200406</td> \n",
       "        <td id=\"T_c4911ab2_5713_11e9_a81f_c600b09a2f01row1_col2\" class=\"data row1 col2\" >0.265314</td> \n",
       "    </tr>    <tr> \n",
       "        <th id=\"T_c4911ab2_5713_11e9_a81f_c600b09a2f01level0_row2\" class=\"row_heading level0 row2\" >All</th> \n",
       "        <td id=\"T_c4911ab2_5713_11e9_a81f_c600b09a2f01row2_col0\" class=\"data row2 col0\" >0.404665</td> \n",
       "        <td id=\"T_c4911ab2_5713_11e9_a81f_c600b09a2f01row2_col1\" class=\"data row2 col1\" >0.595335</td> \n",
       "        <td id=\"T_c4911ab2_5713_11e9_a81f_c600b09a2f01row2_col2\" class=\"data row2 col2\" >1</td> \n",
       "    </tr></tbody> \n",
       "</table> "
      ],
      "text/plain": [
       "<pandas.io.formats.style.Styler at 0x1a2416de48>"
      ]
     },
     "execution_count": 33,
     "metadata": {},
     "output_type": "execute_result"
    }
   ],
   "source": [
    "pd.crosstab(train.churn, train.paperless_billing, margins=True, normalize=True).style.background_gradient(cmap='YlOrRd')\n"
   ]
  },
  {
   "cell_type": "code",
   "execution_count": 34,
   "metadata": {
    "scrolled": true
   },
   "outputs": [
    {
     "data": {
      "text/html": [
       "<style  type=\"text/css\" >\n",
       "    #T_c49c1bce_5713_11e9_a81f_c600b09a2f01row0_col0 {\n",
       "            background-color:  #f43e26;\n",
       "        }    #T_c49c1bce_5713_11e9_a81f_c600b09a2f01row0_col1 {\n",
       "            background-color:  #f43e26;\n",
       "        }    #T_c49c1bce_5713_11e9_a81f_c600b09a2f01row0_col2 {\n",
       "            background-color:  #fc572c;\n",
       "        }    #T_c49c1bce_5713_11e9_a81f_c600b09a2f01row0_col3 {\n",
       "            background-color:  #f94828;\n",
       "        }    #T_c49c1bce_5713_11e9_a81f_c600b09a2f01row1_col0 {\n",
       "            background-color:  #ffffcc;\n",
       "        }    #T_c49c1bce_5713_11e9_a81f_c600b09a2f01row1_col1 {\n",
       "            background-color:  #ffffcc;\n",
       "        }    #T_c49c1bce_5713_11e9_a81f_c600b09a2f01row1_col2 {\n",
       "            background-color:  #ffffcc;\n",
       "        }    #T_c49c1bce_5713_11e9_a81f_c600b09a2f01row1_col3 {\n",
       "            background-color:  #ffffcc;\n",
       "        }    #T_c49c1bce_5713_11e9_a81f_c600b09a2f01row2_col0 {\n",
       "            background-color:  #800026;\n",
       "        }    #T_c49c1bce_5713_11e9_a81f_c600b09a2f01row2_col1 {\n",
       "            background-color:  #800026;\n",
       "        }    #T_c49c1bce_5713_11e9_a81f_c600b09a2f01row2_col2 {\n",
       "            background-color:  #800026;\n",
       "        }    #T_c49c1bce_5713_11e9_a81f_c600b09a2f01row2_col3 {\n",
       "            background-color:  #800026;\n",
       "        }</style>  \n",
       "<table id=\"T_c49c1bce_5713_11e9_a81f_c600b09a2f01\" > \n",
       "<thead>    <tr> \n",
       "        <th class=\"index_name level0\" >phone_id</th> \n",
       "        <th class=\"col_heading level0 col0\" >0</th> \n",
       "        <th class=\"col_heading level0 col1\" >1</th> \n",
       "        <th class=\"col_heading level0 col2\" >2</th> \n",
       "        <th class=\"col_heading level0 col3\" >All</th> \n",
       "    </tr>    <tr> \n",
       "        <th class=\"index_name level0\" >churn</th> \n",
       "        <th class=\"blank\" ></th> \n",
       "        <th class=\"blank\" ></th> \n",
       "        <th class=\"blank\" ></th> \n",
       "        <th class=\"blank\" ></th> \n",
       "    </tr></thead> \n",
       "<tbody>    <tr> \n",
       "        <th id=\"T_c49c1bce_5713_11e9_a81f_c600b09a2f01level0_row0\" class=\"row_heading level0 row0\" >0</th> \n",
       "        <td id=\"T_c49c1bce_5713_11e9_a81f_c600b09a2f01row0_col0\" class=\"data row0 col0\" >0.0693712</td> \n",
       "        <td id=\"T_c49c1bce_5713_11e9_a81f_c600b09a2f01row0_col1\" class=\"data row0 col1\" >0.358824</td> \n",
       "        <td id=\"T_c49c1bce_5713_11e9_a81f_c600b09a2f01row0_col2\" class=\"data row0 col2\" >0.306491</td> \n",
       "        <td id=\"T_c49c1bce_5713_11e9_a81f_c600b09a2f01row0_col3\" class=\"data row0 col3\" >0.734686</td> \n",
       "    </tr>    <tr> \n",
       "        <th id=\"T_c49c1bce_5713_11e9_a81f_c600b09a2f01level0_row1\" class=\"row_heading level0 row1\" >1</th> \n",
       "        <td id=\"T_c49c1bce_5713_11e9_a81f_c600b09a2f01row1_col0\" class=\"data row1 col0\" >0.0235294</td> \n",
       "        <td id=\"T_c49c1bce_5713_11e9_a81f_c600b09a2f01row1_col1\" class=\"data row1 col1\" >0.121095</td> \n",
       "        <td id=\"T_c49c1bce_5713_11e9_a81f_c600b09a2f01row1_col2\" class=\"data row1 col2\" >0.12069</td> \n",
       "        <td id=\"T_c49c1bce_5713_11e9_a81f_c600b09a2f01row1_col3\" class=\"data row1 col3\" >0.265314</td> \n",
       "    </tr>    <tr> \n",
       "        <th id=\"T_c49c1bce_5713_11e9_a81f_c600b09a2f01level0_row2\" class=\"row_heading level0 row2\" >All</th> \n",
       "        <td id=\"T_c49c1bce_5713_11e9_a81f_c600b09a2f01row2_col0\" class=\"data row2 col0\" >0.0929006</td> \n",
       "        <td id=\"T_c49c1bce_5713_11e9_a81f_c600b09a2f01row2_col1\" class=\"data row2 col1\" >0.479919</td> \n",
       "        <td id=\"T_c49c1bce_5713_11e9_a81f_c600b09a2f01row2_col2\" class=\"data row2 col2\" >0.427181</td> \n",
       "        <td id=\"T_c49c1bce_5713_11e9_a81f_c600b09a2f01row2_col3\" class=\"data row2 col3\" >1</td> \n",
       "    </tr></tbody> \n",
       "</table> "
      ],
      "text/plain": [
       "<pandas.io.formats.style.Styler at 0x1a24360588>"
      ]
     },
     "execution_count": 34,
     "metadata": {},
     "output_type": "execute_result"
    }
   ],
   "source": [
    "pd.crosstab(train.churn, train.phone_id, margins=True, normalize=True).style.background_gradient(cmap='YlOrRd')\n"
   ]
  },
  {
   "cell_type": "code",
   "execution_count": 35,
   "metadata": {
    "scrolled": true
   },
   "outputs": [
    {
     "data": {
      "text/html": [
       "<style  type=\"text/css\" >\n",
       "    #T_c4a991d2_5713_11e9_a81f_c600b09a2f01row0_col0 {\n",
       "            background-color:  #ec2c21;\n",
       "        }    #T_c4a991d2_5713_11e9_a81f_c600b09a2f01row0_col1 {\n",
       "            background-color:  #fd7c37;\n",
       "        }    #T_c4a991d2_5713_11e9_a81f_c600b09a2f01row0_col2 {\n",
       "            background-color:  #fc6a32;\n",
       "        }    #T_c4a991d2_5713_11e9_a81f_c600b09a2f01row0_col3 {\n",
       "            background-color:  #fc6430;\n",
       "        }    #T_c4a991d2_5713_11e9_a81f_c600b09a2f01row0_col4 {\n",
       "            background-color:  #f94828;\n",
       "        }    #T_c4a991d2_5713_11e9_a81f_c600b09a2f01row1_col0 {\n",
       "            background-color:  #ffffcc;\n",
       "        }    #T_c4a991d2_5713_11e9_a81f_c600b09a2f01row1_col1 {\n",
       "            background-color:  #ffffcc;\n",
       "        }    #T_c4a991d2_5713_11e9_a81f_c600b09a2f01row1_col2 {\n",
       "            background-color:  #ffffcc;\n",
       "        }    #T_c4a991d2_5713_11e9_a81f_c600b09a2f01row1_col3 {\n",
       "            background-color:  #ffffcc;\n",
       "        }    #T_c4a991d2_5713_11e9_a81f_c600b09a2f01row1_col4 {\n",
       "            background-color:  #ffffcc;\n",
       "        }    #T_c4a991d2_5713_11e9_a81f_c600b09a2f01row2_col0 {\n",
       "            background-color:  #800026;\n",
       "        }    #T_c4a991d2_5713_11e9_a81f_c600b09a2f01row2_col1 {\n",
       "            background-color:  #800026;\n",
       "        }    #T_c4a991d2_5713_11e9_a81f_c600b09a2f01row2_col2 {\n",
       "            background-color:  #800026;\n",
       "        }    #T_c4a991d2_5713_11e9_a81f_c600b09a2f01row2_col3 {\n",
       "            background-color:  #800026;\n",
       "        }    #T_c4a991d2_5713_11e9_a81f_c600b09a2f01row2_col4 {\n",
       "            background-color:  #800026;\n",
       "        }</style>  \n",
       "<table id=\"T_c4a991d2_5713_11e9_a81f_c600b09a2f01\" > \n",
       "<thead>    <tr> \n",
       "        <th class=\"index_name level0\" >streaming_services</th> \n",
       "        <th class=\"col_heading level0 col0\" >0</th> \n",
       "        <th class=\"col_heading level0 col1\" >1</th> \n",
       "        <th class=\"col_heading level0 col2\" >2</th> \n",
       "        <th class=\"col_heading level0 col3\" >3</th> \n",
       "        <th class=\"col_heading level0 col4\" >All</th> \n",
       "    </tr>    <tr> \n",
       "        <th class=\"index_name level0\" >churn</th> \n",
       "        <th class=\"blank\" ></th> \n",
       "        <th class=\"blank\" ></th> \n",
       "        <th class=\"blank\" ></th> \n",
       "        <th class=\"blank\" ></th> \n",
       "        <th class=\"blank\" ></th> \n",
       "    </tr></thead> \n",
       "<tbody>    <tr> \n",
       "        <th id=\"T_c4a991d2_5713_11e9_a81f_c600b09a2f01level0_row0\" class=\"row_heading level0 row0\" >0</th> \n",
       "        <td id=\"T_c4a991d2_5713_11e9_a81f_c600b09a2f01row0_col0\" class=\"data row0 col0\" >0.383976</td> \n",
       "        <td id=\"T_c4a991d2_5713_11e9_a81f_c600b09a2f01row0_col1\" class=\"data row0 col1\" >0.0770791</td> \n",
       "        <td id=\"T_c4a991d2_5713_11e9_a81f_c600b09a2f01row0_col2\" class=\"data row0 col2\" >0.0758621</td> \n",
       "        <td id=\"T_c4a991d2_5713_11e9_a81f_c600b09a2f01row0_col3\" class=\"data row0 col3\" >0.197769</td> \n",
       "        <td id=\"T_c4a991d2_5713_11e9_a81f_c600b09a2f01row0_col4\" class=\"data row0 col4\" >0.734686</td> \n",
       "    </tr>    <tr> \n",
       "        <th id=\"T_c4a991d2_5713_11e9_a81f_c600b09a2f01level0_row1\" class=\"row_heading level0 row1\" >1</th> \n",
       "        <td id=\"T_c4a991d2_5713_11e9_a81f_c600b09a2f01row1_col0\" class=\"data row1 col0\" >0.113387</td> \n",
       "        <td id=\"T_c4a991d2_5713_11e9_a81f_c600b09a2f01row1_col1\" class=\"data row1 col1\" >0.0361055</td> \n",
       "        <td id=\"T_c4a991d2_5713_11e9_a81f_c600b09a2f01row1_col2\" class=\"data row1 col2\" >0.03286</td> \n",
       "        <td id=\"T_c4a991d2_5713_11e9_a81f_c600b09a2f01row1_col3\" class=\"data row1 col3\" >0.0829615</td> \n",
       "        <td id=\"T_c4a991d2_5713_11e9_a81f_c600b09a2f01row1_col4\" class=\"data row1 col4\" >0.265314</td> \n",
       "    </tr>    <tr> \n",
       "        <th id=\"T_c4a991d2_5713_11e9_a81f_c600b09a2f01level0_row2\" class=\"row_heading level0 row2\" >All</th> \n",
       "        <td id=\"T_c4a991d2_5713_11e9_a81f_c600b09a2f01row2_col0\" class=\"data row2 col0\" >0.497363</td> \n",
       "        <td id=\"T_c4a991d2_5713_11e9_a81f_c600b09a2f01row2_col1\" class=\"data row2 col1\" >0.113185</td> \n",
       "        <td id=\"T_c4a991d2_5713_11e9_a81f_c600b09a2f01row2_col2\" class=\"data row2 col2\" >0.108722</td> \n",
       "        <td id=\"T_c4a991d2_5713_11e9_a81f_c600b09a2f01row2_col3\" class=\"data row2 col3\" >0.28073</td> \n",
       "        <td id=\"T_c4a991d2_5713_11e9_a81f_c600b09a2f01row2_col4\" class=\"data row2 col4\" >1</td> \n",
       "    </tr></tbody> \n",
       "</table> "
      ],
      "text/plain": [
       "<pandas.io.formats.style.Styler at 0x1a2440b0f0>"
      ]
     },
     "execution_count": 35,
     "metadata": {},
     "output_type": "execute_result"
    }
   ],
   "source": [
    "pd.crosstab(train.churn, train.streaming_services, margins=True, normalize=True).style.background_gradient(cmap='YlOrRd')\n"
   ]
  },
  {
   "cell_type": "code",
   "execution_count": 36,
   "metadata": {
    "scrolled": true
   },
   "outputs": [
    {
     "data": {
      "image/png": "[encoded data removed]",
      "text/plain": [
       "<Figure size 432x288 with 1 Axes>"
      ]
     },
     "metadata": {
      "needs_background": "light"
     },
     "output_type": "display_data"
    }
   ],
   "source": [
    "# barplot\n",
    "ax = sns.barplot(x=\"contract_type_id\", y=\"churn\", data=train)"
   ]
  },
  {
   "cell_type": "code",
   "execution_count": 37,
   "metadata": {},
   "outputs": [
    {
     "data": {
      "image/png": "[encoded data removed]",
      "text/plain": [
       "<Figure size 432x288 with 1 Axes>"
      ]
     },
     "metadata": {
      "needs_background": "light"
     },
     "output_type": "display_data"
    }
   ],
   "source": [
    "# barplot\n",
    "ax = sns.barplot(x=\"online_security_backup\", y=\"churn\", data=train)"
   ]
  },
  {
   "cell_type": "code",
   "execution_count": 38,
   "metadata": {},
   "outputs": [
    {
     "data": {
      "image/png": "[encoded data removed]",
      "text/plain": [
       "<Figure size 432x288 with 1 Axes>"
      ]
     },
     "metadata": {
      "needs_background": "light"
     },
     "output_type": "display_data"
    }
   ],
   "source": [
    "# barplot\n",
    "ax = sns.barplot(x=\"tenure\", y=\"churn\", data=train)"
   ]
  },
  {
   "cell_type": "code",
   "execution_count": 40,
   "metadata": {
    "scrolled": true
   },
   "outputs": [
    {
     "data": {
      "image/png": "[encoded data removed]",
      "text/plain": [
       "<Figure size 432x288 with 1 Axes>"
      ]
     },
     "metadata": {
      "needs_background": "light"
     },
     "output_type": "display_data"
    }
   ],
   "source": [
    "# barplot\n",
    "ax = sns.barplot(x=\"senior_citizen\", y=\"churn\", data=train)"
   ]
  },
  {
   "cell_type": "code",
   "execution_count": 41,
   "metadata": {
    "scrolled": true
   },
   "outputs": [
    {
     "data": {
      "image/png": "[encoded data removed]",
      "text/plain": [
       "<Figure size 432x288 with 1 Axes>"
      ]
     },
     "metadata": {
      "needs_background": "light"
     },
     "output_type": "display_data"
    }
   ],
   "source": [
    "# barplot\n",
    "ax = sns.barplot(x=\"household_type_id\", y=\"churn\", data=train)"
   ]
  },
  {
   "cell_type": "code",
   "execution_count": 42,
   "metadata": {
    "scrolled": true
   },
   "outputs": [
    {
     "data": {
      "image/png": "[encoded data removed]",
      "text/plain": [
       "<Figure size 432x288 with 1 Axes>"
      ]
     },
     "metadata": {
      "needs_background": "light"
     },
     "output_type": "display_data"
    }
   ],
   "source": [
    "# barplot\n",
    "ax = sns.barplot(x=\"streaming_services\", y=\"churn\", data=train)"
   ]
  },
  {
   "cell_type": "code",
   "execution_count": 43,
   "metadata": {
    "scrolled": true
   },
   "outputs": [
    {
     "data": {
      "image/png": "[encoded data removed]",
      "text/plain": [
       "<Figure size 432x288 with 1 Axes>"
      ]
     },
     "metadata": {
      "needs_background": "light"
     },
     "output_type": "display_data"
    }
   ],
   "source": [
    "# barplot\n",
    "ax = sns.barplot(x=\"gender\", y=\"churn\", data=train)"
   ]
  },
  {
   "cell_type": "code",
   "execution_count": 44,
   "metadata": {
    "scrolled": true
   },
   "outputs": [
    {
     "data": {
      "image/png": "[encoded data removed]",
      "text/plain": [
       "<Figure size 432x288 with 1 Axes>"
      ]
     },
     "metadata": {
      "needs_background": "light"
     },
     "output_type": "display_data"
    }
   ],
   "source": [
    "# barplot\n",
    "ax = sns.barplot(x=\"device_protection\", y=\"churn\", data=train)"
   ]
  },
  {
   "cell_type": "code",
   "execution_count": 45,
   "metadata": {
    "scrolled": true
   },
   "outputs": [
    {
     "data": {
      "image/png": "[encoded data removed]",
      "text/plain": [
       "<Figure size 432x288 with 1 Axes>"
      ]
     },
     "metadata": {
      "needs_background": "light"
     },
     "output_type": "display_data"
    }
   ],
   "source": [
    "# barplot\n",
    "ax = sns.barplot(x=\"tech_support\", y=\"churn\", data=train)"
   ]
  },
  {
   "cell_type": "code",
   "execution_count": 46,
   "metadata": {
    "scrolled": true
   },
   "outputs": [
    {
     "data": {
      "image/png": "[encoded data removed]",
      "text/plain": [
       "<Figure size 432x288 with 1 Axes>"
      ]
     },
     "metadata": {
      "needs_background": "light"
     },
     "output_type": "display_data"
    }
   ],
   "source": [
    "# barplot\n",
    "ax = sns.barplot(x=\"paperless_billing\", y=\"churn\", data=train)"
   ]
  },
  {
   "cell_type": "code",
   "execution_count": 47,
   "metadata": {},
   "outputs": [
    {
     "data": {
      "image/png": "[encoded data removed]",
      "text/plain": [
       "<Figure size 432x288 with 1 Axes>"
      ]
     },
     "metadata": {
      "needs_background": "light"
     },
     "output_type": "display_data"
    }
   ],
   "source": [
    "# barplot\n",
    "ax = sns.barplot(x=\"phone_id\", y=\"churn\", data=train)"
   ]
  },
  {
   "cell_type": "code",
   "execution_count": 48,
   "metadata": {
    "scrolled": true
   },
   "outputs": [
    {
     "data": {
      "text/plain": [
       "<matplotlib.axes._subplots.AxesSubplot at 0x1a272e2ef0>"
      ]
     },
     "execution_count": 48,
     "metadata": {},
     "output_type": "execute_result"
    },
    {
     "data": {
      "image/png": "[encoded data removed]",
      "text/plain": [
       "<Figure size 432x288 with 1 Axes>"
      ]
     },
     "metadata": {
      "needs_background": "light"
     },
     "output_type": "display_data"
    }
   ],
   "source": [
    "train.rate_churn.plot()"
   ]
  },
  {
   "cell_type": "code",
   "execution_count": 49,
   "metadata": {
    "scrolled": true
   },
   "outputs": [
    {
     "data": {
      "text/plain": [
       "<seaborn.axisgrid.JointGrid at 0x1a2749bc88>"
      ]
     },
     "execution_count": 49,
     "metadata": {},
     "output_type": "execute_result"
    },
    {
     "data": {
      "image/png": "[encoded data removed]",
      "text/plain": [
       "<Figure size 432x432 with 3 Axes>"
      ]
     },
     "metadata": {
      "needs_background": "light"
     },
     "output_type": "display_data"
    }
   ],
   "source": [
    "# joint plot\n",
    "sns.jointplot(x=train.tenure, y=train.rate_churn, data=train)"
   ]
  },
  {
   "cell_type": "code",
   "execution_count": 50,
   "metadata": {},
   "outputs": [
    {
     "data": {
      "text/plain": [
       "<seaborn.axisgrid.JointGrid at 0x1a27390978>"
      ]
     },
     "execution_count": 50,
     "metadata": {},
     "output_type": "execute_result"
    },
    {
     "data": {
      "image/png": "[encoded data removed]",
      "text/plain": [
       "<Figure size 432x432 with 3 Axes>"
      ]
     },
     "metadata": {
      "needs_background": "light"
     },
     "output_type": "display_data"
    }
   ],
   "source": [
    "# joint plot\n",
    "sns.jointplot(x=train.monthly_charges, y=train.rate_churn, data=train)"
   ]
  },
  {
   "cell_type": "code",
   "execution_count": 51,
   "metadata": {
    "scrolled": true
   },
   "outputs": [
    {
     "data": {
      "text/plain": [
       "<matplotlib.axes._subplots.AxesSubplot at 0x1a274af5c0>"
      ]
     },
     "execution_count": 51,
     "metadata": {},
     "output_type": "execute_result"
    },
    {
     "data": {
      "image/png": "[encoded data removed]",
      "text/plain": [
       "<Figure size 432x288 with 1 Axes>"
      ]
     },
     "metadata": {
      "needs_background": "light"
     },
     "output_type": "display_data"
    }
   ],
   "source": [
    "sns.distplot(train.tenure)"
   ]
  },
  {
   "cell_type": "code",
   "execution_count": 52,
   "metadata": {
    "scrolled": true
   },
   "outputs": [
    {
     "data": {
      "text/plain": [
       "<matplotlib.axes._subplots.AxesSubplot at 0x1a27e8ffd0>"
      ]
     },
     "execution_count": 52,
     "metadata": {},
     "output_type": "execute_result"
    },
    {
     "data": {
      "image/png": "[encoded data removed]",
      "text/plain": [
       "<Figure size 432x288 with 1 Axes>"
      ]
     },
     "metadata": {
      "needs_background": "light"
     },
     "output_type": "display_data"
    }
   ],
   "source": [
    "sns.distplot(train.streaming_services)"
   ]
  },
  {
   "cell_type": "code",
   "execution_count": 53,
   "metadata": {
    "scrolled": true
   },
   "outputs": [
    {
     "data": {
      "text/plain": [
       "<matplotlib.axes._subplots.AxesSubplot at 0x1a27f97ba8>"
      ]
     },
     "execution_count": 53,
     "metadata": {},
     "output_type": "execute_result"
    },
    {
     "data": {
      "image/png": "[encoded data removed]",
      "text/plain": [
       "<Figure size 432x288 with 1 Axes>"
      ]
     },
     "metadata": {
      "needs_background": "light"
     },
     "output_type": "display_data"
    }
   ],
   "source": [
    "sns.distplot(train.paperless_billing)"
   ]
  },
  {
   "cell_type": "code",
   "execution_count": 54,
   "metadata": {
    "scrolled": true
   },
   "outputs": [
    {
     "data": {
      "text/plain": [
       "<matplotlib.axes._subplots.AxesSubplot at 0x1a27f4deb8>"
      ]
     },
     "execution_count": 54,
     "metadata": {},
     "output_type": "execute_result"
    },
    {
     "data": {
      "image/png": "[encoded data removed]",
      "text/plain": [
       "<Figure size 432x288 with 1 Axes>"
      ]
     },
     "metadata": {
      "needs_background": "light"
     },
     "output_type": "display_data"
    }
   ],
   "source": [
    "sns.distplot(train.gender)"
   ]
  },
  {
   "cell_type": "code",
   "execution_count": 55,
   "metadata": {
    "scrolled": true
   },
   "outputs": [
    {
     "data": {
      "text/plain": [
       "<matplotlib.axes._subplots.AxesSubplot at 0x1a27f3c390>"
      ]
     },
     "execution_count": 55,
     "metadata": {},
     "output_type": "execute_result"
    },
    {
     "data": {
      "image/png": "[encoded data removed]",
      "text/plain": [
       "<Figure size 432x288 with 1 Axes>"
      ]
     },
     "metadata": {
      "needs_background": "light"
     },
     "output_type": "display_data"
    }
   ],
   "source": [
    "sns.distplot(train.contract_type_id)"
   ]
  },
  {
   "cell_type": "code",
   "execution_count": 56,
   "metadata": {
    "scrolled": true
   },
   "outputs": [
    {
     "data": {
      "text/plain": [
       "[<matplotlib.lines.Line2D at 0x1a282fa860>]"
      ]
     },
     "execution_count": 56,
     "metadata": {},
     "output_type": "execute_result"
    },
    {
     "data": {
      "image/png": "[encoded data removed]",
      "text/plain": [
       "<Figure size 432x288 with 1 Axes>"
      ]
     },
     "metadata": {
      "needs_background": "light"
     },
     "output_type": "display_data"
    }
   ],
   "source": [
    "# plt.plot\n",
    "plt.plot('gender', 'churn', data=train)"
   ]
  },
  {
   "cell_type": "code",
   "execution_count": 57,
   "metadata": {
    "scrolled": true
   },
   "outputs": [
    {
     "data": {
      "text/plain": [
       "[<matplotlib.lines.Line2D at 0x1a271d57f0>]"
      ]
     },
     "execution_count": 57,
     "metadata": {},
     "output_type": "execute_result"
    },
    {
     "data": {
      "image/png": "[encoded data removed]",
      "text/plain": [
       "<Figure size 432x288 with 1 Axes>"
      ]
     },
     "metadata": {
      "needs_background": "light"
     },
     "output_type": "display_data"
    }
   ],
   "source": [
    "# plt.plot\n",
    "plt.plot('monthly_charges', 'churn', data=train)"
   ]
  },
  {
   "cell_type": "code",
   "execution_count": 58,
   "metadata": {
    "scrolled": true
   },
   "outputs": [
    {
     "data": {
      "text/plain": [
       "[<matplotlib.lines.Line2D at 0x1a272197f0>]"
      ]
     },
     "execution_count": 58,
     "metadata": {},
     "output_type": "execute_result"
    },
    {
     "data": {
      "image/png": "[encoded data removed]",
      "text/plain": [
       "<Figure size 432x288 with 1 Axes>"
      ]
     },
     "metadata": {
      "needs_background": "light"
     },
     "output_type": "display_data"
    }
   ],
   "source": [
    "# plt.plot\n",
    "plt.plot('contract_type_id', 'churn', data=train)"
   ]
  },
  {
   "cell_type": "code",
   "execution_count": 59,
   "metadata": {},
   "outputs": [
    {
     "data": {
      "text/plain": [
       "[<matplotlib.lines.Line2D at 0x1a27418a90>]"
      ]
     },
     "execution_count": 59,
     "metadata": {},
     "output_type": "execute_result"
    },
    {
     "data": {
      "image/png": "[encoded data removed]",
      "text/plain": [
       "<Figure size 432x288 with 1 Axes>"
      ]
     },
     "metadata": {
      "needs_background": "light"
     },
     "output_type": "display_data"
    }
   ],
   "source": [
    "# plt.plot\n",
    "plt.plot('paperless_billing', 'churn', data=train)"
   ]
  },
  {
   "cell_type": "code",
   "execution_count": 60,
   "metadata": {},
   "outputs": [
    {
     "data": {
      "text/plain": [
       "[<matplotlib.lines.Line2D at 0x1a243a0710>]"
      ]
     },
     "execution_count": 60,
     "metadata": {},
     "output_type": "execute_result"
    },
    {
     "data": {
      "image/png": "[encoded data removed]",
      "text/plain": [
       "<Figure size 432x288 with 1 Axes>"
      ]
     },
     "metadata": {
      "needs_background": "light"
     },
     "output_type": "display_data"
    }
   ],
   "source": [
    "# plt.plot\n",
    "plt.plot('total_charges', 'churn', data=train)"
   ]
  },
  {
   "cell_type": "markdown",
   "metadata": {},
   "source": [
    "What can you say about each variable's relationship to churn, based on your initial exploration? If there appears\n",
    "to be some sort of interaction or correlation, assume there is no causal relationship and brainstorm (and document)ideas on reasons there could be correlation.\n",
    "\n",
    "-According to the above, the variables that do not have a strong enough correlation are gender, steaming services, house type, and phone_id. We will drop these for our analysis.\n",
    "\n",
    "-The variables that do have a significant effect on churn rate are internet_service_type_id, contract_type_id, payment_type_id, device_protection, tech_support, and senior_citizen. We will focus on these fetures.\n",
    "\n",
    "-internet_service_type_id: Faster plans have higher cost and higher monthly bills drive churn.\n",
    "\n",
    "-contract_type_id: month to month have the freedom to churn whenever so if they have higher monthly bills they are free to leave.\n",
    "-payment_type_id:\n",
    "\n",
    "-device_protection: Broken devices can lead them to leave\n",
    "\n",
    "-tech_support: No support can leadto frustration and cause them to churn\n",
    "\n",
    "#senior_citizen: More likely to stop service for health/moving issues.\n"
   ]
  },
  {
   "cell_type": "markdown",
   "metadata": {},
   "source": [
    "# Feature Engineering"
   ]
  },
  {
   "cell_type": "code",
   "execution_count": 61,
   "metadata": {},
   "outputs": [],
   "source": [
    "train.drop(columns= ['total_charges', \n",
    "           'tenure_year', \n",
    "           'household_type_id', \n",
    "           'streaming_services', \n",
    "           'phone_id', \n",
    "           'online_security_backup',\n",
    "           'gender',\n",
    "           'cumsum_churn',\n",
    "           'rate_churn',\n",
    "           'tenure_months',\n",
    "           'churn'], axis=1, inplace=True)"
   ]
  },
  {
   "cell_type": "code",
   "execution_count": 62,
   "metadata": {},
   "outputs": [
    {
     "data": {
      "text/html": [
       "<div>\n",
       "<style scoped>\n",
       "    .dataframe tbody tr th:only-of-type {\n",
       "        vertical-align: middle;\n",
       "    }\n",
       "\n",
       "    .dataframe tbody tr th {\n",
       "        vertical-align: top;\n",
       "    }\n",
       "\n",
       "    .dataframe thead th {\n",
       "        text-align: right;\n",
       "    }\n",
       "</style>\n",
       "<table border=\"1\" class=\"dataframe\">\n",
       "  <thead>\n",
       "    <tr style=\"text-align: right;\">\n",
       "      <th></th>\n",
       "      <th>senior_citizen</th>\n",
       "      <th>tenure</th>\n",
       "      <th>internet_service_type_id</th>\n",
       "      <th>contract_type_id</th>\n",
       "      <th>payment_type_id</th>\n",
       "      <th>monthly_charges</th>\n",
       "      <th>device_protection</th>\n",
       "      <th>tech_support</th>\n",
       "      <th>paperless_billing</th>\n",
       "    </tr>\n",
       "  </thead>\n",
       "  <tbody>\n",
       "    <tr>\n",
       "      <th>4953</th>\n",
       "      <td>0</td>\n",
       "      <td>55</td>\n",
       "      <td>3</td>\n",
       "      <td>2</td>\n",
       "      <td>1</td>\n",
       "      <td>0.014428</td>\n",
       "      <td>1</td>\n",
       "      <td>1</td>\n",
       "      <td>0</td>\n",
       "    </tr>\n",
       "    <tr>\n",
       "      <th>534</th>\n",
       "      <td>1</td>\n",
       "      <td>66</td>\n",
       "      <td>2</td>\n",
       "      <td>2</td>\n",
       "      <td>3</td>\n",
       "      <td>0.894030</td>\n",
       "      <td>2</td>\n",
       "      <td>0</td>\n",
       "      <td>0</td>\n",
       "    </tr>\n",
       "    <tr>\n",
       "      <th>172</th>\n",
       "      <td>0</td>\n",
       "      <td>66</td>\n",
       "      <td>1</td>\n",
       "      <td>3</td>\n",
       "      <td>3</td>\n",
       "      <td>0.321393</td>\n",
       "      <td>0</td>\n",
       "      <td>2</td>\n",
       "      <td>0</td>\n",
       "    </tr>\n",
       "    <tr>\n",
       "      <th>3710</th>\n",
       "      <td>0</td>\n",
       "      <td>68</td>\n",
       "      <td>3</td>\n",
       "      <td>3</td>\n",
       "      <td>3</td>\n",
       "      <td>0.057214</td>\n",
       "      <td>1</td>\n",
       "      <td>1</td>\n",
       "      <td>1</td>\n",
       "    </tr>\n",
       "    <tr>\n",
       "      <th>1574</th>\n",
       "      <td>0</td>\n",
       "      <td>57</td>\n",
       "      <td>2</td>\n",
       "      <td>2</td>\n",
       "      <td>4</td>\n",
       "      <td>0.820896</td>\n",
       "      <td>2</td>\n",
       "      <td>0</td>\n",
       "      <td>1</td>\n",
       "    </tr>\n",
       "  </tbody>\n",
       "</table>\n",
       "</div>"
      ],
      "text/plain": [
       "      senior_citizen  tenure  internet_service_type_id  contract_type_id  \\\n",
       "4953               0      55                         3                 2   \n",
       "534                1      66                         2                 2   \n",
       "172                0      66                         1                 3   \n",
       "3710               0      68                         3                 3   \n",
       "1574               0      57                         2                 2   \n",
       "\n",
       "      payment_type_id  monthly_charges  device_protection  tech_support  \\\n",
       "4953                1         0.014428                  1             1   \n",
       "534                 3         0.894030                  2             0   \n",
       "172                 3         0.321393                  0             2   \n",
       "3710                3         0.057214                  1             1   \n",
       "1574                4         0.820896                  2             0   \n",
       "\n",
       "      paperless_billing  \n",
       "4953                  0  \n",
       "534                   0  \n",
       "172                   0  \n",
       "3710                  1  \n",
       "1574                  1  "
      ]
     },
     "execution_count": 62,
     "metadata": {},
     "output_type": "execute_result"
    }
   ],
   "source": [
    "train.head()"
   ]
  },
  {
   "cell_type": "code",
   "execution_count": 63,
   "metadata": {},
   "outputs": [
    {
     "data": {
      "text/plain": [
       "(4930, 1)"
      ]
     },
     "execution_count": 63,
     "metadata": {},
     "output_type": "execute_result"
    }
   ],
   "source": [
    "y_train.shape"
   ]
  },
  {
   "cell_type": "code",
   "execution_count": 64,
   "metadata": {},
   "outputs": [
    {
     "data": {
      "text/plain": [
       "Index(['senior_citizen', 'tenure', 'internet_service_type_id',\n",
       "       'contract_type_id', 'payment_type_id', 'monthly_charges',\n",
       "       'device_protection', 'tech_support', 'paperless_billing'],\n",
       "      dtype='object')"
      ]
     },
     "execution_count": 64,
     "metadata": {},
     "output_type": "execute_result"
    }
   ],
   "source": [
    "train.columns"
   ]
  },
  {
   "cell_type": "markdown",
   "metadata": {},
   "source": [
    "# Logistic Regression Model 1"
   ]
  },
  {
   "cell_type": "code",
   "execution_count": 65,
   "metadata": {},
   "outputs": [
    {
     "name": "stdout",
     "output_type": "stream",
     "text": [
      "Accuracy of Logistic Regression classifier on training set: 0.79\n"
     ]
    }
   ],
   "source": [
    "logis = LogisticRegression()\n",
    "logis.fit(train, y_train)\n",
    "y_pred_logis = logis.predict(train)\n",
    "print('Accuracy of Logistic Regression classifier on training set: {:.2f}'\n",
    "     .format(logis.score(train, y_train)))"
   ]
  },
  {
   "cell_type": "code",
   "execution_count": 66,
   "metadata": {},
   "outputs": [
    {
     "name": "stdout",
     "output_type": "stream",
     "text": [
      "[[3237  385]\n",
      " [ 636  672]]\n"
     ]
    }
   ],
   "source": [
    "from sklearn.metrics import confusion_matrix\n",
    "cm = confusion_matrix(y_train, y_pred_logis)\n",
    "print(cm)"
   ]
  },
  {
   "cell_type": "code",
   "execution_count": 67,
   "metadata": {},
   "outputs": [
    {
     "name": "stdout",
     "output_type": "stream",
     "text": [
      "              precision    recall  f1-score   support\n",
      "\n",
      "           0       0.84      0.89      0.86      3622\n",
      "           1       0.64      0.51      0.57      1308\n",
      "\n",
      "   micro avg       0.79      0.79      0.79      4930\n",
      "   macro avg       0.74      0.70      0.72      4930\n",
      "weighted avg       0.78      0.79      0.79      4930\n",
      "\n"
     ]
    }
   ],
   "source": [
    "from sklearn.metrics import classification_report\n",
    "print(classification_report(y_train, y_pred_logis))"
   ]
  },
  {
   "cell_type": "code",
   "execution_count": 68,
   "metadata": {},
   "outputs": [
    {
     "name": "stdout",
     "output_type": "stream",
     "text": [
      "7.809330628803246\n",
      "12.900608519269777\n"
     ]
    }
   ],
   "source": [
    "tn = cm[0,0]\n",
    "tp = cm[1,1]\n",
    "fn = cm[1,0]\n",
    "fp = cm[0,1]\n",
    "total = cm.sum()\n",
    "accuracy = ((tn + tp)/total)*100\n",
    "print((fp/total)*100)\n",
    "print((fn/total)*100)"
   ]
  },
  {
   "cell_type": "markdown",
   "metadata": {},
   "source": [
    "# Logistic Regression Model 2"
   ]
  },
  {
   "cell_type": "code",
   "execution_count": 69,
   "metadata": {},
   "outputs": [
    {
     "name": "stdout",
     "output_type": "stream",
     "text": [
      "Accuracy of Logistic Regression classifier on training set: 0.78\n"
     ]
    }
   ],
   "source": [
    "logis = LogisticRegression(random_state=123)\n",
    "logis.fit(train[['monthly_charges', 'tenure']], y_train)\n",
    "y_pred_logis = logis.predict(train[['monthly_charges', 'tenure']])\n",
    "print('Accuracy of Logistic Regression classifier on training set: {:.2f}'\n",
    "     .format(logis.score(train[['monthly_charges', 'tenure']], y_train)))\n"
   ]
  },
  {
   "cell_type": "code",
   "execution_count": 70,
   "metadata": {},
   "outputs": [
    {
     "name": "stdout",
     "output_type": "stream",
     "text": [
      "[[3295  327]\n",
      " [ 733  575]]\n"
     ]
    }
   ],
   "source": [
    "cm = confusion_matrix(y_train, y_pred_logis)\n",
    "print(cm)"
   ]
  },
  {
   "cell_type": "code",
   "execution_count": 71,
   "metadata": {},
   "outputs": [
    {
     "name": "stdout",
     "output_type": "stream",
     "text": [
      "              precision    recall  f1-score   support\n",
      "\n",
      "           0       0.82      0.91      0.86      3622\n",
      "           1       0.64      0.44      0.52      1308\n",
      "\n",
      "   micro avg       0.78      0.78      0.78      4930\n",
      "   macro avg       0.73      0.67      0.69      4930\n",
      "weighted avg       0.77      0.78      0.77      4930\n",
      "\n"
     ]
    }
   ],
   "source": [
    "print(classification_report(y_train, y_pred_logis))"
   ]
  },
  {
   "cell_type": "code",
   "execution_count": 72,
   "metadata": {},
   "outputs": [
    {
     "name": "stdout",
     "output_type": "stream",
     "text": [
      "6.632860040567952\n",
      "14.868154158215011\n"
     ]
    }
   ],
   "source": [
    "# Finding the FP & FN rates\n",
    "tn = cm[0,0]\n",
    "tp = cm[1,1]\n",
    "fn = cm[1,0]\n",
    "fp = cm[0,1]\n",
    "total = cm.sum()\n",
    "accuracy = ((tn + tp)/total)*100\n",
    "print((fp/total)*100)\n",
    "print((fn/total)*100)"
   ]
  },
  {
   "cell_type": "code",
   "execution_count": 73,
   "metadata": {},
   "outputs": [
    {
     "name": "stdout",
     "output_type": "stream",
     "text": [
      "Accuracy of Logistic Regression classifier on training set: 0.79\n"
     ]
    }
   ],
   "source": [
    "print('Accuracy of Logistic Regression classifier on training set: {:.2f}'\n",
    "     .format(logis.score(test[['monthly_charges', 'tenure']], y_test)))"
   ]
  },
  {
   "cell_type": "markdown",
   "metadata": {},
   "source": [
    "# Logisitic Regression Model 3"
   ]
  },
  {
   "cell_type": "code",
   "execution_count": 74,
   "metadata": {},
   "outputs": [
    {
     "data": {
      "text/plain": [
       "Index(['senior_citizen', 'tenure', 'internet_service_type_id',\n",
       "       'contract_type_id', 'payment_type_id', 'monthly_charges',\n",
       "       'device_protection', 'tech_support', 'paperless_billing'],\n",
       "      dtype='object')"
      ]
     },
     "execution_count": 74,
     "metadata": {},
     "output_type": "execute_result"
    }
   ],
   "source": [
    "train.columns"
   ]
  },
  {
   "cell_type": "code",
   "execution_count": 75,
   "metadata": {},
   "outputs": [
    {
     "name": "stdout",
     "output_type": "stream",
     "text": [
      "Accuracy of Logistic Regression classifier on training set: 0.79\n"
     ]
    }
   ],
   "source": [
    "logis = LogisticRegression(random_state=123)\n",
    "logis.fit(train[['monthly_charges', 'tenure','senior_citizen']], y_train)\n",
    "y_pred_logis = logis.predict(train[['monthly_charges', 'tenure','senior_citizen']])\n",
    "print('Accuracy of Logistic Regression classifier on training set: {:.2f}'\n",
    "     .format(logis.score(train[['monthly_charges', 'tenure','senior_citizen']], y_train)))\n"
   ]
  },
  {
   "cell_type": "code",
   "execution_count": 76,
   "metadata": {},
   "outputs": [
    {
     "name": "stdout",
     "output_type": "stream",
     "text": [
      "[[3305  317]\n",
      " [ 723  585]]\n"
     ]
    }
   ],
   "source": [
    "cm = confusion_matrix(y_train, y_pred_logis)\n",
    "print(cm)"
   ]
  },
  {
   "cell_type": "code",
   "execution_count": 77,
   "metadata": {},
   "outputs": [
    {
     "name": "stdout",
     "output_type": "stream",
     "text": [
      "              precision    recall  f1-score   support\n",
      "\n",
      "           0       0.82      0.91      0.86      3622\n",
      "           1       0.65      0.45      0.53      1308\n",
      "\n",
      "   micro avg       0.79      0.79      0.79      4930\n",
      "   macro avg       0.73      0.68      0.70      4930\n",
      "weighted avg       0.77      0.79      0.78      4930\n",
      "\n"
     ]
    }
   ],
   "source": [
    "print(classification_report(y_train, y_pred_logis))"
   ]
  },
  {
   "cell_type": "code",
   "execution_count": 78,
   "metadata": {},
   "outputs": [
    {
     "name": "stdout",
     "output_type": "stream",
     "text": [
      "6.43002028397566\n",
      "14.665314401622718\n"
     ]
    }
   ],
   "source": [
    "# Finding the FP & FN rates\n",
    "tn = cm[0,0]\n",
    "tp = cm[1,1]\n",
    "fn = cm[1,0]\n",
    "fp = cm[0,1]\n",
    "total = cm.sum()\n",
    "accuracy = ((tn + tp)/total)*100\n",
    "print((fp/total)*100)\n",
    "print((fn/total)*100)"
   ]
  },
  {
   "cell_type": "code",
   "execution_count": 79,
   "metadata": {},
   "outputs": [
    {
     "name": "stdout",
     "output_type": "stream",
     "text": [
      "Accuracy of Logistic Regression classifier on training set: 0.80\n"
     ]
    }
   ],
   "source": [
    "print('Accuracy of Logistic Regression classifier on training set: {:.2f}'\n",
    "     .format(logis.score(test[['monthly_charges', 'tenure','senior_citizen']], y_test)))"
   ]
  },
  {
   "cell_type": "markdown",
   "metadata": {},
   "source": [
    "# Logistic Regression Model 4"
   ]
  },
  {
   "cell_type": "code",
   "execution_count": 80,
   "metadata": {},
   "outputs": [
    {
     "name": "stdout",
     "output_type": "stream",
     "text": [
      "Accuracy of Logistic Regression classifier on training set: 0.79\n"
     ]
    }
   ],
   "source": [
    "logis = LogisticRegression(random_state=123)\n",
    "logis.fit(train[['monthly_charges', 'tenure','contract_type_id']], y_train)\n",
    "y_pred_logis = logis.predict(train[['monthly_charges', 'tenure','contract_type_id']])\n",
    "print('Accuracy of Logistic Regression classifier on training set: {:.2f}'\n",
    "     .format(logis.score(train[['monthly_charges', 'tenure','contract_type_id']], y_train)))"
   ]
  },
  {
   "cell_type": "code",
   "execution_count": 81,
   "metadata": {},
   "outputs": [
    {
     "name": "stdout",
     "output_type": "stream",
     "text": [
      "[[3243  379]\n",
      " [ 677  631]]\n"
     ]
    }
   ],
   "source": [
    "cm = confusion_matrix(y_train, y_pred_logis)\n",
    "print(cm)"
   ]
  },
  {
   "cell_type": "code",
   "execution_count": 82,
   "metadata": {},
   "outputs": [
    {
     "name": "stdout",
     "output_type": "stream",
     "text": [
      "              precision    recall  f1-score   support\n",
      "\n",
      "           0       0.83      0.90      0.86      3622\n",
      "           1       0.62      0.48      0.54      1308\n",
      "\n",
      "   micro avg       0.79      0.79      0.79      4930\n",
      "   macro avg       0.73      0.69      0.70      4930\n",
      "weighted avg       0.77      0.79      0.78      4930\n",
      "\n"
     ]
    }
   ],
   "source": [
    "print(classification_report(y_train, y_pred_logis))"
   ]
  },
  {
   "cell_type": "code",
   "execution_count": 83,
   "metadata": {},
   "outputs": [
    {
     "name": "stdout",
     "output_type": "stream",
     "text": [
      "7.687626774847871\n",
      "13.732251521298174\n"
     ]
    }
   ],
   "source": [
    "# Finding the FP & FN rates\n",
    "tn = cm[0,0]\n",
    "tp = cm[1,1]\n",
    "fn = cm[1,0]\n",
    "fp = cm[0,1]\n",
    "total = cm.sum()\n",
    "accuracy = ((tn + tp)/total)*100\n",
    "print((fp/total)*100)\n",
    "print((fn/total)*100)"
   ]
  },
  {
   "cell_type": "code",
   "execution_count": 84,
   "metadata": {},
   "outputs": [
    {
     "name": "stdout",
     "output_type": "stream",
     "text": [
      "Accuracy of Logistic Regression classifier on training set: 0.79\n"
     ]
    }
   ],
   "source": [
    "print('Accuracy of Logistic Regression classifier on training set: {:.2f}'\n",
    "     .format(logis.score(test[['monthly_charges', 'tenure','contract_type_id']], y_test)))"
   ]
  },
  {
   "cell_type": "markdown",
   "metadata": {},
   "source": [
    "# Logistic Regression Model 5"
   ]
  },
  {
   "cell_type": "code",
   "execution_count": 85,
   "metadata": {},
   "outputs": [
    {
     "name": "stdout",
     "output_type": "stream",
     "text": [
      "Accuracy of Logistic Regression classifier on training set: 0.79\n"
     ]
    }
   ],
   "source": [
    "logis = LogisticRegression(random_state=123)\n",
    "logis.fit(train[['monthly_charges', 'tenure','tech_support']], y_train)\n",
    "y_pred_logis = logis.predict(train[['monthly_charges', 'tenure','tech_support']])\n",
    "print('Accuracy of Logistic Regression classifier on training set: {:.2f}'\n",
    "     .format(logis.score(train[['monthly_charges', 'tenure','tech_support']], y_train)))"
   ]
  },
  {
   "cell_type": "code",
   "execution_count": 86,
   "metadata": {},
   "outputs": [
    {
     "name": "stdout",
     "output_type": "stream",
     "text": [
      "[[3272  350]\n",
      " [ 701  607]]\n"
     ]
    }
   ],
   "source": [
    "cm = confusion_matrix(y_train, y_pred_logis)\n",
    "print(cm)"
   ]
  },
  {
   "cell_type": "code",
   "execution_count": 87,
   "metadata": {},
   "outputs": [
    {
     "name": "stdout",
     "output_type": "stream",
     "text": [
      "              precision    recall  f1-score   support\n",
      "\n",
      "           0       0.82      0.90      0.86      3622\n",
      "           1       0.63      0.46      0.54      1308\n",
      "\n",
      "   micro avg       0.79      0.79      0.79      4930\n",
      "   macro avg       0.73      0.68      0.70      4930\n",
      "weighted avg       0.77      0.79      0.78      4930\n",
      "\n"
     ]
    }
   ],
   "source": [
    "print(classification_report(y_train, y_pred_logis))"
   ]
  },
  {
   "cell_type": "code",
   "execution_count": 88,
   "metadata": {},
   "outputs": [
    {
     "name": "stdout",
     "output_type": "stream",
     "text": [
      "7.099391480730223\n",
      "14.219066937119676\n"
     ]
    }
   ],
   "source": [
    "# Finding the FP & FN rates\n",
    "tn = cm[0,0]\n",
    "tp = cm[1,1]\n",
    "fn = cm[1,0]\n",
    "fp = cm[0,1]\n",
    "total = cm.sum()\n",
    "accuracy = ((tn + tp)/total)*100\n",
    "print((fp/total)*100)\n",
    "print((fn/total)*100)"
   ]
  },
  {
   "cell_type": "code",
   "execution_count": 89,
   "metadata": {},
   "outputs": [
    {
     "name": "stdout",
     "output_type": "stream",
     "text": [
      "Accuracy of Logistic Regression classifier on training set: 0.79\n"
     ]
    }
   ],
   "source": [
    "print('Accuracy of Logistic Regression classifier on training set: {:.2f}'\n",
    "     .format(logis.score(test[['monthly_charges', 'tenure','tech_support']], y_test)))"
   ]
  },
  {
   "cell_type": "markdown",
   "metadata": {},
   "source": [
    "# Decision Tree Model 1"
   ]
  },
  {
   "cell_type": "code",
   "execution_count": 90,
   "metadata": {},
   "outputs": [
    {
     "name": "stdout",
     "output_type": "stream",
     "text": [
      "Accuracy of Decision Tree classifier on training set: 1.00\n"
     ]
    }
   ],
   "source": [
    "from sklearn.tree import DecisionTreeClassifier\n",
    "\n",
    "dtc = DecisionTreeClassifier()\n",
    "dtc.fit(train, y_train)\n",
    "y_pred_dtc = dtc.predict(train)\n",
    "print('Accuracy of Decision Tree classifier on training set: {:.2f}'\n",
    "     .format(dtc.score(train, y_train)))"
   ]
  },
  {
   "cell_type": "code",
   "execution_count": 91,
   "metadata": {},
   "outputs": [
    {
     "name": "stdout",
     "output_type": "stream",
     "text": [
      "[[3620    2]\n",
      " [  17 1291]]\n"
     ]
    }
   ],
   "source": [
    "print(confusion_matrix(y_train, y_pred_dtc))"
   ]
  },
  {
   "cell_type": "code",
   "execution_count": 92,
   "metadata": {},
   "outputs": [
    {
     "name": "stdout",
     "output_type": "stream",
     "text": [
      "              precision    recall  f1-score   support\n",
      "\n",
      "           0       1.00      1.00      1.00      3622\n",
      "           1       1.00      0.99      0.99      1308\n",
      "\n",
      "   micro avg       1.00      1.00      1.00      4930\n",
      "   macro avg       1.00      0.99      1.00      4930\n",
      "weighted avg       1.00      1.00      1.00      4930\n",
      "\n"
     ]
    }
   ],
   "source": [
    "print(classification_report(y_train, y_pred_dtc))"
   ]
  },
  {
   "cell_type": "markdown",
   "metadata": {},
   "source": [
    "# Decision Tree Model 2"
   ]
  },
  {
   "cell_type": "code",
   "execution_count": 93,
   "metadata": {},
   "outputs": [
    {
     "name": "stdout",
     "output_type": "stream",
     "text": [
      "Accuracy of Decision Tree classifier on training set: 0.99\n"
     ]
    }
   ],
   "source": [
    "dtc = DecisionTreeClassifier()\n",
    "dtc.fit(train[['tenure',\n",
    "       'contract_type_id',\n",
    "       'device_protection', 'tech_support', 'monthly_charges']], y_train)\n",
    "y_pred_dtc = dtc.predict(train[['tenure',\n",
    "       'contract_type_id',\n",
    "       'device_protection', 'tech_support', 'monthly_charges']])\n",
    "print('Accuracy of Decision Tree classifier on training set: {:.2f}'\n",
    "     .format(dtc.score(train[['tenure',\n",
    "       'contract_type_id',\n",
    "       'device_protection', 'tech_support', 'monthly_charges']], y_train)))"
   ]
  },
  {
   "cell_type": "code",
   "execution_count": 94,
   "metadata": {},
   "outputs": [
    {
     "name": "stdout",
     "output_type": "stream",
     "text": [
      "[[3610   12]\n",
      " [  54 1254]]\n"
     ]
    }
   ],
   "source": [
    "print(confusion_matrix(y_train, y_pred_dtc))"
   ]
  },
  {
   "cell_type": "code",
   "execution_count": 95,
   "metadata": {},
   "outputs": [
    {
     "name": "stdout",
     "output_type": "stream",
     "text": [
      "              precision    recall  f1-score   support\n",
      "\n",
      "           0       0.99      1.00      0.99      3622\n",
      "           1       0.99      0.96      0.97      1308\n",
      "\n",
      "   micro avg       0.99      0.99      0.99      4930\n",
      "   macro avg       0.99      0.98      0.98      4930\n",
      "weighted avg       0.99      0.99      0.99      4930\n",
      "\n"
     ]
    }
   ],
   "source": [
    "print(classification_report(y_train, y_pred_dtc))"
   ]
  },
  {
   "cell_type": "markdown",
   "metadata": {},
   "source": [
    "# Random Forest Model 1"
   ]
  },
  {
   "cell_type": "code",
   "execution_count": 96,
   "metadata": {},
   "outputs": [
    {
     "name": "stdout",
     "output_type": "stream",
     "text": [
      "Accuracy of random forest classifier on training set: 0.97\n"
     ]
    }
   ],
   "source": [
    "from sklearn.ensemble import RandomForestClassifier\n",
    "\n",
    "rfc = RandomForestClassifier()\n",
    "rfc.fit(train, y_train)\n",
    "y_pred_rfc = rfc.predict(train)\n",
    "print('Accuracy of random forest classifier on training set: {:.2f}'\n",
    "     .format(rfc.score(train, y_train)))"
   ]
  },
  {
   "cell_type": "code",
   "execution_count": 97,
   "metadata": {},
   "outputs": [
    {
     "name": "stdout",
     "output_type": "stream",
     "text": [
      "[[3596   26]\n",
      " [ 101 1207]]\n"
     ]
    }
   ],
   "source": [
    "print(confusion_matrix(y_train, y_pred_rfc))"
   ]
  },
  {
   "cell_type": "code",
   "execution_count": 98,
   "metadata": {},
   "outputs": [
    {
     "name": "stdout",
     "output_type": "stream",
     "text": [
      "              precision    recall  f1-score   support\n",
      "\n",
      "           0       0.97      0.99      0.98      3622\n",
      "           1       0.98      0.92      0.95      1308\n",
      "\n",
      "   micro avg       0.97      0.97      0.97      4930\n",
      "   macro avg       0.98      0.96      0.97      4930\n",
      "weighted avg       0.97      0.97      0.97      4930\n",
      "\n"
     ]
    }
   ],
   "source": [
    "print(classification_report(y_train, y_pred_rfc))"
   ]
  },
  {
   "cell_type": "markdown",
   "metadata": {},
   "source": [
    "# Random Forest Model 2"
   ]
  },
  {
   "cell_type": "code",
   "execution_count": 99,
   "metadata": {},
   "outputs": [
    {
     "name": "stdout",
     "output_type": "stream",
     "text": [
      "Accuracy of random forest classifier on training set: 0.97\n"
     ]
    }
   ],
   "source": [
    "rfc = RandomForestClassifier()\n",
    "rfc.fit(train[['tenure',\n",
    "       'contract_type_id',\n",
    "       'device_protection', 'tech_support', 'monthly_charges']], y_train)\n",
    "y_pred_rfc = rfc.predict(train[['tenure',\n",
    "       'contract_type_id',\n",
    "       'device_protection', 'tech_support', 'monthly_charges']])\n",
    "print('Accuracy of random forest classifier on training set: {:.2f}'\n",
    "     .format(rfc.score(train[['tenure',\n",
    "       'contract_type_id',\n",
    "       'device_protection', 'tech_support', 'monthly_charges']], y_train)))"
   ]
  },
  {
   "cell_type": "code",
   "execution_count": 100,
   "metadata": {},
   "outputs": [
    {
     "name": "stdout",
     "output_type": "stream",
     "text": [
      "[[3572   50]\n",
      " [ 115 1193]]\n"
     ]
    }
   ],
   "source": [
    "print(confusion_matrix(y_train, y_pred_rfc))"
   ]
  },
  {
   "cell_type": "code",
   "execution_count": 101,
   "metadata": {},
   "outputs": [
    {
     "name": "stdout",
     "output_type": "stream",
     "text": [
      "              precision    recall  f1-score   support\n",
      "\n",
      "           0       0.97      0.99      0.98      3622\n",
      "           1       0.96      0.91      0.94      1308\n",
      "\n",
      "   micro avg       0.97      0.97      0.97      4930\n",
      "   macro avg       0.96      0.95      0.96      4930\n",
      "weighted avg       0.97      0.97      0.97      4930\n",
      "\n"
     ]
    }
   ],
   "source": [
    "print(classification_report(y_train, y_pred_rfc))"
   ]
  },
  {
   "cell_type": "markdown",
   "metadata": {},
   "source": [
    "# KNN Model 1"
   ]
  },
  {
   "cell_type": "code",
   "execution_count": 102,
   "metadata": {},
   "outputs": [
    {
     "name": "stdout",
     "output_type": "stream",
     "text": [
      "Accuracy of KNN classifier on training set: 0.84\n"
     ]
    }
   ],
   "source": [
    "from sklearn.neighbors import KNeighborsClassifier\n",
    "\n",
    "knn = KNeighborsClassifier()\n",
    "knn.fit(train, y_train)\n",
    "y_pred_knn = knn.predict(train)\n",
    "print('Accuracy of KNN classifier on training set: {:.2f}'\n",
    "     .format(knn.score(train, y_train)))"
   ]
  },
  {
   "cell_type": "code",
   "execution_count": 103,
   "metadata": {},
   "outputs": [
    {
     "name": "stdout",
     "output_type": "stream",
     "text": [
      "[[3322  300]\n",
      " [ 489  819]]\n"
     ]
    }
   ],
   "source": [
    "print(confusion_matrix(y_train, y_pred_knn))"
   ]
  },
  {
   "cell_type": "code",
   "execution_count": 104,
   "metadata": {},
   "outputs": [
    {
     "name": "stdout",
     "output_type": "stream",
     "text": [
      "              precision    recall  f1-score   support\n",
      "\n",
      "           0       0.87      0.92      0.89      3622\n",
      "           1       0.73      0.63      0.67      1308\n",
      "\n",
      "   micro avg       0.84      0.84      0.84      4930\n",
      "   macro avg       0.80      0.77      0.78      4930\n",
      "weighted avg       0.83      0.84      0.84      4930\n",
      "\n"
     ]
    }
   ],
   "source": [
    "print(classification_report(y_train, y_pred_knn))"
   ]
  },
  {
   "cell_type": "markdown",
   "metadata": {},
   "source": [
    "# KNN Model 2"
   ]
  },
  {
   "cell_type": "code",
   "execution_count": 109,
   "metadata": {},
   "outputs": [
    {
     "data": {
      "text/plain": [
       "Index(['senior_citizen', 'tenure', 'internet_service_type_id',\n",
       "       'contract_type_id', 'payment_type_id', 'monthly_charges',\n",
       "       'device_protection', 'tech_support', 'paperless_billing'],\n",
       "      dtype='object')"
      ]
     },
     "execution_count": 109,
     "metadata": {},
     "output_type": "execute_result"
    }
   ],
   "source": [
    "train.columns"
   ]
  },
  {
   "cell_type": "code",
   "execution_count": 116,
   "metadata": {},
   "outputs": [
    {
     "name": "stdout",
     "output_type": "stream",
     "text": [
      "Accuracy of KNN classifier on training set: 0.84\n"
     ]
    }
   ],
   "source": [
    "from sklearn.neighbors import KNeighborsClassifier\n",
    "\n",
    "knn = KNeighborsClassifier()\n",
    "knn.fit(train[['tenure',\n",
    "       'monthly_charges','contract_type_id']], y_train)\n",
    "y_pred_knn = knn.predict(train[['tenure',\n",
    "       'monthly_charges','contract_type_id']])\n",
    "print('Accuracy of KNN classifier on training set: {:.2f}'\n",
    "     .format(knn.score(train[['tenure',\n",
    "       'monthly_charges','contract_type_id']], y_train)))"
   ]
  },
  {
   "cell_type": "code",
   "execution_count": 117,
   "metadata": {},
   "outputs": [
    {
     "name": "stdout",
     "output_type": "stream",
     "text": [
      "[[3319  303]\n",
      " [ 502  806]]\n"
     ]
    }
   ],
   "source": [
    "print(confusion_matrix(y_train, y_pred_knn))"
   ]
  },
  {
   "cell_type": "code",
   "execution_count": 118,
   "metadata": {},
   "outputs": [
    {
     "name": "stdout",
     "output_type": "stream",
     "text": [
      "              precision    recall  f1-score   support\n",
      "\n",
      "           0       0.87      0.92      0.89      3622\n",
      "           1       0.73      0.62      0.67      1308\n",
      "\n",
      "   micro avg       0.84      0.84      0.84      4930\n",
      "   macro avg       0.80      0.77      0.78      4930\n",
      "weighted avg       0.83      0.84      0.83      4930\n",
      "\n"
     ]
    }
   ],
   "source": [
    "print(classification_report(y_train, y_pred_knn))"
   ]
  },
  {
   "cell_type": "code",
   "execution_count": null,
   "metadata": {},
   "outputs": [],
   "source": []
  },
  {
   "cell_type": "code",
   "execution_count": null,
   "metadata": {},
   "outputs": [],
   "source": []
  },
  {
   "cell_type": "code",
   "execution_count": null,
   "metadata": {},
   "outputs": [],
   "source": []
  },
  {
   "cell_type": "code",
   "execution_count": null,
   "metadata": {},
   "outputs": [],
   "source": []
  },
  {
   "cell_type": "code",
   "execution_count": 108,
   "metadata": {},
   "outputs": [],
   "source": [
    "# from sklearn.metrics import confusion_matrix\n",
    "# from sklearn.metrics import classification_report\n",
    "\n",
    "# #create\n",
    "# logit = LogisticRegression()\n",
    "# print(logit)\n",
    "\n",
    "# #fit\n",
    "# logit.fit(train[['tenure', 'internet_service_type_id', 'monthly_charges', 'contract_type_id', 'phone_id']], train.churn)\n",
    "\n",
    "# #predict\n",
    "# print(logit.predict_proba(train[['tenure_year', 'internet_service_type_id', 'monthly_charges', 'contract_type_id', 'phone_id']]))\n",
    "\n",
    "# train['prediction']= logit.predict(train[['tenure_year', 'internet_service_type_id', 'monthly_charges', 'contract_type_id', 'phone_id']])\n",
    "\n",
    "# #evaluate\n",
    "# print(logit.score(train[['tenure_year', 'internet_service_type_id', 'monthly_charges', 'contract_type_id', 'phone_id']], train.churn))\n",
    "\n",
    "# cm = confusion_matrix(train.churn, train.prediction)\n",
    "# print(cm)\n",
    "\n",
    "# print(classification_report(train.churn, train.prediction))\n",
    "\n",
    "# print(train.churn.value_counts())\n",
    "\n",
    "# print(train.prediction.value_counts())\n",
    "\n",
    "# print('Accuracy:', (train.churn == train.prediction).sum() / train.shape[0])\n",
    "\n",
    "\n"
   ]
  },
  {
   "cell_type": "code",
   "execution_count": null,
   "metadata": {},
   "outputs": [],
   "source": []
  },
  {
   "cell_type": "code",
   "execution_count": null,
   "metadata": {},
   "outputs": [],
   "source": []
  }
 ],
 "metadata": {
  "kernelspec": {
   "display_name": "Python 3",
   "language": "python",
   "name": "python3"
  },
  "language_info": {
   "codemirror_mode": {
    "name": "ipython",
    "version": 3
   },
   "file_extension": ".py",
   "mimetype": "text/x-python",
   "name": "python",
   "nbconvert_exporter": "python",
   "pygments_lexer": "ipython3",
   "version": "3.7.1"
  }
 },
 "nbformat": 4,
 "nbformat_minor": 2
}
