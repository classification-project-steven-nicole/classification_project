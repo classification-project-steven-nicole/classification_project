{
 "cells": [
  {
   "cell_type": "code",
   "execution_count": 1,
   "metadata": {},
   "outputs": [],
   "source": [
    "import pandas as pd\n",
    "import numpy as np\n",
    "from sklearn.model_selection import train_test_split\n",
    "from sklearn.preprocessing import LabelEncoder\n"
   ]
  },
  {
   "cell_type": "markdown",
   "metadata": {},
   "source": [
    "# Acquisition\n"
   ]
  },
  {
   "cell_type": "code",
   "execution_count": 2,
   "metadata": {},
   "outputs": [],
   "source": [
    "df = pd.read_csv('telco_churn_customers.csv')"
   ]
  },
  {
   "cell_type": "code",
   "execution_count": 3,
   "metadata": {},
   "outputs": [],
   "source": [
    "def peekatdata(dataframe):\n",
    "    head_df = df.head()\n",
    "    tail_df = df.tail()\n",
    "    head_tail = head_df.append(tail_df)\n",
    "    print('Head and Tail\\n\\n', head_tail)\n",
    "    print('--'*55)\n",
    "    shape_tuple = df.shape\n",
    "    print('Shape\\n\\n', shape_tuple)\n",
    "    print('--'*20)\n",
    "    describe_df = df.describe()\n",
    "    print('Describe\\n\\n', describe_df)\n",
    "    print('--'*20)\n",
    "    print('Index\\n\\n', df.index)\n",
    "    print('--'*20)\n",
    "    print('Data Types\\n\\n', df.dtypes)\n",
    "    print('--'*20)\n",
    "    print('Null Value Count\\n\\n', df.isnull().sum())\n",
    "    print('--'*55)\n",
    "    print('Memory\\n\\n', df.memory_usage)"
   ]
  },
  {
   "cell_type": "markdown",
   "metadata": {},
   "source": [
    "# Data Prep\n"
   ]
  },
  {
   "cell_type": "code",
   "execution_count": 4,
   "metadata": {},
   "outputs": [],
   "source": [
    "def df_value_counts(df):\n",
    "    for col in df.columns: \n",
    "        n = df[col].unique().shape[0] \n",
    "        col_bins = min(n,10) \n",
    "        if df[col].dtype in ['int64','float64'] and n > 10:\n",
    "            print('%s:' % col)\n",
    "            print(df[col].value_counts(bins=col_bins, sort=False)) \n",
    "        else: \n",
    "            print(df[col].value_counts()) \n",
    "        print('\\n')\n"
   ]
  },
  {
   "cell_type": "code",
   "execution_count": 5,
   "metadata": {},
   "outputs": [],
   "source": [
    "# Some of the total charges have empty space string ' ', replace with NaN \n",
    "df.replace(' ', np.nan, inplace=True)\n",
    "\n",
    "# Replace NaN with 0\n",
    "df.fillna(0, inplace=True)\n",
    "\n",
    "# Turn the column from type object to float\n",
    "df[\"total_charges\"] = df.total_charges.astype(float)"
   ]
  },
  {
   "cell_type": "code",
   "execution_count": 6,
   "metadata": {},
   "outputs": [],
   "source": [
    "# Transform churn such that \"yes\" = 1 and \"no\" = 0\n",
    "\n",
    "def transform_churn(df):\n",
    "    df['churn'] = df['churn'].replace({'Yes': 1, 'No': 0})\n",
    "    return df"
   ]
  },
  {
   "cell_type": "code",
   "execution_count": 7,
   "metadata": {},
   "outputs": [],
   "source": [
    "# Compute a new feature, tenure_year, that is a result of translating tenure from months to years.\n",
    "\n",
    "def tenure_year(df):\n",
    "    tenure_year = (df.tenure / 12)\n",
    "    df['tenure_year']= tenure_year.round(2) # creates new column for above\n",
    "    return df"
   ]
  },
  {
   "cell_type": "code",
   "execution_count": 8,
   "metadata": {},
   "outputs": [],
   "source": [
    "def phone_info(df):\n",
    "    df[\"phone_id\"] = df[\"phone_service\"].map(str) + df[\"multiple_lines\"]\n",
    "    df['phone_id'] = df['phone_id'].replace({'YesYes': 2, 'NoNo phone service': 0, 'YesNo': 1})\n",
    "    return df\n"
   ]
  },
  {
   "cell_type": "code",
   "execution_count": 9,
   "metadata": {},
   "outputs": [],
   "source": [
    "# Figure out a way to capture the information contained in dependents and partner into a single variable of dtype int.\n",
    "# Transform the data and place in a new column household_type_id.\n",
    "\n",
    "def household_type_id(df):\n",
    "    df[\"household_type_id\"] = df[\"partner\"].map(str) + df[\"dependents\"]\n",
    "    df['household_type_id'] = df['household_type_id'].replace({'YesYes': 3, 'NoNo': 0, 'YesNo': 2, 'NoYes': 1})\n",
    "    return df\n"
   ]
  },
  {
   "cell_type": "code",
   "execution_count": 10,
   "metadata": {},
   "outputs": [],
   "source": [
    "# Figure out a way to capture the information contained in streaming_tv and streaming_movies into a single\n",
    "# variable of dtype int. Transform the data and place in a new column streaming_services.\n",
    "\n",
    "def streaming_services(df):\n",
    "    df[\"streaming_services\"] = df[\"partner\"].map(str) + df[\"dependents\"]\n",
    "    df['streaming_services'] = df['streaming_services'].replace({'YesYes': 3, 'NoNo': 0, 'YesNo': 2, 'NoYes': 1})\n",
    "    return df\n",
    "\n"
   ]
  },
  {
   "cell_type": "code",
   "execution_count": 11,
   "metadata": {},
   "outputs": [],
   "source": [
    "def online_security_info(df):\n",
    "    df[\"online_security\"].map(str) + df[\"online_backup\"]\n",
    "    df['online_security'] = df['online_security'].replace({'No internet serviceNo internet service': 0,\n",
    "                                                           'NoNo': 1, \n",
    "                                                           'NoYes': 2,\n",
    "                                                           'YesNo': 3,\n",
    "                                                           'YesYes': 4})\n",
    "    return df\n"
   ]
  },
  {
   "cell_type": "code",
   "execution_count": 12,
   "metadata": {},
   "outputs": [],
   "source": [
    "X = df.drop('churn', axis=1)\n",
    "y = df[['churn']]\n",
    "\n",
    "X_train, X_test, y_train, y_test = train_test_split(X, y, test_size = .30, random_state = 123)\n"
   ]
  },
  {
   "cell_type": "code",
   "execution_count": 13,
   "metadata": {},
   "outputs": [],
   "source": [
    "encoded = df[['gender', 'device_protection', 'tech_support', 'paperless_billing']].apply(LabelEncoder().fit_transform)\n",
    "df.drop(columns= ['gender', 'device_protection', 'tech_support', 'paperless_billing'], axis=1, inplace=True)\n",
    "df = df.join(encoded)\n",
    "\n",
    "\n"
   ]
  },
  {
   "cell_type": "code",
   "execution_count": null,
   "metadata": {},
   "outputs": [],
   "source": []
  },
  {
   "cell_type": "code",
   "execution_count": 14,
   "metadata": {},
   "outputs": [
    {
     "data": {
      "text/html": [
       "<div>\n",
       "<style scoped>\n",
       "    .dataframe tbody tr th:only-of-type {\n",
       "        vertical-align: middle;\n",
       "    }\n",
       "\n",
       "    .dataframe tbody tr th {\n",
       "        vertical-align: top;\n",
       "    }\n",
       "\n",
       "    .dataframe thead th {\n",
       "        text-align: right;\n",
       "    }\n",
       "</style>\n",
       "<table border=\"1\" class=\"dataframe\">\n",
       "  <thead>\n",
       "    <tr style=\"text-align: right;\">\n",
       "      <th></th>\n",
       "      <th>customer_id</th>\n",
       "      <th>senior_citizen</th>\n",
       "      <th>partner</th>\n",
       "      <th>dependents</th>\n",
       "      <th>tenure</th>\n",
       "      <th>phone_service</th>\n",
       "      <th>multiple_lines</th>\n",
       "      <th>internet_service_type_id</th>\n",
       "      <th>online_security</th>\n",
       "      <th>online_backup</th>\n",
       "      <th>...</th>\n",
       "      <th>streaming_movies</th>\n",
       "      <th>contract_type_id</th>\n",
       "      <th>payment_type_id</th>\n",
       "      <th>monthly_charges</th>\n",
       "      <th>total_charges</th>\n",
       "      <th>churn</th>\n",
       "      <th>gender</th>\n",
       "      <th>device_protection</th>\n",
       "      <th>tech_support</th>\n",
       "      <th>paperless_billing</th>\n",
       "    </tr>\n",
       "  </thead>\n",
       "  <tbody>\n",
       "    <tr>\n",
       "      <th>0</th>\n",
       "      <td>0002-ORFBO</td>\n",
       "      <td>0</td>\n",
       "      <td>Yes</td>\n",
       "      <td>Yes</td>\n",
       "      <td>9</td>\n",
       "      <td>Yes</td>\n",
       "      <td>No</td>\n",
       "      <td>1</td>\n",
       "      <td>No</td>\n",
       "      <td>Yes</td>\n",
       "      <td>...</td>\n",
       "      <td>No</td>\n",
       "      <td>2</td>\n",
       "      <td>2</td>\n",
       "      <td>65.6</td>\n",
       "      <td>593.30</td>\n",
       "      <td>No</td>\n",
       "      <td>0</td>\n",
       "      <td>0</td>\n",
       "      <td>2</td>\n",
       "      <td>1</td>\n",
       "    </tr>\n",
       "    <tr>\n",
       "      <th>1</th>\n",
       "      <td>0003-MKNFE</td>\n",
       "      <td>0</td>\n",
       "      <td>No</td>\n",
       "      <td>No</td>\n",
       "      <td>9</td>\n",
       "      <td>Yes</td>\n",
       "      <td>Yes</td>\n",
       "      <td>1</td>\n",
       "      <td>No</td>\n",
       "      <td>No</td>\n",
       "      <td>...</td>\n",
       "      <td>Yes</td>\n",
       "      <td>1</td>\n",
       "      <td>2</td>\n",
       "      <td>59.9</td>\n",
       "      <td>542.40</td>\n",
       "      <td>No</td>\n",
       "      <td>1</td>\n",
       "      <td>0</td>\n",
       "      <td>0</td>\n",
       "      <td>0</td>\n",
       "    </tr>\n",
       "    <tr>\n",
       "      <th>2</th>\n",
       "      <td>0004-TLHLJ</td>\n",
       "      <td>0</td>\n",
       "      <td>No</td>\n",
       "      <td>No</td>\n",
       "      <td>4</td>\n",
       "      <td>Yes</td>\n",
       "      <td>No</td>\n",
       "      <td>2</td>\n",
       "      <td>No</td>\n",
       "      <td>No</td>\n",
       "      <td>...</td>\n",
       "      <td>No</td>\n",
       "      <td>1</td>\n",
       "      <td>1</td>\n",
       "      <td>73.9</td>\n",
       "      <td>280.85</td>\n",
       "      <td>Yes</td>\n",
       "      <td>1</td>\n",
       "      <td>2</td>\n",
       "      <td>0</td>\n",
       "      <td>1</td>\n",
       "    </tr>\n",
       "    <tr>\n",
       "      <th>3</th>\n",
       "      <td>0011-IGKFF</td>\n",
       "      <td>1</td>\n",
       "      <td>Yes</td>\n",
       "      <td>No</td>\n",
       "      <td>13</td>\n",
       "      <td>Yes</td>\n",
       "      <td>No</td>\n",
       "      <td>2</td>\n",
       "      <td>No</td>\n",
       "      <td>Yes</td>\n",
       "      <td>...</td>\n",
       "      <td>Yes</td>\n",
       "      <td>1</td>\n",
       "      <td>1</td>\n",
       "      <td>98.0</td>\n",
       "      <td>1237.85</td>\n",
       "      <td>Yes</td>\n",
       "      <td>1</td>\n",
       "      <td>2</td>\n",
       "      <td>0</td>\n",
       "      <td>1</td>\n",
       "    </tr>\n",
       "    <tr>\n",
       "      <th>4</th>\n",
       "      <td>0013-EXCHZ</td>\n",
       "      <td>1</td>\n",
       "      <td>Yes</td>\n",
       "      <td>No</td>\n",
       "      <td>3</td>\n",
       "      <td>Yes</td>\n",
       "      <td>No</td>\n",
       "      <td>2</td>\n",
       "      <td>No</td>\n",
       "      <td>No</td>\n",
       "      <td>...</td>\n",
       "      <td>No</td>\n",
       "      <td>1</td>\n",
       "      <td>2</td>\n",
       "      <td>83.9</td>\n",
       "      <td>267.40</td>\n",
       "      <td>Yes</td>\n",
       "      <td>0</td>\n",
       "      <td>0</td>\n",
       "      <td>2</td>\n",
       "      <td>1</td>\n",
       "    </tr>\n",
       "  </tbody>\n",
       "</table>\n",
       "<p>5 rows × 21 columns</p>\n",
       "</div>"
      ],
      "text/plain": [
       "  customer_id  senior_citizen partner dependents  tenure phone_service  \\\n",
       "0  0002-ORFBO               0     Yes        Yes       9           Yes   \n",
       "1  0003-MKNFE               0      No         No       9           Yes   \n",
       "2  0004-TLHLJ               0      No         No       4           Yes   \n",
       "3  0011-IGKFF               1     Yes         No      13           Yes   \n",
       "4  0013-EXCHZ               1     Yes         No       3           Yes   \n",
       "\n",
       "  multiple_lines  internet_service_type_id online_security online_backup  \\\n",
       "0             No                         1              No           Yes   \n",
       "1            Yes                         1              No            No   \n",
       "2             No                         2              No            No   \n",
       "3             No                         2              No           Yes   \n",
       "4             No                         2              No            No   \n",
       "\n",
       "         ...         streaming_movies contract_type_id  payment_type_id  \\\n",
       "0        ...                       No                2                2   \n",
       "1        ...                      Yes                1                2   \n",
       "2        ...                       No                1                1   \n",
       "3        ...                      Yes                1                1   \n",
       "4        ...                       No                1                2   \n",
       "\n",
       "   monthly_charges  total_charges  churn gender  device_protection  \\\n",
       "0             65.6         593.30     No      0                  0   \n",
       "1             59.9         542.40     No      1                  0   \n",
       "2             73.9         280.85    Yes      1                  2   \n",
       "3             98.0        1237.85    Yes      1                  2   \n",
       "4             83.9         267.40    Yes      0                  0   \n",
       "\n",
       "   tech_support  paperless_billing  \n",
       "0             2                  1  \n",
       "1             0                  0  \n",
       "2             0                  1  \n",
       "3             0                  1  \n",
       "4             2                  1  \n",
       "\n",
       "[5 rows x 21 columns]"
      ]
     },
     "execution_count": 14,
     "metadata": {},
     "output_type": "execute_result"
    }
   ],
   "source": [
    "df.head()"
   ]
  },
  {
   "cell_type": "code",
   "execution_count": null,
   "metadata": {},
   "outputs": [],
   "source": []
  },
  {
   "cell_type": "code",
   "execution_count": 15,
   "metadata": {},
   "outputs": [
    {
     "data": {
      "text/plain": [
       "Index(['customer_id', 'senior_citizen', 'partner', 'dependents', 'tenure',\n",
       "       'phone_service', 'multiple_lines', 'internet_service_type_id',\n",
       "       'online_security', 'online_backup', 'streaming_tv', 'streaming_movies',\n",
       "       'contract_type_id', 'payment_type_id', 'monthly_charges',\n",
       "       'total_charges', 'churn', 'gender', 'device_protection', 'tech_support',\n",
       "       'paperless_billing'],\n",
       "      dtype='object')"
      ]
     },
     "execution_count": 15,
     "metadata": {},
     "output_type": "execute_result"
    }
   ],
   "source": [
    "df.columns"
   ]
  },
  {
   "cell_type": "code",
   "execution_count": null,
   "metadata": {},
   "outputs": [],
   "source": []
  }
 ],
 "metadata": {
  "kernelspec": {
   "display_name": "Python 3",
   "language": "python",
   "name": "python3"
  },
  "language_info": {
   "codemirror_mode": {
    "name": "ipython",
    "version": 3
   },
   "file_extension": ".py",
   "mimetype": "text/x-python",
   "name": "python",
   "nbconvert_exporter": "python",
   "pygments_lexer": "ipython3",
   "version": "3.7.1"
  }
 },
 "nbformat": 4,
 "nbformat_minor": 2
}
