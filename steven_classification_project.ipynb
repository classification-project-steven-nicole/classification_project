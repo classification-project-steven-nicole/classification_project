{
 "cells": [
  {
   "cell_type": "markdown",
   "metadata": {},
   "source": [
    "# Churn Drivers"
   ]
  },
  {
   "cell_type": "code",
   "execution_count": 1,
   "metadata": {},
   "outputs": [],
   "source": [
    "from sklearn.preprocessing import MinMaxScaler\n",
    "from sklearn.model_selection import train_test_split\n",
    "from sklearn.linear_model import LogisticRegression\n",
    "import graphviz\n",
    "import pandas as pd\n",
    "import seaborn as sns\n",
    "import numpy as np\n",
    "import matplotlib.pyplot as plt\n",
    "%matplotlib inline\n",
    "from scipy.stats import ttest_ind, pearsonr\n",
    "\n",
    "\n",
    "from sklearn.linear_model import LogisticRegression\n",
    "from sklearn.tree import DecisionTreeClassifier\n",
    "from sklearn.ensemble import RandomForestClassifier\n",
    "from sklearn.neighbors import KNeighborsClassifier\n",
    "\n",
    "from sklearn.metrics import classification_report\n",
    "from sklearn.metrics import confusion_matrix\n",
    "\n",
    "\n",
    "import warnings\n",
    "warnings.filterwarnings(\"ignore\")\n",
    "import prep\n",
    "\n"
   ]
  },
  {
   "cell_type": "markdown",
   "metadata": {},
   "source": [
    "# Hypotheses\n",
    "\n",
    "- The month in which a customer signs up will have an impact on the rate of churn.\n",
    "- Features like internet service, type of phone service, online security and backup, senior citizens will affect the rate of churn.\n",
    "- There will be a price point on some of the serves where churn will increse.\n",
    "- The contract plan will affect the rate of churn."
   ]
  },
  {
   "cell_type": "markdown",
   "metadata": {},
   "source": [
    "# Acquisition\n"
   ]
  },
  {
   "cell_type": "code",
   "execution_count": 2,
   "metadata": {},
   "outputs": [],
   "source": [
    "# Get churn data from customers table\n",
    "df = pd.read_csv('telco_churn_customers.csv')\n",
    "df = prep.prep_telco(df)"
   ]
  },
  {
   "cell_type": "code",
   "execution_count": 3,
   "metadata": {},
   "outputs": [],
   "source": [
    "df.drop(columns='customer_id', axis=1, inplace=True)"
   ]
  },
  {
   "cell_type": "code",
   "execution_count": 4,
   "metadata": {},
   "outputs": [],
   "source": [
    "def peekatdata(dataframe):\n",
    "    head_df = df.head()\n",
    "    tail_df = df.tail()\n",
    "    head_tail = head_df.append(tail_df)\n",
    "    print('Head and Tail\\n\\n', head_tail)\n",
    "    print('--'*55)\n",
    "    shape_tuple = df.shape\n",
    "    print('Shape\\n\\n', shape_tuple)\n",
    "    print('--'*20)\n",
    "    describe_df = df.describe()\n",
    "    print('Describe\\n\\n', describe_df)\n",
    "    print('--'*20)\n",
    "    print('Index\\n\\n', df.index)\n",
    "    print('--'*20)\n",
    "    print('Data Types\\n\\n', df.dtypes)\n",
    "    print('--'*20)\n",
    "    print('Null Value Count\\n\\n', df.isnull().sum())\n",
    "    print('--'*55)\n",
    "    print('Memory\\n\\n', df.memory_usage)"
   ]
  },
  {
   "cell_type": "markdown",
   "metadata": {},
   "source": [
    "# Data Prep\n"
   ]
  },
  {
   "cell_type": "code",
   "execution_count": 5,
   "metadata": {},
   "outputs": [],
   "source": [
    "def df_value_counts(df):\n",
    "    for col in df.columns: \n",
    "        n = df[col].unique().shape[0] \n",
    "        col_bins = min(n,10) \n",
    "        if df[col].dtype in ['int64','float64'] and n > 10:\n",
    "            print('%s:' % col)\n",
    "            print(df[col].value_counts(bins=col_bins, sort=False)) \n",
    "        else: \n",
    "            print(df[col].value_counts()) \n",
    "        print('\\n')\n"
   ]
  },
  {
   "cell_type": "markdown",
   "metadata": {},
   "source": [
    "### Missing Values\n",
    "\n",
    "We only found a few missing values in the total_charges column where tenure was 0. There was an empty string in that field so we replaced it with a 0 since a customer with 0 tenure would have 0 total charges due. Could not find any other nulls or NaNs. \n",
    "\n"
   ]
  },
  {
   "cell_type": "code",
   "execution_count": 6,
   "metadata": {},
   "outputs": [],
   "source": [
    "# Split the data into train (70%) & test (30%) samples.\n",
    "X = df.drop(['churn'], axis=1)\n",
    "y = df[['churn']]\n",
    "\n",
    "X_train, X_test, y_train, y_test = train_test_split(X, y, test_size=.30, random_state=123, stratify= y)\n"
   ]
  },
  {
   "cell_type": "code",
   "execution_count": 7,
   "metadata": {},
   "outputs": [],
   "source": [
    "# Numeric Scaling: scale the monthly_charges and total_charges data. Make sure that the parameters for scaling \n",
    "# are learned from the training data set.\n",
    "scaler = MinMaxScaler()\n",
    "scaler.fit(X_train[['monthly_charges', 'total_charges']])\n",
    "\n",
    "X_train[['monthly_charges', 'total_charges']] = scaler.transform(X_train[['monthly_charges', 'total_charges']])\n",
    "X_test[['monthly_charges', 'total_charges']] = scaler.transform(X_test[['monthly_charges', 'total_charges']])"
   ]
  },
  {
   "cell_type": "code",
   "execution_count": 8,
   "metadata": {},
   "outputs": [],
   "source": [
    "train = pd.concat([X_train, y_train], axis=1)\n",
    "test = pd.concat([X_test, y_test], axis=1)"
   ]
  },
  {
   "cell_type": "markdown",
   "metadata": {},
   "source": [
    "# Data Exploration\n"
   ]
  },
  {
   "cell_type": "code",
   "execution_count": 9,
   "metadata": {},
   "outputs": [],
   "source": [
    "train['cumsum_churn'] = train.churn.cumsum()\n",
    "train['rate_churn'] = train.cumsum_churn/train.churn.count()"
   ]
  },
  {
   "cell_type": "code",
   "execution_count": 10,
   "metadata": {},
   "outputs": [
    {
     "data": {
      "image/png": "[encoded data removed]",
      "text/plain": [
       "<Figure size 576x432 with 1 Axes>"
      ]
     },
     "metadata": {
      "needs_background": "light"
     },
     "output_type": "display_data"
    }
   ],
   "source": [
    "# Could the month in which they signed up influence churn? i.e. if a cohort is identified by tenure, is there a \n",
    "# cohort or cohorts who have a higher rate of churn than other cohorts? (Plot the rate of churn on a line chart \n",
    "# where x is the tenure and y is the rate of churn (customers churned/total customers)).\n",
    "\n",
    "bins = [12, 24, 32, 48, 60, 72]\n",
    "train['tenure_months'] = pd.cut(train['tenure'], bins)\n",
    "\n",
    "bins = [0, 12, 24, 32, 48, 60, 72]\n",
    "labels = ['12', '24', '32', '48', '60', '72']\n",
    "train['tenure_months'] = pd.cut(train['tenure'], bins=bins, labels=labels).where(train.churn == 1)\n",
    "\n",
    "df1 = train.groupby('tenure_months')['churn'].count()\n",
    "df1 = pd.DataFrame(df1)\n",
    "df1 = df1.reset_index()\n",
    "df1\n",
    "\n",
    "plt.figure(figsize=(8,6))\n",
    "ax = sns.lineplot(x=\"tenure_months\", y=\"churn\",data=df1)"
   ]
  },
  {
   "cell_type": "markdown",
   "metadata": {},
   "source": [
    "Are there features that indicate a higher propensity to churn? like type of internet service, type of phone service, online security and backup, senior citizens, paying more than x% of customers with the same services, etc.?\n",
    "\n",
    "- A few of the features have a much higher percentage for churn:\n",
    "- internet_service_type_id, contract_type_id, payment_type_id, device_protection, tech_support, senior_citizen"
   ]
  },
  {
   "cell_type": "code",
   "execution_count": 11,
   "metadata": {},
   "outputs": [
    {
     "data": {
      "text/plain": [
       "<matplotlib.axes._subplots.AxesSubplot at 0x1a189df550>"
      ]
     },
     "execution_count": 11,
     "metadata": {},
     "output_type": "execute_result"
    },
    {
     "data": {
      "image/png": "[encoded data removed]",
      "text/plain": [
       "<Figure size 1296x864 with 6 Axes>"
      ]
     },
     "metadata": {
      "needs_background": "light"
     },
     "output_type": "display_data"
    }
   ],
   "source": [
    "plt.figure(figsize=(18,12))\n",
    "\n",
    "plt.subplot(331)\n",
    "sns.barplot(x=train.internet_service_type_id, y=train.churn)\n",
    "\n",
    "plt.subplot(332)\n",
    "sns.barplot(x=train.contract_type_id, y=train.churn)\n",
    "\n",
    "plt.subplot(333)\n",
    "sns.barplot(x=train.payment_type_id, y=train.churn)\n",
    "\n",
    "plt.subplot(334)\n",
    "sns.barplot(x=train.device_protection, y=train.churn)\n",
    "\n",
    "plt.subplot(335)\n",
    "sns.barplot(x=train.tech_support, y=train.churn)\n",
    "\n",
    "plt.subplot(336)\n",
    "sns.barplot(x=train.senior_citizen, y=train.churn)"
   ]
  },
  {
   "cell_type": "markdown",
   "metadata": {},
   "source": [
    "Is there a price threshold for specific services where the likelihood of churn increases once price for those services goes past that point? If so, what is that point for what service(s)?"
   ]
  },
  {
   "cell_type": "code",
   "execution_count": 12,
   "metadata": {},
   "outputs": [
    {
     "name": "stdout",
     "output_type": "stream",
     "text": [
      "Rate of churn for month-to-month: 33.53%\n",
      "Rate of churn for 1+ years: 11.48%\n"
     ]
    }
   ],
   "source": [
    "# If we looked at churn rate for month-to-month customers after the 12th month and that of 1-year contract customers\n",
    "# after the 12th month, are those rates comparable?\n",
    "\n",
    "mtm = train[train.contract_type_id == 1]\n",
    "mtm_after12 = mtm[mtm.tenure_year > 1]\n",
    "\n",
    "mtmc = mtm_after12.churn.value_counts()\n",
    "mtmc\n",
    "\n",
    "print('Rate of churn for month-to-month: {:.2%}'.format(mtmc[1]/(mtmc[0]+mtmc[1])))\n",
    "\n",
    "one_year = train[train.contract_type_id == 2]\n",
    "one_year_after12 = one_year[one_year.tenure_year > 1]\n",
    "\n",
    "one_yearc = one_year_after12.churn.value_counts()\n",
    "one_yearc\n",
    "\n",
    "print('Rate of churn for 1+ years: {:.2%}'.format(one_yearc[1]/(one_yearc[0]+one_yearc[1])))"
   ]
  },
  {
   "cell_type": "markdown",
   "metadata": {},
   "source": [
    "Controlling for services (phone_id, internet_service_type_id, online_security_backup, device_protection, tech_support, and contract_type_id), is the mean monthly_charges of those who have churned significantly different from that of those who have not churned? (Use a t-test to answer this.)\n",
    "\n",
    "- statistic: 13.57\n",
    "- pvalue: 3.18e-41\n",
    "- From the TTest we can conclude there is a significantly difference between the two."
   ]
  },
  {
   "cell_type": "code",
   "execution_count": 13,
   "metadata": {},
   "outputs": [],
   "source": [
    "# Getting customers who have duplicate services.\n",
    "\n",
    "dups = train[train.duplicated(['phone_id', \n",
    "                               'internet_service_type_id', \n",
    "                               'online_security_backup',\n",
    "                               'device_protection', \n",
    "                               'tech_support', \n",
    "                               'contract_type_id'],\n",
    "                                keep=False)]\n"
   ]
  },
  {
   "cell_type": "code",
   "execution_count": 14,
   "metadata": {},
   "outputs": [],
   "source": [
    "# Finding the monthly_charges for the ones who have churned/not\n",
    "\n",
    "churn = dups.loc[dups['churn'] == 1]['monthly_charges']\n",
    "no_churn = dups.loc[dups['churn'] == 0]['monthly_charges']"
   ]
  },
  {
   "cell_type": "code",
   "execution_count": 15,
   "metadata": {},
   "outputs": [
    {
     "data": {
      "text/plain": [
       "Ttest_indResult(statistic=13.780089052045543, pvalue=2.039715011078695e-42)"
      ]
     },
     "execution_count": 15,
     "metadata": {},
     "output_type": "execute_result"
    }
   ],
   "source": [
    "# T test on the mean monthly_charges\n",
    "\n",
    "ttest_ind(churn,no_churn)"
   ]
  },
  {
   "cell_type": "markdown",
   "metadata": {},
   "source": [
    "How much of monthly_charges can be explained by internet_service_type? (hint: correlation test). State your hypotheses and your conclusion clearly.\n",
    "\n",
    "- hypotheses: The internet_service_type will have an impact on the amount of monthly_charges. \n",
    "- conclusion: 31.9% of the varriance in monthly_charges can be explained by the internet_service_type."
   ]
  },
  {
   "cell_type": "code",
   "execution_count": 16,
   "metadata": {},
   "outputs": [
    {
     "data": {
      "text/plain": [
       "(-0.3236727414058814, 1.3145249985768094e-120)"
      ]
     },
     "execution_count": 16,
     "metadata": {},
     "output_type": "execute_result"
    }
   ],
   "source": [
    "pearsonr(train.monthly_charges, train.internet_service_type_id)"
   ]
  },
  {
   "cell_type": "code",
   "execution_count": 17,
   "metadata": {},
   "outputs": [],
   "source": [
    "# plt.figure(figsize=(20,20))\n",
    "# sns.heatmap(train.corr(), annot=True, cmap='Greens')"
   ]
  },
  {
   "cell_type": "code",
   "execution_count": 18,
   "metadata": {},
   "outputs": [],
   "source": [
    "# pd.crosstab(train.churn, train.contract_type_id, margins=True, normalize=True).style.background_gradient(cmap='YlOrRd')\n"
   ]
  },
  {
   "cell_type": "code",
   "execution_count": 19,
   "metadata": {},
   "outputs": [],
   "source": [
    "# scatter = pd.scatter_matrix(\n",
    "#     train.drop(['customer_id'], axis=1), marker='o', s=40,\n",
    "#     hist_kwds={'bins':15},  figsize=(25,25))"
   ]
  },
  {
   "cell_type": "code",
   "execution_count": 20,
   "metadata": {},
   "outputs": [],
   "source": [
    "# sns.swarmplot(data=train, x='contract_type_id', y='monthly_charges', hue='churn')\n",
    "# plt.legend(bbox_to_anchor=(1.05, 1), loc=2, borderaxespad=0.)\n"
   ]
  },
  {
   "cell_type": "code",
   "execution_count": 21,
   "metadata": {},
   "outputs": [],
   "source": [
    "# sns.pairplot(data=train)"
   ]
  },
  {
   "cell_type": "code",
   "execution_count": 22,
   "metadata": {},
   "outputs": [],
   "source": [
    "# sns.jointplot(x=train.monthly_charges, y=train.rate_churn, data=train)"
   ]
  },
  {
   "cell_type": "code",
   "execution_count": 23,
   "metadata": {},
   "outputs": [],
   "source": [
    "# sns.relplot(data=train, x='tenure', y='total_charges', hue='churn')"
   ]
  },
  {
   "cell_type": "code",
   "execution_count": 24,
   "metadata": {},
   "outputs": [],
   "source": [
    "# sns.distplot(train.tenure)"
   ]
  },
  {
   "cell_type": "code",
   "execution_count": 25,
   "metadata": {},
   "outputs": [],
   "source": [
    "# sns.distplot(train.contract_type_id)"
   ]
  },
  {
   "cell_type": "code",
   "execution_count": 26,
   "metadata": {},
   "outputs": [],
   "source": [
    "# sns.boxplot(data=train[['monthly_charges', 'total_charges']])\n"
   ]
  },
  {
   "cell_type": "code",
   "execution_count": 27,
   "metadata": {},
   "outputs": [],
   "source": [
    "# with sns.axes_style('white'):\n",
    "#     j = sns.jointplot(\"monthly_charges\", \"churn\", data=train, kind='reg', height=5);\n",
    "#     j.annotate(pearsonr)\n",
    "# plt.show()"
   ]
  },
  {
   "cell_type": "code",
   "execution_count": 28,
   "metadata": {},
   "outputs": [],
   "source": [
    "# g = sns.PairGrid(train)\n",
    "# g.map_diag(plt.hist)\n",
    "# g.map_offdiag(plt.scatter);"
   ]
  },
  {
   "cell_type": "code",
   "execution_count": null,
   "metadata": {},
   "outputs": [],
   "source": [
    "\n"
   ]
  },
  {
   "cell_type": "markdown",
   "metadata": {},
   "source": [
    "\n",
    "- According to the above, the variables that do not have a strong enough correlation are gender, steaming services, house type,  and phone_id. We will drop these for our analysis. \n",
    "- The variables that do have a significant effect on churn rate are internet_service_type_id, contract_type_id, payment_type_id, device_protection, tech_support, and senior_citizen. We will focus on these fetures.  \n"
   ]
  },
  {
   "cell_type": "markdown",
   "metadata": {},
   "source": [
    "- internet_service_type_id: Faster plans have higher cost and higher monthly bills drive churn.\n",
    "- contract_type_id: month to month have the freedom to churn whenever so if they have higher monthly bills they are free to leave. \n",
    "- payment_type_id: \n",
    "- device_protection: Broken devices can lead them to leave \n",
    "- tech_support: No support can leadto frustration and cause them to churn\n",
    "- senior_citizen: More likely to stop service for health/moving issues."
   ]
  },
  {
   "cell_type": "markdown",
   "metadata": {},
   "source": [
    "### Feature Engineer\n",
    "\n",
    "- total_charges can be found from combing tenure and monthly_charges so we will drop that one to avoid repeating data\n"
   ]
  },
  {
   "cell_type": "code",
   "execution_count": null,
   "metadata": {},
   "outputs": [],
   "source": []
  },
  {
   "cell_type": "code",
   "execution_count": 29,
   "metadata": {},
   "outputs": [],
   "source": [
    "train = train.drop(columns= ['total_charges', \n",
    "           'tenure_year', \n",
    "           'household_type_id', \n",
    "           'streaming_services', \n",
    "           'phone_id', \n",
    "           'online_security_backup',\n",
    "           'gender',\n",
    "           'cumsum_churn',\n",
    "           'rate_churn',\n",
    "           'tenure_months',\n",
    "           'churn',\n",
    "           'senior_citizen'], axis=1)"
   ]
  },
  {
   "cell_type": "code",
   "execution_count": 30,
   "metadata": {},
   "outputs": [
    {
     "data": {
      "text/html": [
       "<div>\n",
       "<style scoped>\n",
       "    .dataframe tbody tr th:only-of-type {\n",
       "        vertical-align: middle;\n",
       "    }\n",
       "\n",
       "    .dataframe tbody tr th {\n",
       "        vertical-align: top;\n",
       "    }\n",
       "\n",
       "    .dataframe thead th {\n",
       "        text-align: right;\n",
       "    }\n",
       "</style>\n",
       "<table border=\"1\" class=\"dataframe\">\n",
       "  <thead>\n",
       "    <tr style=\"text-align: right;\">\n",
       "      <th></th>\n",
       "      <th>tenure</th>\n",
       "      <th>internet_service_type_id</th>\n",
       "      <th>contract_type_id</th>\n",
       "      <th>payment_type_id</th>\n",
       "      <th>monthly_charges</th>\n",
       "      <th>device_protection</th>\n",
       "      <th>tech_support</th>\n",
       "      <th>paperless_billing</th>\n",
       "    </tr>\n",
       "  </thead>\n",
       "  <tbody>\n",
       "    <tr>\n",
       "      <th>4953</th>\n",
       "      <td>55</td>\n",
       "      <td>3</td>\n",
       "      <td>2</td>\n",
       "      <td>1</td>\n",
       "      <td>0.014428</td>\n",
       "      <td>1</td>\n",
       "      <td>1</td>\n",
       "      <td>0</td>\n",
       "    </tr>\n",
       "    <tr>\n",
       "      <th>534</th>\n",
       "      <td>66</td>\n",
       "      <td>2</td>\n",
       "      <td>2</td>\n",
       "      <td>3</td>\n",
       "      <td>0.894030</td>\n",
       "      <td>2</td>\n",
       "      <td>0</td>\n",
       "      <td>0</td>\n",
       "    </tr>\n",
       "    <tr>\n",
       "      <th>172</th>\n",
       "      <td>66</td>\n",
       "      <td>1</td>\n",
       "      <td>3</td>\n",
       "      <td>3</td>\n",
       "      <td>0.321393</td>\n",
       "      <td>0</td>\n",
       "      <td>2</td>\n",
       "      <td>0</td>\n",
       "    </tr>\n",
       "    <tr>\n",
       "      <th>3710</th>\n",
       "      <td>68</td>\n",
       "      <td>3</td>\n",
       "      <td>3</td>\n",
       "      <td>3</td>\n",
       "      <td>0.057214</td>\n",
       "      <td>1</td>\n",
       "      <td>1</td>\n",
       "      <td>1</td>\n",
       "    </tr>\n",
       "    <tr>\n",
       "      <th>1574</th>\n",
       "      <td>57</td>\n",
       "      <td>2</td>\n",
       "      <td>2</td>\n",
       "      <td>4</td>\n",
       "      <td>0.820896</td>\n",
       "      <td>2</td>\n",
       "      <td>0</td>\n",
       "      <td>1</td>\n",
       "    </tr>\n",
       "  </tbody>\n",
       "</table>\n",
       "</div>"
      ],
      "text/plain": [
       "      tenure  internet_service_type_id  contract_type_id  payment_type_id  \\\n",
       "4953      55                         3                 2                1   \n",
       "534       66                         2                 2                3   \n",
       "172       66                         1                 3                3   \n",
       "3710      68                         3                 3                3   \n",
       "1574      57                         2                 2                4   \n",
       "\n",
       "      monthly_charges  device_protection  tech_support  paperless_billing  \n",
       "4953         0.014428                  1             1                  0  \n",
       "534          0.894030                  2             0                  0  \n",
       "172          0.321393                  0             2                  0  \n",
       "3710         0.057214                  1             1                  1  \n",
       "1574         0.820896                  2             0                  1  "
      ]
     },
     "execution_count": 30,
     "metadata": {},
     "output_type": "execute_result"
    }
   ],
   "source": [
    "train.head()"
   ]
  },
  {
   "cell_type": "code",
   "execution_count": 31,
   "metadata": {},
   "outputs": [
    {
     "data": {
      "text/plain": [
       "(4930, 1)"
      ]
     },
     "execution_count": 31,
     "metadata": {},
     "output_type": "execute_result"
    }
   ],
   "source": [
    "y_train.shape"
   ]
  },
  {
   "cell_type": "markdown",
   "metadata": {},
   "source": [
    "# Modeling"
   ]
  },
  {
   "cell_type": "markdown",
   "metadata": {},
   "source": [
    "### Logistic Regression"
   ]
  },
  {
   "cell_type": "code",
   "execution_count": 32,
   "metadata": {},
   "outputs": [
    {
     "name": "stdout",
     "output_type": "stream",
     "text": [
      "Accuracy of Logistic Regression classifier on training set: 0.79\n",
      "[[3243  379]\n",
      " [ 647  661]]\n",
      "              precision    recall  f1-score   support\n",
      "\n",
      "           0       0.83      0.90      0.86      3622\n",
      "           1       0.64      0.51      0.56      1308\n",
      "\n",
      "   micro avg       0.79      0.79      0.79      4930\n",
      "   macro avg       0.73      0.70      0.71      4930\n",
      "weighted avg       0.78      0.79      0.78      4930\n",
      "\n"
     ]
    }
   ],
   "source": [
    "# All fetures with no HP\n",
    "\n",
    "logis = LogisticRegression(random_state = 123)\n",
    "logis.fit(train, y_train)\n",
    "y_pred_logis = logis.predict(train)\n",
    "print('Accuracy of Logistic Regression classifier on training set: {:.2f}'\n",
    "     .format(logis.score(train, y_train)))\n",
    "print(confusion_matrix(y_train, y_pred_logis))\n",
    "print(classification_report(y_train, y_pred_logis))\n",
    "\n"
   ]
  },
  {
   "cell_type": "code",
   "execution_count": null,
   "metadata": {},
   "outputs": [],
   "source": []
  },
  {
   "cell_type": "code",
   "execution_count": null,
   "metadata": {},
   "outputs": [],
   "source": [
    "\n"
   ]
  },
  {
   "cell_type": "code",
   "execution_count": null,
   "metadata": {},
   "outputs": [],
   "source": []
  },
  {
   "cell_type": "code",
   "execution_count": null,
   "metadata": {},
   "outputs": [],
   "source": []
  },
  {
   "cell_type": "code",
   "execution_count": null,
   "metadata": {},
   "outputs": [],
   "source": []
  },
  {
   "cell_type": "markdown",
   "metadata": {},
   "source": [
    "### Decision Tree"
   ]
  },
  {
   "cell_type": "code",
   "execution_count": 65,
   "metadata": {},
   "outputs": [
    {
     "name": "stdout",
     "output_type": "stream",
     "text": [
      "Accuracy of Decision Tree classifier on training set: 0.99\n",
      "[[3620    2]\n",
      " [  23 1285]]\n",
      "0.05521811154058532\n",
      "1.7584097859327217\n"
     ]
    }
   ],
   "source": [
    "# All fetures with no HP\n",
    "\n",
    "dtc = DecisionTreeClassifier(random_state = 123)\n",
    "dtc.fit(train, y_train)\n",
    "y_pred_dtc = dtc.predict(train)\n",
    "print('Accuracy of Decision Tree classifier on training set: {:.2f}'\n",
    "     .format(dtc.score(train, y_train)))\n",
    "\n",
    "cm = confusion_matrix(y_train, y_pred_dtc)\n",
    "print(cm)\n",
    "# print(classification_report(y_train, y_pred_knn))\n",
    "tn = cm[0,0]\n",
    "tp = cm[1,1]\n",
    "fn = cm[1,0]\n",
    "fp = cm[0,1]\n",
    "total = cm.sum()\n",
    "accuracy = ((tn + tp)/total)*100\n",
    "print((fp/(fp + tn))*100)\n",
    "print((fn/(fn + tp))*100)"
   ]
  },
  {
   "cell_type": "code",
   "execution_count": 34,
   "metadata": {},
   "outputs": [
    {
     "name": "stdout",
     "output_type": "stream",
     "text": [
      "Accuracy of Decision Tree classifier on training set: 0.85\n",
      "[[3276  346]\n",
      " [ 386  922]]\n",
      "              precision    recall  f1-score   support\n",
      "\n",
      "           0       0.89      0.90      0.90      3622\n",
      "           1       0.73      0.70      0.72      1308\n",
      "\n",
      "   micro avg       0.85      0.85      0.85      4930\n",
      "   macro avg       0.81      0.80      0.81      4930\n",
      "weighted avg       0.85      0.85      0.85      4930\n",
      "\n"
     ]
    }
   ],
   "source": [
    "dtc2 = DecisionTreeClassifier(criterion='entropy', max_depth=10, random_state=123)\n",
    "dtc2.fit(train, y_train)\n",
    "y_pred_dtc2 = dtc2.predict(train)\n",
    "print('Accuracy of Decision Tree classifier on training set: {:.2f}'\n",
    "     .format(dtc2.score(train, y_train)))\n",
    "\n",
    "print(confusion_matrix(y_train, y_pred_dtc2))\n",
    "print(classification_report(y_train, y_pred_dtc2))"
   ]
  },
  {
   "cell_type": "code",
   "execution_count": null,
   "metadata": {},
   "outputs": [],
   "source": []
  },
  {
   "cell_type": "code",
   "execution_count": 35,
   "metadata": {},
   "outputs": [
    {
     "data": {
      "text/plain": [
       "(4930, 1)"
      ]
     },
     "execution_count": 35,
     "metadata": {},
     "output_type": "execute_result"
    }
   ],
   "source": [
    "y_train.shape"
   ]
  },
  {
   "cell_type": "markdown",
   "metadata": {},
   "source": [
    "### Random Forest\n"
   ]
  },
  {
   "cell_type": "code",
   "execution_count": 36,
   "metadata": {},
   "outputs": [
    {
     "name": "stdout",
     "output_type": "stream",
     "text": [
      "Accuracy of random forest classifier on training set: 0.97\n",
      "[[3597   25]\n",
      " [ 107 1201]]\n",
      "              precision    recall  f1-score   support\n",
      "\n",
      "           0       0.97      0.99      0.98      3622\n",
      "           1       0.98      0.92      0.95      1308\n",
      "\n",
      "   micro avg       0.97      0.97      0.97      4930\n",
      "   macro avg       0.98      0.96      0.96      4930\n",
      "weighted avg       0.97      0.97      0.97      4930\n",
      "\n"
     ]
    }
   ],
   "source": [
    "# All fetures with no HP\n",
    "\n",
    "rfc = RandomForestClassifier(random_state = 123)\n",
    "rfc.fit(train, y_train)\n",
    "y_pred_rfc = rfc.predict(train)\n",
    "print('Accuracy of random forest classifier on training set: {:.2f}'\n",
    "     .format(rfc.score(train, y_train)))\n",
    "\n",
    "print(confusion_matrix(y_train, y_pred_rfc))\n",
    "print(classification_report(y_train, y_pred_rfc))\n"
   ]
  },
  {
   "cell_type": "code",
   "execution_count": 37,
   "metadata": {},
   "outputs": [
    {
     "name": "stdout",
     "output_type": "stream",
     "text": [
      "Accuracy of random forest classifier on training set: 0.79\n",
      "[[3440  182]\n",
      " [ 862  446]]\n",
      "              precision    recall  f1-score   support\n",
      "\n",
      "           0       0.80      0.95      0.87      3622\n",
      "           1       0.71      0.34      0.46      1308\n",
      "\n",
      "   micro avg       0.79      0.79      0.79      4930\n",
      "   macro avg       0.75      0.65      0.66      4930\n",
      "weighted avg       0.78      0.79      0.76      4930\n",
      "\n"
     ]
    }
   ],
   "source": [
    "rfc2 = RandomForestClassifier(bootstrap=True, \n",
    "                              class_weight=None, \n",
    "                              criterion='gini',\n",
    "                              min_samples_leaf=3,\n",
    "                              n_estimators=100,\n",
    "                              max_depth=3, \n",
    "                              random_state=123)\n",
    "rfc2.fit(train, y_train)\n",
    "y_pred_rfc2 = rfc2.predict(train)\n",
    "print('Accuracy of random forest classifier on training set: {:.2f}'\n",
    "     .format(rfc2.score(train, y_train)))\n",
    "\n",
    "print(confusion_matrix(y_train, y_pred_rfc2))\n",
    "print(classification_report(y_train, y_pred_rfc2))\n"
   ]
  },
  {
   "cell_type": "code",
   "execution_count": null,
   "metadata": {},
   "outputs": [],
   "source": []
  },
  {
   "cell_type": "code",
   "execution_count": null,
   "metadata": {},
   "outputs": [],
   "source": []
  },
  {
   "cell_type": "markdown",
   "metadata": {},
   "source": [
    "### KNN"
   ]
  },
  {
   "cell_type": "code",
   "execution_count": 38,
   "metadata": {},
   "outputs": [
    {
     "name": "stdout",
     "output_type": "stream",
     "text": [
      "Accuracy of KNN classifier on training set: 0.84\n",
      "[[3301  321]\n",
      " [ 477  831]]\n",
      "6.511156186612577\n",
      "9.675456389452334\n"
     ]
    }
   ],
   "source": [
    "# All fetures with no HP\n",
    "\n",
    "knn = KNeighborsClassifier()\n",
    "knn.fit(train, y_train)\n",
    "y_pred_knn = knn.predict(train)\n",
    "print('Accuracy of KNN classifier on training set: {:.2f}'\n",
    "     .format(knn.score(train, y_train)))\n",
    "cm = confusion_matrix(y_train, y_pred_knn)\n",
    "print(cm)\n",
    "# print(classification_report(y_train, y_pred_knn))\n",
    "tn = cm[0,0]\n",
    "tp = cm[1,1]\n",
    "fn = cm[1,0]\n",
    "fp = cm[0,1]\n",
    "total = cm.sum()\n",
    "accuracy = ((tn + tp)/total)*100\n",
    "print((fp/total)*100)\n",
    "print((fn/total)*100)\n"
   ]
  },
  {
   "cell_type": "code",
   "execution_count": 64,
   "metadata": {},
   "outputs": [
    {
     "name": "stdout",
     "output_type": "stream",
     "text": [
      "Accuracy of KNN classifier on training set: 0.87\n",
      "[[3356  266]\n",
      " [ 371  937]]\n",
      "7.344008834897847\n",
      "28.363914373088683\n"
     ]
    }
   ],
   "source": [
    "knn2 = KNeighborsClassifier(n_neighbors=3, weights='uniform')\n",
    "knn2.fit(train, y_train)\n",
    "y_pred_knn2 = knn2.predict(train)\n",
    "print('Accuracy of KNN classifier on training set: {:.2f}'\n",
    "     .format(knn2.score(train, y_train)))\n",
    "cm = confusion_matrix(y_train, y_pred_knn2)\n",
    "print(cm)\n",
    "# print(classification_report(y_train, y_pred_knn))\n",
    "tn = cm[0,0]\n",
    "tp = cm[1,1]\n",
    "fn = cm[1,0]\n",
    "fp = cm[0,1]\n",
    "total = cm.sum()\n",
    "accuracy = ((tn + tp)/total)*100\n",
    "print((fp/(fp + tn))*100)\n",
    "print((fn/(fn + tp))*100)"
   ]
  },
  {
   "cell_type": "code",
   "execution_count": null,
   "metadata": {},
   "outputs": [],
   "source": []
  },
  {
   "cell_type": "code",
   "execution_count": 40,
   "metadata": {},
   "outputs": [
    {
     "data": {
      "text/plain": [
       "(4930, 8)"
      ]
     },
     "execution_count": 40,
     "metadata": {},
     "output_type": "execute_result"
    }
   ],
   "source": [
    "train.shape"
   ]
  },
  {
   "cell_type": "code",
   "execution_count": null,
   "metadata": {},
   "outputs": [],
   "source": []
  },
  {
   "cell_type": "code",
   "execution_count": 41,
   "metadata": {},
   "outputs": [
    {
     "data": {
      "text/plain": [
       "([<matplotlib.axis.XTick at 0x1a190ca320>,\n",
       "  <matplotlib.axis.XTick at 0x1a190c4c18>,\n",
       "  <matplotlib.axis.XTick at 0x1a190c4940>,\n",
       "  <matplotlib.axis.XTick at 0x1a17bfe668>,\n",
       "  <matplotlib.axis.XTick at 0x1a17bfeb00>],\n",
       " <a list of 5 Text xticklabel objects>)"
      ]
     },
     "execution_count": 41,
     "metadata": {},
     "output_type": "execute_result"
    },
    {
     "data": {
      "image/png": "[encoded data removed]",
      "text/plain": [
       "<Figure size 432x288 with 1 Axes>"
      ]
     },
     "metadata": {
      "needs_background": "light"
     },
     "output_type": "display_data"
    }
   ],
   "source": [
    "k_range = range(1, 20)\n",
    "scores = []\n",
    "for k in k_range:\n",
    "    knn = KNeighborsClassifier(n_neighbors = k)\n",
    "    knn.fit(train, y_train)\n",
    "    scores.append(knn.score(train, y_train))\n",
    "plt.figure()\n",
    "plt.xlabel('k')\n",
    "plt.ylabel('accuracy')\n",
    "plt.scatter(k_range, scores)\n",
    "plt.xticks([0,5,10,15,20])\n"
   ]
  },
  {
   "cell_type": "code",
   "execution_count": null,
   "metadata": {},
   "outputs": [],
   "source": []
  },
  {
   "cell_type": "code",
   "execution_count": null,
   "metadata": {},
   "outputs": [],
   "source": []
  },
  {
   "cell_type": "code",
   "execution_count": null,
   "metadata": {},
   "outputs": [],
   "source": []
  },
  {
   "cell_type": "code",
   "execution_count": null,
   "metadata": {},
   "outputs": [],
   "source": []
  },
  {
   "cell_type": "code",
   "execution_count": null,
   "metadata": {},
   "outputs": [],
   "source": []
  }
 ],
 "metadata": {
  "kernelspec": {
   "display_name": "Python 3",
   "language": "python",
   "name": "python3"
  },
  "language_info": {
   "codemirror_mode": {
    "name": "ipython",
    "version": 3
   },
   "file_extension": ".py",
   "mimetype": "text/x-python",
   "name": "python",
   "nbconvert_exporter": "python",
   "pygments_lexer": "ipython3",
   "version": "3.7.1"
  }
 },
 "nbformat": 4,
 "nbformat_minor": 2
}
